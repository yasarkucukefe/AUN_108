{
 "cells": [
  {
   "cell_type": "code",
   "execution_count": null,
   "id": "african-petroleum",
   "metadata": {},
   "outputs": [],
   "source": [
    "# Online Jupyter: https://jupyter.org/try"
   ]
  },
  {
   "cell_type": "code",
   "execution_count": 4,
   "id": "spiritual-senator",
   "metadata": {},
   "outputs": [
    {
     "ename": "TypeError",
     "evalue": "can only concatenate str (not \"int\") to str",
     "output_type": "error",
     "traceback": [
      "\u001b[1;31m---------------------------------------------------------------------------\u001b[0m",
      "\u001b[1;31mTypeError\u001b[0m                                 Traceback (most recent call last)",
      "\u001b[1;32m<ipython-input-4-e2a522719b26>\u001b[0m in \u001b[0;36m<module>\u001b[1;34m\u001b[0m\n\u001b[1;32m----> 1\u001b[1;33m \u001b[0mdeger\u001b[0m \u001b[1;33m=\u001b[0m \u001b[1;36m2\u001b[0m \u001b[1;33m*\u001b[0m \u001b[1;34m\"elma\"\u001b[0m \u001b[1;33m+\u001b[0m \u001b[1;36m1\u001b[0m\u001b[1;33m\u001b[0m\u001b[1;33m\u001b[0m\u001b[0m\n\u001b[0m\u001b[0;32m      2\u001b[0m \u001b[0mprint\u001b[0m\u001b[1;33m(\u001b[0m\u001b[0mdeger\u001b[0m\u001b[1;33m)\u001b[0m\u001b[1;33m\u001b[0m\u001b[1;33m\u001b[0m\u001b[0m\n",
      "\u001b[1;31mTypeError\u001b[0m: can only concatenate str (not \"int\") to str"
     ]
    }
   ],
   "source": [
    "deger = 2 * \"elma\" + 1\n",
    "print(deger)"
   ]
  },
  {
   "cell_type": "code",
   "execution_count": 2,
   "id": "latter-middle",
   "metadata": {},
   "outputs": [
    {
     "name": "stdout",
     "output_type": "stream",
     "text": [
      "elmaelma\n"
     ]
    }
   ],
   "source": [
    "print(deger)"
   ]
  },
  {
   "cell_type": "code",
   "execution_count": 5,
   "id": "dated-techno",
   "metadata": {},
   "outputs": [],
   "source": [
    "deger = str(2) + \"elma\""
   ]
  },
  {
   "cell_type": "code",
   "execution_count": null,
   "id": "adequate-break",
   "metadata": {},
   "outputs": [],
   "source": [
    "print(deger)"
   ]
  },
  {
   "cell_type": "code",
   "execution_count": null,
   "id": "removable-devil",
   "metadata": {},
   "outputs": [],
   "source": [
    "# elmaelma : Bilal, Enes, Mertcan,\n",
    "# hata : Nurullah"
   ]
  },
  {
   "cell_type": "markdown",
   "id": "handy-scientist",
   "metadata": {},
   "source": [
    "# Numpy"
   ]
  },
  {
   "cell_type": "code",
   "execution_count": 8,
   "id": "forty-nation",
   "metadata": {},
   "outputs": [],
   "source": [
    "import numpy as np"
   ]
  },
  {
   "cell_type": "code",
   "execution_count": 9,
   "id": "angry-toyota",
   "metadata": {},
   "outputs": [],
   "source": [
    "liste = [1, 2, 3]"
   ]
  },
  {
   "cell_type": "code",
   "execution_count": 10,
   "id": "owned-navigation",
   "metadata": {},
   "outputs": [
    {
     "data": {
      "text/plain": [
       "list"
      ]
     },
     "execution_count": 10,
     "metadata": {},
     "output_type": "execute_result"
    }
   ],
   "source": [
    "type(liste)"
   ]
  },
  {
   "cell_type": "code",
   "execution_count": 11,
   "id": "tender-effectiveness",
   "metadata": {},
   "outputs": [],
   "source": [
    "np_arr = np.array([1, 2, 3])"
   ]
  },
  {
   "cell_type": "code",
   "execution_count": 12,
   "id": "suspended-behavior",
   "metadata": {},
   "outputs": [
    {
     "data": {
      "text/plain": [
       "numpy.ndarray"
      ]
     },
     "execution_count": 12,
     "metadata": {},
     "output_type": "execute_result"
    }
   ],
   "source": [
    "type(np_arr)"
   ]
  },
  {
   "cell_type": "code",
   "execution_count": 14,
   "id": "ongoing-medicine",
   "metadata": {},
   "outputs": [
    {
     "data": {
      "text/plain": [
       "array([[ 2,  3,  4],\n",
       "       [ 5,  8,  7],\n",
       "       [ 9, 10, 11]])"
      ]
     },
     "execution_count": 14,
     "metadata": {},
     "output_type": "execute_result"
    }
   ],
   "source": [
    "np.array([[2,3,4],[5,8,7],[9,10,11]])"
   ]
  },
  {
   "cell_type": "code",
   "execution_count": 15,
   "id": "split-blackjack",
   "metadata": {},
   "outputs": [
    {
     "data": {
      "text/plain": [
       "array([0., 0., 0., 0., 0., 0., 0., 0., 0., 0., 0., 0., 0., 0., 0., 0., 0.,\n",
       "       0., 0., 0., 0., 0., 0., 0., 0., 0., 0., 0., 0., 0., 0., 0., 0., 0.,\n",
       "       0., 0., 0., 0., 0., 0., 0., 0., 0., 0., 0., 0., 0., 0., 0., 0., 0.,\n",
       "       0., 0., 0., 0., 0., 0., 0., 0., 0., 0., 0., 0., 0., 0., 0., 0., 0.,\n",
       "       0., 0., 0., 0., 0., 0., 0., 0., 0., 0., 0., 0., 0., 0., 0., 0., 0.,\n",
       "       0., 0., 0., 0., 0., 0., 0., 0., 0., 0., 0., 0., 0., 0., 0.])"
      ]
     },
     "execution_count": 15,
     "metadata": {},
     "output_type": "execute_result"
    }
   ],
   "source": [
    "np.zeros(100) # 100 tane 0'dan oluşan numpy array"
   ]
  },
  {
   "cell_type": "code",
   "execution_count": 16,
   "id": "endangered-narrow",
   "metadata": {},
   "outputs": [
    {
     "data": {
      "text/plain": [
       "array([1., 1., 1., 1., 1., 1., 1., 1., 1., 1.])"
      ]
     },
     "execution_count": 16,
     "metadata": {},
     "output_type": "execute_result"
    }
   ],
   "source": [
    "np.ones(10)"
   ]
  },
  {
   "cell_type": "code",
   "execution_count": 17,
   "id": "polish-visibility",
   "metadata": {},
   "outputs": [
    {
     "data": {
      "text/plain": [
       "array([[0., 0., 0., 0., 0.],\n",
       "       [0., 0., 0., 0., 0.],\n",
       "       [0., 0., 0., 0., 0.]])"
      ]
     },
     "execution_count": 17,
     "metadata": {},
     "output_type": "execute_result"
    }
   ],
   "source": [
    "np.zeros((3,5)) # 3 tane 5 adet 0'dan oluşan array oluştur"
   ]
  },
  {
   "cell_type": "code",
   "execution_count": 18,
   "id": "optional-heavy",
   "metadata": {},
   "outputs": [
    {
     "data": {
      "text/plain": [
       "array([[1., 1., 1., 1., 1.],\n",
       "       [1., 1., 1., 1., 1.],\n",
       "       [1., 1., 1., 1., 1.]])"
      ]
     },
     "execution_count": 18,
     "metadata": {},
     "output_type": "execute_result"
    }
   ],
   "source": [
    "np.ones((3,5)) # 3 tane 5 adet 1'den oluşan array oluştur"
   ]
  },
  {
   "cell_type": "code",
   "execution_count": 20,
   "id": "offshore-communist",
   "metadata": {},
   "outputs": [
    {
     "data": {
      "text/plain": [
       "array([0, 0, 0])"
      ]
     },
     "execution_count": 20,
     "metadata": {},
     "output_type": "execute_result"
    }
   ],
   "source": [
    "np.zeros(3, dtype=int) # Array elemanlarının veri tipi dtype ile belirlenebilir."
   ]
  },
  {
   "cell_type": "code",
   "execution_count": 22,
   "id": "macro-techno",
   "metadata": {},
   "outputs": [
    {
     "data": {
      "text/plain": [
       "array([0, 2, 4, 6, 8])"
      ]
     },
     "execution_count": 22,
     "metadata": {},
     "output_type": "execute_result"
    }
   ],
   "source": [
    "np.arange(0,10,2) # 0'dan 10'a kadar (10 hariç) 2'şer artan array"
   ]
  },
  {
   "cell_type": "code",
   "execution_count": 28,
   "id": "preceding-draft",
   "metadata": {},
   "outputs": [
    {
     "data": {
      "text/plain": [
       "array([ 0.        ,  0.20408163,  0.40816327,  0.6122449 ,  0.81632653,\n",
       "        1.02040816,  1.2244898 ,  1.42857143,  1.63265306,  1.83673469,\n",
       "        2.04081633,  2.24489796,  2.44897959,  2.65306122,  2.85714286,\n",
       "        3.06122449,  3.26530612,  3.46938776,  3.67346939,  3.87755102,\n",
       "        4.08163265,  4.28571429,  4.48979592,  4.69387755,  4.89795918,\n",
       "        5.10204082,  5.30612245,  5.51020408,  5.71428571,  5.91836735,\n",
       "        6.12244898,  6.32653061,  6.53061224,  6.73469388,  6.93877551,\n",
       "        7.14285714,  7.34693878,  7.55102041,  7.75510204,  7.95918367,\n",
       "        8.16326531,  8.36734694,  8.57142857,  8.7755102 ,  8.97959184,\n",
       "        9.18367347,  9.3877551 ,  9.59183673,  9.79591837, 10.        ])"
      ]
     },
     "execution_count": 28,
     "metadata": {},
     "output_type": "execute_result"
    }
   ],
   "source": [
    "np.linspace(0,10,50) # 0'dan 10'a kadar (10 dahil) 50 tane nokta oluştur"
   ]
  },
  {
   "cell_type": "code",
   "execution_count": 29,
   "id": "maritime-grenada",
   "metadata": {},
   "outputs": [
    {
     "data": {
      "text/plain": [
       "array([[1., 0., 0., 0., 0.],\n",
       "       [0., 1., 0., 0., 0.],\n",
       "       [0., 0., 1., 0., 0.],\n",
       "       [0., 0., 0., 1., 0.],\n",
       "       [0., 0., 0., 0., 1.]])"
      ]
     },
     "execution_count": 29,
     "metadata": {},
     "output_type": "execute_result"
    }
   ],
   "source": [
    "np.eye(5) # 5x5 boyutlarında birim matris oluşturmak için"
   ]
  },
  {
   "cell_type": "code",
   "execution_count": 40,
   "id": "aboriginal-overall",
   "metadata": {},
   "outputs": [
    {
     "data": {
      "text/plain": [
       "array([0.69867029, 0.69083726, 0.10601681, 0.7917223 , 0.78920071])"
      ]
     },
     "execution_count": 40,
     "metadata": {},
     "output_type": "execute_result"
    }
   ],
   "source": [
    "np.random.rand(5) # 5 tane 0-1 arasında uniform dağılımlı değer oluştur"
   ]
  },
  {
   "cell_type": "code",
   "execution_count": 41,
   "id": "outer-plant",
   "metadata": {},
   "outputs": [
    {
     "data": {
      "text/plain": [
       "array([[0.94540199, 0.6135649 , 0.51915255],\n",
       "       [0.52405587, 0.94822354, 0.55847442],\n",
       "       [0.22853605, 0.73471056, 0.49160087]])"
      ]
     },
     "execution_count": 41,
     "metadata": {},
     "output_type": "execute_result"
    }
   ],
   "source": [
    "np.random.rand(3,3)"
   ]
  },
  {
   "cell_type": "code",
   "execution_count": 51,
   "id": "olympic-prospect",
   "metadata": {},
   "outputs": [
    {
     "data": {
      "text/plain": [
       "17"
      ]
     },
     "execution_count": 51,
     "metadata": {},
     "output_type": "execute_result"
    }
   ],
   "source": [
    "np.random.randint(0,100) # 0 ile 99 arasında rasgele tamsayı oluştur"
   ]
  },
  {
   "cell_type": "code",
   "execution_count": 52,
   "id": "seeing-particle",
   "metadata": {},
   "outputs": [],
   "source": [
    "np_arr = np.arange(25)"
   ]
  },
  {
   "cell_type": "code",
   "execution_count": 53,
   "id": "double-journalism",
   "metadata": {},
   "outputs": [
    {
     "data": {
      "text/plain": [
       "(25,)"
      ]
     },
     "execution_count": 53,
     "metadata": {},
     "output_type": "execute_result"
    }
   ],
   "source": [
    "np_arr.shape"
   ]
  },
  {
   "cell_type": "code",
   "execution_count": 56,
   "id": "inclusive-albany",
   "metadata": {},
   "outputs": [
    {
     "data": {
      "text/plain": [
       "array([[ 0,  1,  2,  3,  4],\n",
       "       [ 5,  6,  7,  8,  9],\n",
       "       [10, 11, 12, 13, 14],\n",
       "       [15, 16, 17, 18, 19],\n",
       "       [20, 21, 22, 23, 24]])"
      ]
     },
     "execution_count": 56,
     "metadata": {},
     "output_type": "execute_result"
    }
   ],
   "source": [
    "np_arr.reshape(5,5)"
   ]
  },
  {
   "cell_type": "code",
   "execution_count": 54,
   "id": "restricted-count",
   "metadata": {},
   "outputs": [
    {
     "data": {
      "text/plain": [
       "range(0, 25)"
      ]
     },
     "execution_count": 54,
     "metadata": {},
     "output_type": "execute_result"
    }
   ],
   "source": [
    "range(0,25) # Python range bize range nesnesi döndürür"
   ]
  },
  {
   "cell_type": "code",
   "execution_count": 55,
   "id": "general-candle",
   "metadata": {},
   "outputs": [
    {
     "data": {
      "text/plain": [
       "array([ 0,  1,  2,  3,  4,  5,  6,  7,  8,  9, 10, 11, 12, 13, 14, 15, 16,\n",
       "       17, 18, 19, 20, 21, 22, 23, 24])"
      ]
     },
     "execution_count": 55,
     "metadata": {},
     "output_type": "execute_result"
    }
   ],
   "source": [
    "np.arange(0,25) # Numpy arange ise bir array döndürür."
   ]
  },
  {
   "cell_type": "code",
   "execution_count": 57,
   "id": "specialized-drunk",
   "metadata": {},
   "outputs": [
    {
     "data": {
      "text/plain": [
       "(25,)"
      ]
     },
     "execution_count": 57,
     "metadata": {},
     "output_type": "execute_result"
    }
   ],
   "source": [
    "np_arr.shape"
   ]
  },
  {
   "cell_type": "code",
   "execution_count": 58,
   "id": "skilled-corps",
   "metadata": {},
   "outputs": [],
   "source": [
    "liste = [2, 3, 4]"
   ]
  },
  {
   "cell_type": "code",
   "execution_count": 59,
   "id": "scheduled-theater",
   "metadata": {},
   "outputs": [
    {
     "data": {
      "text/plain": [
       "[2, 3, 4, 2, 3, 4]"
      ]
     },
     "execution_count": 59,
     "metadata": {},
     "output_type": "execute_result"
    }
   ],
   "source": [
    "2 * liste"
   ]
  },
  {
   "cell_type": "code",
   "execution_count": 7,
   "id": "gross-print",
   "metadata": {},
   "outputs": [
    {
     "name": "stdout",
     "output_type": "stream",
     "text": [
      "[4 6 8]\n"
     ]
    }
   ],
   "source": [
    "import numpy as np\n",
    "np_arr = np.array([2, 3, 4])\n",
    "print(2 * np_arr)"
   ]
  },
  {
   "cell_type": "code",
   "execution_count": 62,
   "id": "arbitrary-vietnamese",
   "metadata": {},
   "outputs": [
    {
     "data": {
      "text/plain": [
       "array([4, 6, 8])"
      ]
     },
     "execution_count": 62,
     "metadata": {},
     "output_type": "execute_result"
    }
   ],
   "source": [
    "2 * np_arr"
   ]
  },
  {
   "cell_type": "code",
   "execution_count": 64,
   "id": "psychological-saint",
   "metadata": {},
   "outputs": [],
   "source": [
    "arr = np.arange(25)"
   ]
  },
  {
   "cell_type": "code",
   "execution_count": 67,
   "id": "jewish-aurora",
   "metadata": {},
   "outputs": [
    {
     "data": {
      "text/plain": [
       "24"
      ]
     },
     "execution_count": 67,
     "metadata": {},
     "output_type": "execute_result"
    }
   ],
   "source": [
    "arr.max() # Numpy array'in maximum elemanı"
   ]
  },
  {
   "cell_type": "code",
   "execution_count": 68,
   "id": "dress-meeting",
   "metadata": {},
   "outputs": [
    {
     "data": {
      "text/plain": [
       "0"
      ]
     },
     "execution_count": 68,
     "metadata": {},
     "output_type": "execute_result"
    }
   ],
   "source": [
    "arr.min() # Numpy array'in minimum elemanı"
   ]
  },
  {
   "cell_type": "code",
   "execution_count": 69,
   "id": "rocky-sitting",
   "metadata": {},
   "outputs": [
    {
     "data": {
      "text/plain": [
       "dtype('int32')"
      ]
     },
     "execution_count": 69,
     "metadata": {},
     "output_type": "execute_result"
    }
   ],
   "source": [
    "arr.dtype"
   ]
  },
  {
   "cell_type": "code",
   "execution_count": 71,
   "id": "seventh-victoria",
   "metadata": {},
   "outputs": [
    {
     "data": {
      "text/plain": [
       "10"
      ]
     },
     "execution_count": 71,
     "metadata": {},
     "output_type": "execute_result"
    }
   ],
   "source": [
    "arr[10] # numpy array'in eleman'larına erişim []"
   ]
  },
  {
   "cell_type": "code",
   "execution_count": 72,
   "id": "linear-mystery",
   "metadata": {},
   "outputs": [
    {
     "data": {
      "text/plain": [
       "array([10, 11, 12, 13])"
      ]
     },
     "execution_count": 72,
     "metadata": {},
     "output_type": "execute_result"
    }
   ],
   "source": [
    "arr[10:14] # 10 ve 14 (hariç) arası elemanlar: 10, 11, 12, 13 index elemanları"
   ]
  },
  {
   "cell_type": "code",
   "execution_count": 74,
   "id": "divided-smooth",
   "metadata": {},
   "outputs": [],
   "source": [
    "b_arr = arr # arr array'inden yeni bir array oluştur, b_arr"
   ]
  },
  {
   "cell_type": "code",
   "execution_count": 75,
   "id": "unlikely-shore",
   "metadata": {},
   "outputs": [
    {
     "data": {
      "text/plain": [
       "array([ 0,  1,  2,  3,  4,  5,  6,  7,  8,  9, 10, 11, 12, 13, 14, 15, 16,\n",
       "       17, 18, 19, 20, 21, 22, 23, 24])"
      ]
     },
     "execution_count": 75,
     "metadata": {},
     "output_type": "execute_result"
    }
   ],
   "source": [
    "b_arr"
   ]
  },
  {
   "cell_type": "code",
   "execution_count": 77,
   "id": "armed-royalty",
   "metadata": {},
   "outputs": [],
   "source": [
    "b_arr = np.arange(10)"
   ]
  },
  {
   "cell_type": "code",
   "execution_count": 78,
   "id": "premier-gregory",
   "metadata": {},
   "outputs": [
    {
     "data": {
      "text/plain": [
       "array([0, 1, 2, 3, 4, 5, 6, 7, 8, 9])"
      ]
     },
     "execution_count": 78,
     "metadata": {},
     "output_type": "execute_result"
    }
   ],
   "source": [
    "b_arr"
   ]
  },
  {
   "cell_type": "code",
   "execution_count": 79,
   "id": "overall-veteran",
   "metadata": {},
   "outputs": [
    {
     "data": {
      "text/plain": [
       "array([ 0,  1,  2,  3,  4,  5,  6,  7,  8,  9, 10, 11, 12, 13, 14, 15, 16,\n",
       "       17, 18, 19, 20, 21, 22, 23, 24])"
      ]
     },
     "execution_count": 79,
     "metadata": {},
     "output_type": "execute_result"
    }
   ],
   "source": [
    "arr"
   ]
  },
  {
   "cell_type": "code",
   "execution_count": 83,
   "id": "automotive-circulation",
   "metadata": {},
   "outputs": [
    {
     "name": "stdout",
     "output_type": "stream",
     "text": [
      "[1, 2, 3, 4]\n",
      "[1, 2, 3, 4, 5]\n",
      "[1, 2, 3, 4, 5]\n"
     ]
    }
   ],
   "source": [
    "# Python liste\n",
    "a = [1,2,3,4]\n",
    "b = a\n",
    "print(b) # [1,2,3,4]\n",
    "b.append(5)\n",
    "print(a) # [1,2,3,4,5]\n",
    "##\n",
    "b = [3,4]\n",
    "print(a) # [1,2,3,4,5]"
   ]
  },
  {
   "cell_type": "code",
   "execution_count": 85,
   "id": "furnished-track",
   "metadata": {},
   "outputs": [],
   "source": [
    "m5_5 = arr.reshape(5,5)"
   ]
  },
  {
   "cell_type": "code",
   "execution_count": 86,
   "id": "pressing-hebrew",
   "metadata": {},
   "outputs": [
    {
     "data": {
      "text/plain": [
       "array([[ 0,  1,  2,  3,  4],\n",
       "       [ 5,  6,  7,  8,  9],\n",
       "       [10, 11, 12, 13, 14],\n",
       "       [15, 16, 17, 18, 19],\n",
       "       [20, 21, 22, 23, 24]])"
      ]
     },
     "execution_count": 86,
     "metadata": {},
     "output_type": "execute_result"
    }
   ],
   "source": [
    "m5_5"
   ]
  },
  {
   "cell_type": "code",
   "execution_count": 88,
   "id": "norwegian-collaboration",
   "metadata": {},
   "outputs": [
    {
     "data": {
      "text/plain": [
       "array([5, 6, 7, 8, 9])"
      ]
     },
     "execution_count": 88,
     "metadata": {},
     "output_type": "execute_result"
    }
   ],
   "source": [
    "m5_5[1] # 2. satır"
   ]
  },
  {
   "cell_type": "code",
   "execution_count": 92,
   "id": "recreational-framework",
   "metadata": {},
   "outputs": [
    {
     "data": {
      "text/plain": [
       "array([ 0,  5, 10, 15, 20])"
      ]
     },
     "execution_count": 92,
     "metadata": {},
     "output_type": "execute_result"
    }
   ],
   "source": [
    "m5_5[:,0] # 1. kolon"
   ]
  },
  {
   "cell_type": "code",
   "execution_count": 94,
   "id": "auburn-malawi",
   "metadata": {},
   "outputs": [
    {
     "data": {
      "text/plain": [
       "array([[ 7,  8],\n",
       "       [12, 13]])"
      ]
     },
     "execution_count": 94,
     "metadata": {},
     "output_type": "execute_result"
    }
   ],
   "source": [
    "m5_5[1:3,2:4] # alt matris oluşturmak için "
   ]
  },
  {
   "cell_type": "code",
   "execution_count": 100,
   "id": "legendary-coupon",
   "metadata": {},
   "outputs": [
    {
     "data": {
      "text/plain": [
       "array([[12, 13],\n",
       "       [17, 18],\n",
       "       [22, 23]])"
      ]
     },
     "execution_count": 100,
     "metadata": {},
     "output_type": "execute_result"
    }
   ],
   "source": [
    "m5_5[2:5,2:4]"
   ]
  },
  {
   "cell_type": "code",
   "execution_count": 102,
   "id": "seasonal-giving",
   "metadata": {},
   "outputs": [
    {
     "data": {
      "text/plain": [
       "array([[ 7,  8],\n",
       "       [12, 13],\n",
       "       [17, 18]])"
      ]
     },
     "execution_count": 102,
     "metadata": {},
     "output_type": "execute_result"
    }
   ],
   "source": [
    "m5_5[1:4,2:4]"
   ]
  },
  {
   "cell_type": "code",
   "execution_count": 103,
   "id": "heard-mongolia",
   "metadata": {},
   "outputs": [
    {
     "data": {
      "text/plain": [
       "array([[12, 13],\n",
       "       [17, 18],\n",
       "       [22, 23]])"
      ]
     },
     "execution_count": 103,
     "metadata": {},
     "output_type": "execute_result"
    }
   ],
   "source": [
    "m5_5[2:5, 2:4]"
   ]
  },
  {
   "cell_type": "code",
   "execution_count": 109,
   "id": "above-inspector",
   "metadata": {},
   "outputs": [],
   "source": [
    "arr = np.random.rand(100)"
   ]
  },
  {
   "cell_type": "code",
   "execution_count": 110,
   "id": "creative-field",
   "metadata": {},
   "outputs": [
    {
     "data": {
      "text/plain": [
       "(100,)"
      ]
     },
     "execution_count": 110,
     "metadata": {},
     "output_type": "execute_result"
    }
   ],
   "source": [
    "arr.shape"
   ]
  },
  {
   "cell_type": "code",
   "execution_count": 116,
   "id": "alike-idaho",
   "metadata": {},
   "outputs": [
    {
     "data": {
      "text/plain": [
       "array([ True, False,  True, False,  True, False,  True, False,  True,\n",
       "       False,  True, False, False, False, False,  True, False,  True,\n",
       "       False,  True, False,  True, False, False, False, False,  True,\n",
       "       False, False, False,  True,  True, False,  True,  True,  True,\n",
       "       False, False, False, False,  True,  True, False,  True,  True,\n",
       "        True, False, False, False,  True,  True, False, False,  True,\n",
       "       False, False,  True, False,  True, False, False,  True, False,\n",
       "        True,  True,  True, False, False, False,  True,  True,  True,\n",
       "       False,  True, False,  True,  True, False, False,  True,  True,\n",
       "       False, False,  True,  True,  True,  True,  True, False,  True,\n",
       "       False,  True,  True,  True, False,  True,  True,  True, False,\n",
       "        True])"
      ]
     },
     "execution_count": 116,
     "metadata": {},
     "output_type": "execute_result"
    }
   ],
   "source": [
    "arr > 0.5"
   ]
  },
  {
   "cell_type": "code",
   "execution_count": 118,
   "id": "incoming-elder",
   "metadata": {},
   "outputs": [
    {
     "data": {
      "text/plain": [
       "array([0.97139324, 0.99195247, 0.88619033, 0.73112972, 0.92816474,\n",
       "       0.78951885, 0.87113382, 0.96227462, 0.77189146, 0.71247448,\n",
       "       0.70345638, 0.7597162 , 0.8167854 , 0.90497107, 0.9334358 ,\n",
       "       0.94011844, 0.7730561 , 0.87585973, 0.81080891, 0.84782964,\n",
       "       0.85125216, 0.72963157, 0.78105748, 0.85455873, 0.98023166,\n",
       "       0.71211847, 0.83801766, 0.95482691, 0.9807981 , 0.86382252])"
      ]
     },
     "execution_count": 118,
     "metadata": {},
     "output_type": "execute_result"
    }
   ],
   "source": [
    "arr[arr > 0.7] # 0.7'den büyük olan arr elemanları"
   ]
  },
  {
   "cell_type": "code",
   "execution_count": 122,
   "id": "suburban-heater",
   "metadata": {},
   "outputs": [
    {
     "data": {
      "text/plain": [
       "array([0.86382252, 0.34660597, 0.65113265, 0.64975706, 0.9807981 ,\n",
       "       0.39631695, 0.64647489, 0.95482691, 0.83801766, 0.48304821,\n",
       "       0.60507168, 0.01708416, 0.71211847, 0.98023166, 0.85455873,\n",
       "       0.78105748, 0.72963157, 0.18310751, 0.19562039, 0.69067314,\n",
       "       0.85125216, 0.41169061, 0.42472365, 0.63746374, 0.84782964,\n",
       "       0.0078877 , 0.81080891, 0.01141968, 0.87585973, 0.7730561 ,\n",
       "       0.94011844, 0.40043247, 0.24048583, 0.4097788 , 0.9334358 ,\n",
       "       0.90497107, 0.8167854 , 0.10671029, 0.61641106, 0.24897195,\n",
       "       0.06925764, 0.7597162 , 0.47602232, 0.51697424, 0.04292049,\n",
       "       0.43232821, 0.52429666, 0.19020038, 0.2015493 , 0.70345638,\n",
       "       0.56674314, 0.07951776, 0.16019439, 0.40571206, 0.71247448,\n",
       "       0.53718499, 0.67140758, 0.37981666, 0.77189146, 0.59846454,\n",
       "       0.18224752, 0.11197406, 0.42034969, 0.1998563 , 0.96227462,\n",
       "       0.58630916, 0.58579225, 0.15217726, 0.50164436, 0.87113382,\n",
       "       0.20315544, 0.17945282, 0.44274463, 0.78951885, 0.04992505,\n",
       "       0.04260459, 0.36701457, 0.42854924, 0.92816474, 0.02112534,\n",
       "       0.61848869, 0.26568686, 0.73112972, 0.32752293, 0.88619033,\n",
       "       0.19619402, 0.36372843, 0.34853315, 0.01625382, 0.99195247,\n",
       "       0.487211  , 0.62515131, 0.17330583, 0.62698914, 0.26413429,\n",
       "       0.67841577, 0.02798415, 0.54252392, 0.1260577 , 0.97139324])"
      ]
     },
     "execution_count": 122,
     "metadata": {},
     "output_type": "execute_result"
    }
   ],
   "source": [
    "np.flip(arr) # arr elemanlarını ters'ten listeler"
   ]
  },
  {
   "cell_type": "code",
   "execution_count": 125,
   "id": "tight-length",
   "metadata": {},
   "outputs": [],
   "source": [
    "arr2 = np.arange(0,11)"
   ]
  },
  {
   "cell_type": "code",
   "execution_count": 126,
   "id": "military-george",
   "metadata": {},
   "outputs": [
    {
     "data": {
      "text/plain": [
       "array([ 0,  1,  2,  3,  4,  5,  6,  7,  8,  9, 10])"
      ]
     },
     "execution_count": 126,
     "metadata": {},
     "output_type": "execute_result"
    }
   ],
   "source": [
    "arr2"
   ]
  },
  {
   "cell_type": "code",
   "execution_count": 128,
   "id": "better-sacrifice",
   "metadata": {},
   "outputs": [
    {
     "data": {
      "text/plain": [
       "array([ 0,  2,  4,  6,  8, 10])"
      ]
     },
     "execution_count": 128,
     "metadata": {},
     "output_type": "execute_result"
    }
   ],
   "source": [
    "arr2[arr2 % 2 == 0] # arr2'de yer alan çift sayılar"
   ]
  },
  {
   "cell_type": "code",
   "execution_count": 129,
   "id": "useful-flood",
   "metadata": {},
   "outputs": [],
   "source": [
    "arr3 = np.arange(100,111)"
   ]
  },
  {
   "cell_type": "code",
   "execution_count": 130,
   "id": "hispanic-bandwidth",
   "metadata": {},
   "outputs": [
    {
     "data": {
      "text/plain": [
       "array([100, 101, 102, 103, 104, 105, 106, 107, 108, 109, 110])"
      ]
     },
     "execution_count": 130,
     "metadata": {},
     "output_type": "execute_result"
    }
   ],
   "source": [
    "arr3"
   ]
  },
  {
   "cell_type": "code",
   "execution_count": 132,
   "id": "multiple-lafayette",
   "metadata": {},
   "outputs": [
    {
     "data": {
      "text/plain": [
       "array([100, 102, 104, 106, 108, 110, 112, 114, 116, 118, 120])"
      ]
     },
     "execution_count": 132,
     "metadata": {},
     "output_type": "execute_result"
    }
   ],
   "source": [
    "arr2 + arr3 # array elemanları toplanır"
   ]
  },
  {
   "cell_type": "code",
   "execution_count": 131,
   "id": "helpful-investing",
   "metadata": {},
   "outputs": [
    {
     "data": {
      "text/plain": [
       "[2, 3, 4, 3, 4, 1]"
      ]
     },
     "execution_count": 131,
     "metadata": {},
     "output_type": "execute_result"
    }
   ],
   "source": [
    "#python\n",
    "list_1 = [2,3,4]\n",
    "list_2 = [3,4,1]\n",
    "list_1 + list_2"
   ]
  },
  {
   "cell_type": "code",
   "execution_count": 137,
   "id": "critical-turkish",
   "metadata": {},
   "outputs": [
    {
     "data": {
      "text/plain": [
       "10"
      ]
     },
     "execution_count": 137,
     "metadata": {},
     "output_type": "execute_result"
    }
   ],
   "source": [
    "arr3.argmax()"
   ]
  },
  {
   "cell_type": "code",
   "execution_count": 138,
   "id": "major-banner",
   "metadata": {},
   "outputs": [
    {
     "data": {
      "text/plain": [
       "110"
      ]
     },
     "execution_count": 138,
     "metadata": {},
     "output_type": "execute_result"
    }
   ],
   "source": [
    "arr3[10]"
   ]
  },
  {
   "cell_type": "code",
   "execution_count": 140,
   "id": "stock-september",
   "metadata": {},
   "outputs": [
    {
     "data": {
      "text/plain": [
       "5.0"
      ]
     },
     "execution_count": 140,
     "metadata": {},
     "output_type": "execute_result"
    }
   ],
   "source": [
    "arr2.mean() # array elemanlarının ortalaması"
   ]
  },
  {
   "cell_type": "code",
   "execution_count": 141,
   "id": "collective-hudson",
   "metadata": {},
   "outputs": [
    {
     "data": {
      "text/plain": [
       "55"
      ]
     },
     "execution_count": 141,
     "metadata": {},
     "output_type": "execute_result"
    }
   ],
   "source": [
    "arr2.sum()"
   ]
  },
  {
   "cell_type": "code",
   "execution_count": 143,
   "id": "connected-gregory",
   "metadata": {},
   "outputs": [
    {
     "data": {
      "text/plain": [
       "49.5"
      ]
     },
     "execution_count": 143,
     "metadata": {},
     "output_type": "execute_result"
    }
   ],
   "source": [
    "np.arange(100).reshape(10,10).mean()"
   ]
  },
  {
   "cell_type": "code",
   "execution_count": 144,
   "id": "discrete-jewelry",
   "metadata": {},
   "outputs": [],
   "source": [
    "m10_10 = np.arange(100).reshape(10,10)"
   ]
  },
  {
   "cell_type": "code",
   "execution_count": 145,
   "id": "massive-fabric",
   "metadata": {},
   "outputs": [
    {
     "data": {
      "text/plain": [
       "array([[ 0,  1,  2,  3,  4,  5,  6,  7,  8,  9],\n",
       "       [10, 11, 12, 13, 14, 15, 16, 17, 18, 19],\n",
       "       [20, 21, 22, 23, 24, 25, 26, 27, 28, 29],\n",
       "       [30, 31, 32, 33, 34, 35, 36, 37, 38, 39],\n",
       "       [40, 41, 42, 43, 44, 45, 46, 47, 48, 49],\n",
       "       [50, 51, 52, 53, 54, 55, 56, 57, 58, 59],\n",
       "       [60, 61, 62, 63, 64, 65, 66, 67, 68, 69],\n",
       "       [70, 71, 72, 73, 74, 75, 76, 77, 78, 79],\n",
       "       [80, 81, 82, 83, 84, 85, 86, 87, 88, 89],\n",
       "       [90, 91, 92, 93, 94, 95, 96, 97, 98, 99]])"
      ]
     },
     "execution_count": 145,
     "metadata": {},
     "output_type": "execute_result"
    }
   ],
   "source": [
    "m10_10"
   ]
  },
  {
   "cell_type": "code",
   "execution_count": 146,
   "id": "dominant-phase",
   "metadata": {},
   "outputs": [
    {
     "data": {
      "text/plain": [
       "4950"
      ]
     },
     "execution_count": 146,
     "metadata": {},
     "output_type": "execute_result"
    }
   ],
   "source": [
    "m10_10.sum() # matrisin bütün elemanlarının toplamı"
   ]
  },
  {
   "cell_type": "code",
   "execution_count": 147,
   "id": "scenic-guyana",
   "metadata": {},
   "outputs": [
    {
     "data": {
      "text/plain": [
       "array([ 45, 145, 245, 345, 445, 545, 645, 745, 845, 945])"
      ]
     },
     "execution_count": 147,
     "metadata": {},
     "output_type": "execute_result"
    }
   ],
   "source": [
    "m10_10.sum(axis=1) # matrisin satırlarının toplamı"
   ]
  },
  {
   "cell_type": "code",
   "execution_count": 148,
   "id": "afraid-battlefield",
   "metadata": {},
   "outputs": [
    {
     "data": {
      "text/plain": [
       "array([450, 460, 470, 480, 490, 500, 510, 520, 530, 540])"
      ]
     },
     "execution_count": 148,
     "metadata": {},
     "output_type": "execute_result"
    }
   ],
   "source": [
    "m10_10.sum(axis=0) # matrisin kolonlarının toplamı"
   ]
  },
  {
   "cell_type": "code",
   "execution_count": 150,
   "id": "complimentary-tonight",
   "metadata": {},
   "outputs": [
    {
     "data": {
      "text/plain": [
       "array([ 0.23028357, -0.69512729, -0.2568669 , -0.2589668 ,  0.66670956,\n",
       "       -0.84227208, -1.98856511,  0.64711324, -0.90240618, -0.56687281])"
      ]
     },
     "execution_count": 150,
     "metadata": {},
     "output_type": "execute_result"
    }
   ],
   "source": [
    "np.random.randn(10) # normal dağılım, ortalam=0, standart sapma=1"
   ]
  },
  {
   "cell_type": "code",
   "execution_count": 155,
   "id": "spatial-reaction",
   "metadata": {},
   "outputs": [
    {
     "name": "stdout",
     "output_type": "stream",
     "text": [
      "Ortalama:0.0024199421930186185\n",
      "Standart sapma:0.9982200437470048\n"
     ]
    }
   ],
   "source": [
    "dist = np.random.randn(100000)\n",
    "print(\"Ortalama:\"+str(dist.mean()))\n",
    "print(\"Standart sapma:\"+str(dist.std()))"
   ]
  },
  {
   "cell_type": "code",
   "execution_count": null,
   "id": "burning-table",
   "metadata": {},
   "outputs": [],
   "source": [
    "# ALIŞTIRMALAR"
   ]
  },
  {
   "cell_type": "code",
   "execution_count": 156,
   "id": "governing-heating",
   "metadata": {},
   "outputs": [
    {
     "data": {
      "text/plain": [
       "array([10, 13, 16, 19, 22, 25, 28, 31, 34, 37, 40, 43, 46, 49, 52, 55, 58,\n",
       "       61, 64, 67, 70, 73, 76, 79])"
      ]
     },
     "execution_count": 156,
     "metadata": {},
     "output_type": "execute_result"
    }
   ],
   "source": [
    "# 10 ile 80 arasında 3'er artan bir numpy array oluşturunuz. [10,13,....79]\n",
    "np.arange(10,81,3)"
   ]
  },
  {
   "cell_type": "code",
   "execution_count": 157,
   "id": "proved-anaheim",
   "metadata": {},
   "outputs": [
    {
     "data": {
      "text/plain": [
       "array([3, 2, 4, 5, 7, 1, 2, 3])"
      ]
     },
     "execution_count": 157,
     "metadata": {},
     "output_type": "execute_result"
    }
   ],
   "source": [
    "# şu numpy array'i oluşturunuz [3,2,4,5,7,1,2,3]\n",
    "np.array([3,2,4,5,7,1,2,3])\n"
   ]
  },
  {
   "cell_type": "code",
   "execution_count": null,
   "id": "cognitive-reply",
   "metadata": {},
   "outputs": [],
   "source": [
    "# numpy kütüphanesini kullanarak kullanarak 0'dan 1000'e kadar 3'er artan sayıların toplamını bulunuz.\n",
    "# 0,3,6,....999 => toplamını bulunuz?"
   ]
  },
  {
   "cell_type": "code",
   "execution_count": 160,
   "id": "supported-binding",
   "metadata": {},
   "outputs": [
    {
     "data": {
      "text/plain": [
       "166833"
      ]
     },
     "execution_count": 160,
     "metadata": {},
     "output_type": "execute_result"
    }
   ],
   "source": [
    "#Enes\n",
    "liste = numpy.arange(0,1000,3)\n",
    "np.sum(liste)"
   ]
  },
  {
   "cell_type": "code",
   "execution_count": 161,
   "id": "structural-tourist",
   "metadata": {},
   "outputs": [
    {
     "data": {
      "text/plain": [
       "166833"
      ]
     },
     "execution_count": 161,
     "metadata": {},
     "output_type": "execute_result"
    }
   ],
   "source": [
    "numpy.arange(0,1000,3).sum()"
   ]
  },
  {
   "cell_type": "code",
   "execution_count": 162,
   "id": "inappropriate-invalid",
   "metadata": {},
   "outputs": [
    {
     "data": {
      "text/plain": [
       "83166"
      ]
     },
     "execution_count": 162,
     "metadata": {},
     "output_type": "execute_result"
    }
   ],
   "source": [
    "# numpy kütüphanesini kullanarak kullanarak 0'dan 1000'e (1000 hariç) olan sayılardan \n",
    "# 2 ve 3 ile kalansız bölünenlerin toplamı.\n",
    "# Bilal\n",
    "liste = np.arange(0,1000)\n",
    "np.sum(liste[liste % 6 == 0])"
   ]
  },
  {
   "cell_type": "code",
   "execution_count": 163,
   "id": "disabled-combine",
   "metadata": {},
   "outputs": [
    {
     "data": {
      "text/plain": [
       "83166"
      ]
     },
     "execution_count": 163,
     "metadata": {},
     "output_type": "execute_result"
    }
   ],
   "source": [
    "# Enes\n",
    "liste = np.arange(0,1000,6)\n",
    "np.sum(liste)"
   ]
  },
  {
   "cell_type": "code",
   "execution_count": 164,
   "id": "helpful-handy",
   "metadata": {},
   "outputs": [],
   "source": [
    "# Mertcan'ın alıştırma sorusu\n",
    "# 1000 elemandan oluşan bir listede en büyük elemanın yarısından büyük olanları listeleyin\n",
    "arr = np.random.randint(0,100,size=1000)"
   ]
  },
  {
   "cell_type": "code",
   "execution_count": 168,
   "id": "novel-front",
   "metadata": {},
   "outputs": [],
   "source": [
    "maksimum = arr.max()"
   ]
  },
  {
   "cell_type": "code",
   "execution_count": 170,
   "id": "increasing-gospel",
   "metadata": {},
   "outputs": [],
   "source": [
    "maks_yarim = maksimum/2"
   ]
  },
  {
   "cell_type": "code",
   "execution_count": 172,
   "id": "awful-independence",
   "metadata": {},
   "outputs": [
    {
     "data": {
      "text/plain": [
       "array([79, 84, 63, 87, 71, 50, 55, 86, 51, 70, 91, 58, 52, 74, 99, 95, 81,\n",
       "       64, 79, 96, 83, 63, 86, 59, 50, 94, 61, 56, 95, 85, 61, 79, 61, 68,\n",
       "       64, 58, 72, 89, 87, 87, 78, 88, 59, 66, 95, 94, 69, 55, 69, 99, 56,\n",
       "       57, 71, 73, 74, 62, 77, 52, 84, 69, 58, 72, 72, 59, 90, 81, 57, 54,\n",
       "       62, 62, 95, 76, 98, 52, 96, 57, 64, 89, 53, 98, 84, 76, 71, 64, 79,\n",
       "       54, 85, 96, 62, 61, 70, 85, 71, 88, 87, 69, 59, 76, 72, 80, 96, 73,\n",
       "       60, 73, 86, 71, 89, 56, 73, 90, 68, 96, 63, 90, 59, 52, 50, 89, 71,\n",
       "       63, 59, 72, 94, 54, 58, 66, 76, 81, 93, 72, 65, 87, 51, 94, 72, 72,\n",
       "       56, 82, 77, 78, 66, 58, 83, 59, 76, 81, 97, 55, 96, 69, 90, 68, 77,\n",
       "       62, 77, 96, 68, 64, 53, 57, 86, 86, 82, 78, 68, 57, 73, 64, 76, 64,\n",
       "       58, 80, 70, 51, 80, 51, 54, 61, 82, 53, 61, 67, 77, 68, 60, 53, 95,\n",
       "       88, 53, 98, 86, 50, 68, 98, 81, 80, 77, 96, 73, 53, 80, 79, 59, 97,\n",
       "       91, 56, 67, 53, 71, 50, 61, 98, 85, 65, 53, 76, 90, 53, 53, 74, 55,\n",
       "       54, 75, 71, 72, 81, 57, 99, 61, 81, 68, 81, 67, 79, 65, 55, 50, 61,\n",
       "       84, 95, 89, 51, 83, 85, 78, 51, 58, 58, 61, 59, 54, 61, 81, 87, 67,\n",
       "       89, 99, 71, 75, 51, 63, 54, 77, 89, 99, 94, 82, 92, 83, 84, 67, 67,\n",
       "       92, 81, 99, 74, 97, 85, 67, 99, 66, 58, 89, 90, 82, 64, 84, 74, 53,\n",
       "       92, 74, 80, 80, 87, 73, 84, 90, 89, 79, 53, 80, 64, 69, 97, 80, 97,\n",
       "       98, 70, 80, 95, 83, 66, 74, 50, 52, 67, 78, 61, 91, 74, 55, 56, 66,\n",
       "       88, 94, 98, 66, 54, 60, 71, 50, 80, 92, 83, 96, 87, 57, 74, 78, 62,\n",
       "       75, 72, 93, 95, 73, 54, 67, 80, 86, 98, 65, 93, 87, 81, 92, 96, 52,\n",
       "       80, 74, 84, 67, 93, 70, 73, 83, 51, 56, 98, 73, 95, 55, 87, 98, 95,\n",
       "       92, 99, 90, 88, 58, 52, 59, 58, 99, 54, 91, 95, 58, 80, 89, 79, 92,\n",
       "       70, 59, 50, 62, 94, 50, 78, 53, 74, 62, 87, 84, 92, 89, 75, 54, 86,\n",
       "       82, 71, 73, 90, 79, 78, 59, 87, 71, 97, 64, 82, 88, 92, 88, 99, 76,\n",
       "       77, 85, 51, 72, 87, 64, 95, 60, 97, 88, 66, 87, 70, 75, 71, 85, 69,\n",
       "       71, 63, 94, 72, 79, 74, 50, 63, 68, 67, 62, 55, 95, 69, 89, 54, 66,\n",
       "       51, 59, 99, 65, 76, 91, 50, 56, 66, 90, 61, 50, 70, 92, 69, 88, 75,\n",
       "       80, 70, 51, 92, 93, 59, 65, 96, 73, 59, 56, 94, 75, 66, 59, 70, 65,\n",
       "       80, 99, 59, 53])"
      ]
     },
     "execution_count": 172,
     "metadata": {},
     "output_type": "execute_result"
    }
   ],
   "source": [
    "arr[arr>maks_yarim]"
   ]
  },
  {
   "cell_type": "code",
   "execution_count": 177,
   "id": "finished-expansion",
   "metadata": {},
   "outputs": [],
   "source": [
    "# Nurullah\n",
    "# listede en çok kullanılan harf hangisidir?\n",
    "isimler = np.array([\"Bilal\",\"Nurullah\",\"Mertcan\",\"Feyza\",\"Buğra\",\"Enes\",\"Yasin\",\"Yaşar\"])"
   ]
  },
  {
   "cell_type": "code",
   "execution_count": 178,
   "id": "stock-cambodia",
   "metadata": {},
   "outputs": [
    {
     "data": {
      "text/plain": [
       "numpy.ndarray"
      ]
     },
     "execution_count": 178,
     "metadata": {},
     "output_type": "execute_result"
    }
   ],
   "source": [
    "type(isimler)"
   ]
  },
  {
   "cell_type": "code",
   "execution_count": 179,
   "id": "portable-myanmar",
   "metadata": {},
   "outputs": [
    {
     "name": "stdout",
     "output_type": "stream",
     "text": [
      "Bilal\n",
      "Nurullah\n",
      "Mertcan\n",
      "Feyza\n",
      "Buğra\n",
      "Enes\n",
      "Yasin\n",
      "Yaşar\n"
     ]
    }
   ],
   "source": [
    "for isim in isimler:\n",
    "    print(isim)"
   ]
  },
  {
   "cell_type": "code",
   "execution_count": 186,
   "id": "confidential-oxford",
   "metadata": {},
   "outputs": [
    {
     "name": "stdout",
     "output_type": "stream",
     "text": [
      "{'b': 1, 'i': 1, 'l': 3, 'a': 7, 'n': 3, 'u': 2, 'r': 3, 'h': 0, 'm': 0, 'e': 3, 't': 0, 'c': 0, 'f': 0, 'y': 2, 'z': 0, 'ğ': 0, 's': 1, 'ş': 0}\n"
     ]
    }
   ],
   "source": [
    "say = {}\n",
    "for isim in isimler:\n",
    "    for harf in isim:\n",
    "        harf=harf.lower()\n",
    "        if harf in say:\n",
    "            say[harf]=say[harf]+1\n",
    "        else:\n",
    "            say[harf]=0\n",
    "print(say)\n"
   ]
  },
  {
   "cell_type": "code",
   "execution_count": 188,
   "id": "suspected-professional",
   "metadata": {},
   "outputs": [
    {
     "name": "stdout",
     "output_type": "stream",
     "text": [
      "['a']\n"
     ]
    }
   ],
   "source": [
    "counter={}\n",
    "for element in isimler:\n",
    "    for char in element:\n",
    "        char = char.lower()\n",
    "        if char in counter:\n",
    "            counter[char] = counter[char] + 1\n",
    "        else:\n",
    "            counter[char] = 1\n",
    "            \n",
    "print([x for x in counter.keys() if counter[x] == max(counter.values())])"
   ]
  }
 ],
 "metadata": {
  "kernelspec": {
   "display_name": "Python 3",
   "language": "python",
   "name": "python3"
  },
  "language_info": {
   "codemirror_mode": {
    "name": "ipython",
    "version": 3
   },
   "file_extension": ".py",
   "mimetype": "text/x-python",
   "name": "python",
   "nbconvert_exporter": "python",
   "pygments_lexer": "ipython3",
   "version": "3.8.8"
  }
 },
 "nbformat": 4,
 "nbformat_minor": 5
}
