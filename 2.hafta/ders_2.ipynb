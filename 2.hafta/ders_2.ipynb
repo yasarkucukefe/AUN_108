{
 "cells": [
  {
   "cell_type": "code",
   "execution_count": null,
   "id": "authentic-sample",
   "metadata": {},
   "outputs": [],
   "source": [
    "# Değişten isimleri rakam ile başlamamalı\n",
    "a deg = 12 # geçersiz tanımlama\n",
    "1deg = 12 # geçersiz tanımlama\n",
    "a-deg = 12 # geçersiz tanımlama"
   ]
  },
  {
   "cell_type": "code",
   "execution_count": null,
   "id": "mineral-cemetery",
   "metadata": {},
   "outputs": [],
   "source": [
    "# Değişken isimlendirme yapısı\n",
    "YeniDegiskenIsmi = 1 # Pascal Case\n",
    "yeniDegiskenIsmi = 1 # Camel case\n",
    "yeni_degisken_ismi = 1 # Snake case"
   ]
  },
  {
   "cell_type": "code",
   "execution_count": 2,
   "id": "returning-trunk",
   "metadata": {},
   "outputs": [],
   "source": [
    "a = \"Elma\"\n",
    "b = \"Portakal\"\n",
    "c = \"Muz\""
   ]
  },
  {
   "cell_type": "code",
   "execution_count": 5,
   "id": "billion-ticket",
   "metadata": {},
   "outputs": [],
   "source": [
    "a = \"Elma\"; b = \"Portakal\"; c = \"Muz\""
   ]
  },
  {
   "cell_type": "code",
   "execution_count": 1,
   "id": "curious-character",
   "metadata": {
    "scrolled": true
   },
   "outputs": [
    {
     "name": "stdout",
     "output_type": "stream",
     "text": [
      "Muz,Elma,Portakal\n"
     ]
    }
   ],
   "source": [
    "a, b, c = \"Elma\", \"Portakal\", \"Muz\"\n",
    "print(f'{c},{a},{b}')"
   ]
  },
  {
   "cell_type": "code",
   "execution_count": 7,
   "id": "induced-wealth",
   "metadata": {},
   "outputs": [
    {
     "name": "stdout",
     "output_type": "stream",
     "text": [
      "<class 'tuple'>\n"
     ]
    }
   ],
   "source": [
    "# Tuple\n",
    "meyveler = (\"Elma\",\"Portakal\",\"Muz\")\n",
    "print(type(meyveler))"
   ]
  },
  {
   "cell_type": "code",
   "execution_count": 11,
   "id": "initial-train",
   "metadata": {},
   "outputs": [],
   "source": [
    "nested_tuple = (\"a\",\"b\",[\"c\",\"d\"])"
   ]
  },
  {
   "cell_type": "code",
   "execution_count": 17,
   "id": "colonial-advertising",
   "metadata": {},
   "outputs": [
    {
     "data": {
      "text/plain": [
       "['e', 'd']"
      ]
     },
     "execution_count": 17,
     "metadata": {},
     "output_type": "execute_result"
    }
   ],
   "source": [
    "nested_tuple[2]"
   ]
  },
  {
   "cell_type": "code",
   "execution_count": 19,
   "id": "italian-tyler",
   "metadata": {},
   "outputs": [
    {
     "name": "stdout",
     "output_type": "stream",
     "text": [
      "<class 'range'>\n"
     ]
    }
   ],
   "source": [
    "# Range\n",
    "r = range(6) \n",
    "print(type(r))"
   ]
  },
  {
   "cell_type": "code",
   "execution_count": 21,
   "id": "fluid-observation",
   "metadata": {},
   "outputs": [],
   "source": [
    "# Dictionary\n",
    "dict = {\"isim\":\"Yaşar\", \"soyisim\":\"Küçükefe\",\"yas\":50}"
   ]
  },
  {
   "cell_type": "code",
   "execution_count": 22,
   "id": "invalid-valuable",
   "metadata": {},
   "outputs": [
    {
     "data": {
      "text/plain": [
       "'Yaşar'"
      ]
     },
     "execution_count": 22,
     "metadata": {},
     "output_type": "execute_result"
    }
   ],
   "source": [
    "dict[\"isim\"]"
   ]
  },
  {
   "cell_type": "code",
   "execution_count": 24,
   "id": "interesting-floating",
   "metadata": {},
   "outputs": [
    {
     "name": "stdout",
     "output_type": "stream",
     "text": [
      "Yaş:23\n"
     ]
    }
   ],
   "source": [
    "yas = 23\n",
    "print(\"Yaş:\" + str(yas))"
   ]
  },
  {
   "cell_type": "code",
   "execution_count": 32,
   "id": "linear-shield",
   "metadata": {},
   "outputs": [
    {
     "data": {
      "text/plain": [
       "int"
      ]
     },
     "execution_count": 32,
     "metadata": {},
     "output_type": "execute_result"
    }
   ],
   "source": [
    "type(int(float(\"3.1\")))"
   ]
  },
  {
   "cell_type": "markdown",
   "id": "incorrect-hundred",
   "metadata": {},
   "source": [
    "# String'ler (Karakter dizinleri)"
   ]
  },
  {
   "cell_type": "code",
   "execution_count": 42,
   "id": "appointed-booking",
   "metadata": {},
   "outputs": [],
   "source": [
    "metin = \"Python Yazılım Dili Çok Kullanışlı.\""
   ]
  },
  {
   "cell_type": "code",
   "execution_count": 41,
   "id": "tight-expansion",
   "metadata": {},
   "outputs": [
    {
     "data": {
      "text/plain": [
       "'PYTHON YAZILIM DILI ÇOK KULLANIŞLI.'"
      ]
     },
     "execution_count": 41,
     "metadata": {},
     "output_type": "execute_result"
    }
   ],
   "source": [
    "metin.upper()"
   ]
  },
  {
   "cell_type": "code",
   "execution_count": 43,
   "id": "disabled-warner",
   "metadata": {},
   "outputs": [
    {
     "data": {
      "text/plain": [
       "'python yazılım dili çok kullanışlı.'"
      ]
     },
     "execution_count": 43,
     "metadata": {},
     "output_type": "execute_result"
    }
   ],
   "source": [
    "metin.lower()"
   ]
  },
  {
   "cell_type": "code",
   "execution_count": 46,
   "id": "cultural-johns",
   "metadata": {},
   "outputs": [
    {
     "data": {
      "text/plain": [
       "15"
      ]
     },
     "execution_count": 46,
     "metadata": {},
     "output_type": "execute_result"
    }
   ],
   "source": [
    "metin.find(\"Dil\") # Aranan bir karakter dizinin index değerini hesaplar"
   ]
  },
  {
   "cell_type": "code",
   "execution_count": 47,
   "id": "august-tracker",
   "metadata": {},
   "outputs": [
    {
     "data": {
      "text/plain": [
       "['Python', 'Yazılım', 'Dili', 'Çok', 'Kullanışlı.']"
      ]
     },
     "execution_count": 47,
     "metadata": {},
     "output_type": "execute_result"
    }
   ],
   "source": [
    "metin.split(\" \") # Karakter dizinin belirtiren karakterlerden bölerek listeye dönüştürür"
   ]
  },
  {
   "cell_type": "code",
   "execution_count": 53,
   "id": "universal-corruption",
   "metadata": {},
   "outputs": [
    {
     "data": {
      "text/plain": [
       "'jPython Yazılım Dili Çok Kullanışlı.oPython Yazılım Dili Çok Kullanışlı.k'"
      ]
     },
     "execution_count": 53,
     "metadata": {},
     "output_type": "execute_result"
    }
   ],
   "source": [
    "metin.join(\"jok\")"
   ]
  },
  {
   "cell_type": "code",
   "execution_count": 56,
   "id": "exotic-publisher",
   "metadata": {},
   "outputs": [
    {
     "data": {
      "text/plain": [
       "'asdfsafd ııdasdf'"
      ]
     },
     "execution_count": 56,
     "metadata": {},
     "output_type": "execute_result"
    }
   ],
   "source": [
    "\" asdfsafd ııdasdf      \".strip()"
   ]
  },
  {
   "cell_type": "code",
   "execution_count": 60,
   "id": "violent-tractor",
   "metadata": {},
   "outputs": [],
   "source": [
    "metin = metin.replace(\"Çok\",\"yeterince\")"
   ]
  },
  {
   "cell_type": "code",
   "execution_count": 70,
   "id": "actual-disorder",
   "metadata": {},
   "outputs": [
    {
     "data": {
      "text/plain": [
       "4"
      ]
     },
     "execution_count": 70,
     "metadata": {},
     "output_type": "execute_result"
    }
   ],
   "source": [
    "metin.count(\"ı\")"
   ]
  },
  {
   "cell_type": "code",
   "execution_count": 73,
   "id": "flexible-helmet",
   "metadata": {},
   "outputs": [
    {
     "data": {
      "text/plain": [
       "41"
      ]
     },
     "execution_count": 73,
     "metadata": {},
     "output_type": "execute_result"
    }
   ],
   "source": [
    "len(metin)"
   ]
  },
  {
   "cell_type": "markdown",
   "id": "floating-treasurer",
   "metadata": {},
   "source": [
    "## Python Operatörler"
   ]
  },
  {
   "cell_type": "code",
   "execution_count": 74,
   "id": "academic-candle",
   "metadata": {},
   "outputs": [
    {
     "data": {
      "text/plain": [
       "3"
      ]
     },
     "execution_count": 74,
     "metadata": {},
     "output_type": "execute_result"
    }
   ],
   "source": [
    "7 % 4 # modulus => kalan değer"
   ]
  },
  {
   "cell_type": "code",
   "execution_count": 77,
   "id": "assured-nelson",
   "metadata": {},
   "outputs": [
    {
     "data": {
      "text/plain": [
       "32"
      ]
     },
     "execution_count": 77,
     "metadata": {},
     "output_type": "execute_result"
    }
   ],
   "source": [
    "2 ** 5 # üst hesaplama"
   ]
  },
  {
   "cell_type": "code",
   "execution_count": 78,
   "id": "monthly-country",
   "metadata": {},
   "outputs": [
    {
     "data": {
      "text/plain": [
       "3.0"
      ]
     },
     "execution_count": 78,
     "metadata": {},
     "output_type": "execute_result"
    }
   ],
   "source": [
    "9 ** (1/2)"
   ]
  },
  {
   "cell_type": "code",
   "execution_count": 79,
   "id": "universal-letters",
   "metadata": {},
   "outputs": [
    {
     "data": {
      "text/plain": [
       "False"
      ]
     },
     "execution_count": 79,
     "metadata": {},
     "output_type": "execute_result"
    }
   ],
   "source": [
    "7 == 6"
   ]
  },
  {
   "cell_type": "code",
   "execution_count": 80,
   "id": "controversial-fashion",
   "metadata": {},
   "outputs": [
    {
     "data": {
      "text/plain": [
       "True"
      ]
     },
     "execution_count": 80,
     "metadata": {},
     "output_type": "execute_result"
    }
   ],
   "source": [
    "7 != 6"
   ]
  },
  {
   "cell_type": "code",
   "execution_count": 81,
   "id": "passive-aspect",
   "metadata": {},
   "outputs": [
    {
     "data": {
      "text/plain": [
       "True"
      ]
     },
     "execution_count": 81,
     "metadata": {},
     "output_type": "execute_result"
    }
   ],
   "source": [
    "7 > 6"
   ]
  },
  {
   "cell_type": "code",
   "execution_count": 82,
   "id": "matched-kernel",
   "metadata": {},
   "outputs": [
    {
     "data": {
      "text/plain": [
       "False"
      ]
     },
     "execution_count": 82,
     "metadata": {},
     "output_type": "execute_result"
    }
   ],
   "source": [
    "7 < 6"
   ]
  },
  {
   "cell_type": "code",
   "execution_count": 83,
   "id": "challenging-longer",
   "metadata": {},
   "outputs": [
    {
     "data": {
      "text/plain": [
       "True"
      ]
     },
     "execution_count": 83,
     "metadata": {},
     "output_type": "execute_result"
    }
   ],
   "source": [
    "7 >= 6"
   ]
  },
  {
   "cell_type": "code",
   "execution_count": 84,
   "id": "juvenile-arkansas",
   "metadata": {},
   "outputs": [
    {
     "data": {
      "text/plain": [
       "False"
      ]
     },
     "execution_count": 84,
     "metadata": {},
     "output_type": "execute_result"
    }
   ],
   "source": [
    "7 <= 6"
   ]
  },
  {
   "cell_type": "code",
   "execution_count": 85,
   "id": "furnished-filling",
   "metadata": {},
   "outputs": [],
   "source": [
    "a = 5\n",
    "b = 10"
   ]
  },
  {
   "cell_type": "code",
   "execution_count": 86,
   "id": "spoken-colon",
   "metadata": {},
   "outputs": [
    {
     "data": {
      "text/plain": [
       "True"
      ]
     },
     "execution_count": 86,
     "metadata": {},
     "output_type": "execute_result"
    }
   ],
   "source": [
    "a == 5 and b > 6"
   ]
  },
  {
   "cell_type": "code",
   "execution_count": 87,
   "id": "advance-shock",
   "metadata": {},
   "outputs": [
    {
     "data": {
      "text/plain": [
       "True"
      ]
     },
     "execution_count": 87,
     "metadata": {},
     "output_type": "execute_result"
    }
   ],
   "source": [
    "a == 5 or b < 6"
   ]
  },
  {
   "cell_type": "code",
   "execution_count": 88,
   "id": "parallel-ethernet",
   "metadata": {},
   "outputs": [
    {
     "data": {
      "text/plain": [
       "False"
      ]
     },
     "execution_count": 88,
     "metadata": {},
     "output_type": "execute_result"
    }
   ],
   "source": [
    "not (a == 5 and b > 6)"
   ]
  },
  {
   "cell_type": "code",
   "execution_count": 89,
   "id": "chemical-silicon",
   "metadata": {},
   "outputs": [
    {
     "data": {
      "text/plain": [
       "False"
      ]
     },
     "execution_count": 89,
     "metadata": {},
     "output_type": "execute_result"
    }
   ],
   "source": [
    "a is b"
   ]
  },
  {
   "cell_type": "code",
   "execution_count": 90,
   "id": "interstate-playlist",
   "metadata": {},
   "outputs": [
    {
     "data": {
      "text/plain": [
       "True"
      ]
     },
     "execution_count": 90,
     "metadata": {},
     "output_type": "execute_result"
    }
   ],
   "source": [
    "a is not b"
   ]
  },
  {
   "cell_type": "code",
   "execution_count": 95,
   "id": "adaptive-mobility",
   "metadata": {},
   "outputs": [],
   "source": [
    "x = 5; y = 5;"
   ]
  },
  {
   "cell_type": "code",
   "execution_count": 92,
   "id": "boxed-mirror",
   "metadata": {},
   "outputs": [
    {
     "data": {
      "text/plain": [
       "True"
      ]
     },
     "execution_count": 92,
     "metadata": {},
     "output_type": "execute_result"
    }
   ],
   "source": [
    "x is y"
   ]
  },
  {
   "cell_type": "code",
   "execution_count": 93,
   "id": "chronic-gender",
   "metadata": {},
   "outputs": [],
   "source": [
    "x = 500; y = 500"
   ]
  },
  {
   "cell_type": "code",
   "execution_count": 94,
   "id": "changed-matter",
   "metadata": {},
   "outputs": [
    {
     "data": {
      "text/plain": [
       "False"
      ]
     },
     "execution_count": 94,
     "metadata": {},
     "output_type": "execute_result"
    }
   ],
   "source": [
    "x is y"
   ]
  },
  {
   "cell_type": "markdown",
   "id": "minimal-cause",
   "metadata": {},
   "source": [
    "# Tuple"
   ]
  },
  {
   "cell_type": "code",
   "execution_count": 96,
   "id": "racial-chancellor",
   "metadata": {},
   "outputs": [],
   "source": [
    "meyveler = (\"elma\",\"portakal\",\"armut\")"
   ]
  },
  {
   "cell_type": "code",
   "execution_count": 98,
   "id": "invalid-estate",
   "metadata": {},
   "outputs": [
    {
     "data": {
      "text/plain": [
       "'elma'"
      ]
     },
     "execution_count": 98,
     "metadata": {},
     "output_type": "execute_result"
    }
   ],
   "source": [
    "meyveler[0]"
   ]
  },
  {
   "cell_type": "code",
   "execution_count": 99,
   "id": "shaped-cable",
   "metadata": {},
   "outputs": [],
   "source": [
    "liste = list(meyveler)"
   ]
  },
  {
   "cell_type": "code",
   "execution_count": 100,
   "id": "metallic-argentina",
   "metadata": {},
   "outputs": [
    {
     "data": {
      "text/plain": [
       "['elma', 'portakal', 'armut']"
      ]
     },
     "execution_count": 100,
     "metadata": {},
     "output_type": "execute_result"
    }
   ],
   "source": [
    "liste"
   ]
  },
  {
   "cell_type": "code",
   "execution_count": 101,
   "id": "immediate-birthday",
   "metadata": {},
   "outputs": [],
   "source": [
    "liste[2] = 'muz'"
   ]
  },
  {
   "cell_type": "code",
   "execution_count": 102,
   "id": "opponent-duplicate",
   "metadata": {},
   "outputs": [
    {
     "data": {
      "text/plain": [
       "['elma', 'portakal', 'muz']"
      ]
     },
     "execution_count": 102,
     "metadata": {},
     "output_type": "execute_result"
    }
   ],
   "source": [
    "liste"
   ]
  },
  {
   "cell_type": "code",
   "execution_count": 103,
   "id": "solid-edgar",
   "metadata": {},
   "outputs": [],
   "source": [
    "meyveler = tuple(liste)"
   ]
  },
  {
   "cell_type": "code",
   "execution_count": 104,
   "id": "industrial-xerox",
   "metadata": {},
   "outputs": [
    {
     "data": {
      "text/plain": [
       "('elma', 'portakal', 'muz')"
      ]
     },
     "execution_count": 104,
     "metadata": {},
     "output_type": "execute_result"
    }
   ],
   "source": [
    "meyveler"
   ]
  },
  {
   "cell_type": "code",
   "execution_count": 105,
   "id": "explicit-stroke",
   "metadata": {},
   "outputs": [
    {
     "name": "stdout",
     "output_type": "stream",
     "text": [
      "elma\n",
      "portakal\n",
      "muz\n"
     ]
    }
   ],
   "source": [
    "for meyve in meyveler:\n",
    "    print(meyve)"
   ]
  },
  {
   "cell_type": "code",
   "execution_count": 108,
   "id": "electric-messenger",
   "metadata": {},
   "outputs": [],
   "source": [
    "yaz_meyveleri = ('vişne','kiraz')"
   ]
  },
  {
   "cell_type": "code",
   "execution_count": 109,
   "id": "micro-platform",
   "metadata": {},
   "outputs": [
    {
     "data": {
      "text/plain": [
       "('elma', 'portakal', 'muz', 'vişne', 'kiraz')"
      ]
     },
     "execution_count": 109,
     "metadata": {},
     "output_type": "execute_result"
    }
   ],
   "source": [
    "meyveler + yaz_meyveleri"
   ]
  },
  {
   "cell_type": "code",
   "execution_count": 110,
   "id": "veterinary-ebony",
   "metadata": {},
   "outputs": [
    {
     "data": {
      "text/plain": [
       "('vişne', 'kiraz', 'vişne', 'kiraz')"
      ]
     },
     "execution_count": 110,
     "metadata": {},
     "output_type": "execute_result"
    }
   ],
   "source": [
    "2 * yaz_meyveleri"
   ]
  },
  {
   "cell_type": "code",
   "execution_count": 111,
   "id": "interior-sewing",
   "metadata": {},
   "outputs": [
    {
     "data": {
      "text/plain": [
       "1"
      ]
     },
     "execution_count": 111,
     "metadata": {},
     "output_type": "execute_result"
    }
   ],
   "source": [
    "meyveler.count(\"elma\")"
   ]
  },
  {
   "cell_type": "code",
   "execution_count": 112,
   "id": "alpha-correction",
   "metadata": {},
   "outputs": [
    {
     "data": {
      "text/plain": [
       "0"
      ]
     },
     "execution_count": 112,
     "metadata": {},
     "output_type": "execute_result"
    }
   ],
   "source": [
    "meyveler.index(\"elma\")"
   ]
  },
  {
   "cell_type": "markdown",
   "id": "decreased-english",
   "metadata": {},
   "source": [
    "# Set (küme)"
   ]
  },
  {
   "cell_type": "code",
   "execution_count": 114,
   "id": "present-customs",
   "metadata": {},
   "outputs": [],
   "source": [
    "meyveler = {\"elma\",\"muz\",\"portakal\",\"elma\"}"
   ]
  },
  {
   "cell_type": "code",
   "execution_count": 115,
   "id": "cooperative-happiness",
   "metadata": {},
   "outputs": [
    {
     "data": {
      "text/plain": [
       "{'elma', 'muz', 'portakal'}"
      ]
     },
     "execution_count": 115,
     "metadata": {},
     "output_type": "execute_result"
    }
   ],
   "source": [
    "meyveler"
   ]
  },
  {
   "cell_type": "code",
   "execution_count": 116,
   "id": "worth-round",
   "metadata": {},
   "outputs": [],
   "source": [
    "meyveler.add(\"muz\")"
   ]
  },
  {
   "cell_type": "code",
   "execution_count": 117,
   "id": "greek-secondary",
   "metadata": {},
   "outputs": [
    {
     "data": {
      "text/plain": [
       "{'elma', 'muz', 'portakal'}"
      ]
     },
     "execution_count": 117,
     "metadata": {},
     "output_type": "execute_result"
    }
   ],
   "source": [
    "meyveler"
   ]
  },
  {
   "cell_type": "code",
   "execution_count": 119,
   "id": "alien-management",
   "metadata": {},
   "outputs": [
    {
     "name": "stdout",
     "output_type": "stream",
     "text": [
      "portakal\n",
      "elma\n",
      "muz\n"
     ]
    }
   ],
   "source": [
    "for x in meyveler:\n",
    "    print(x)"
   ]
  },
  {
   "cell_type": "code",
   "execution_count": 120,
   "id": "conscious-parade",
   "metadata": {},
   "outputs": [
    {
     "data": {
      "text/plain": [
       "True"
      ]
     },
     "execution_count": 120,
     "metadata": {},
     "output_type": "execute_result"
    }
   ],
   "source": [
    "\"elma\" in meyveler"
   ]
  },
  {
   "cell_type": "code",
   "execution_count": 121,
   "id": "australian-intermediate",
   "metadata": {},
   "outputs": [
    {
     "data": {
      "text/plain": [
       "False"
      ]
     },
     "execution_count": 121,
     "metadata": {},
     "output_type": "execute_result"
    }
   ],
   "source": [
    "\"karpuz\" in meyveler"
   ]
  },
  {
   "cell_type": "code",
   "execution_count": 122,
   "id": "automotive-clark",
   "metadata": {},
   "outputs": [],
   "source": [
    "meyveler.remove(\"portakal\")"
   ]
  },
  {
   "cell_type": "code",
   "execution_count": 123,
   "id": "twelve-matthew",
   "metadata": {},
   "outputs": [
    {
     "data": {
      "text/plain": [
       "{'elma', 'muz'}"
      ]
     },
     "execution_count": 123,
     "metadata": {},
     "output_type": "execute_result"
    }
   ],
   "source": [
    "meyveler"
   ]
  },
  {
   "cell_type": "code",
   "execution_count": 124,
   "id": "unlikely-guinea",
   "metadata": {},
   "outputs": [],
   "source": [
    "kume1 = {\"a\",\"b\",\"c\"}\n",
    "kume2 = {1, 2, 3}"
   ]
  },
  {
   "cell_type": "code",
   "execution_count": 125,
   "id": "dramatic-aircraft",
   "metadata": {},
   "outputs": [],
   "source": [
    "kume3 = kume1.union(kume2)"
   ]
  },
  {
   "cell_type": "code",
   "execution_count": 126,
   "id": "crude-swimming",
   "metadata": {},
   "outputs": [
    {
     "data": {
      "text/plain": [
       "{1, 2, 3, 'a', 'b', 'c'}"
      ]
     },
     "execution_count": 126,
     "metadata": {},
     "output_type": "execute_result"
    }
   ],
   "source": [
    "kume3"
   ]
  },
  {
   "cell_type": "code",
   "execution_count": 127,
   "id": "circular-packing",
   "metadata": {},
   "outputs": [],
   "source": [
    "set1 = {1,2,3,4}\n",
    "set2 = {3,4,5}\n",
    "set3 = set1.union(set2)"
   ]
  },
  {
   "cell_type": "code",
   "execution_count": 128,
   "id": "minor-mambo",
   "metadata": {},
   "outputs": [
    {
     "data": {
      "text/plain": [
       "{1, 2}"
      ]
     },
     "execution_count": 128,
     "metadata": {},
     "output_type": "execute_result"
    }
   ],
   "source": [
    "set1.difference(set2) # iki küme arasında farklı elemanları listeler"
   ]
  },
  {
   "cell_type": "code",
   "execution_count": 129,
   "id": "severe-dialogue",
   "metadata": {},
   "outputs": [
    {
     "data": {
      "text/plain": [
       "{3, 4}"
      ]
     },
     "execution_count": 129,
     "metadata": {},
     "output_type": "execute_result"
    }
   ],
   "source": [
    "set1.intersection(set2) # Kesişim kümesi"
   ]
  },
  {
   "cell_type": "code",
   "execution_count": 131,
   "id": "authorized-desktop",
   "metadata": {},
   "outputs": [
    {
     "data": {
      "text/plain": [
       "1"
      ]
     },
     "execution_count": 131,
     "metadata": {},
     "output_type": "execute_result"
    }
   ],
   "source": [
    "set1.pop()"
   ]
  },
  {
   "cell_type": "code",
   "execution_count": 132,
   "id": "internal-flower",
   "metadata": {},
   "outputs": [
    {
     "data": {
      "text/plain": [
       "{2, 3, 4}"
      ]
     },
     "execution_count": 132,
     "metadata": {},
     "output_type": "execute_result"
    }
   ],
   "source": [
    "set1"
   ]
  },
  {
   "cell_type": "code",
   "execution_count": 133,
   "id": "smart-junior",
   "metadata": {},
   "outputs": [
    {
     "name": "stdout",
     "output_type": "stream",
     "text": [
      "{2, 3, 4}\n",
      "{3, 4, 5}\n"
     ]
    }
   ],
   "source": [
    "print(set1)\n",
    "print(set2)"
   ]
  },
  {
   "cell_type": "code",
   "execution_count": 134,
   "id": "difficult-miniature",
   "metadata": {},
   "outputs": [],
   "source": [
    "set1.update(set2)"
   ]
  },
  {
   "cell_type": "code",
   "execution_count": 135,
   "id": "acknowledged-statement",
   "metadata": {},
   "outputs": [
    {
     "name": "stdout",
     "output_type": "stream",
     "text": [
      "{2, 3, 4, 5}\n"
     ]
    }
   ],
   "source": [
    "print(set1)"
   ]
  },
  {
   "cell_type": "code",
   "execution_count": 136,
   "id": "lovely-strap",
   "metadata": {},
   "outputs": [],
   "source": [
    "set1 = {1,2,3,4}\n",
    "set2 = {3,4,5}"
   ]
  },
  {
   "cell_type": "code",
   "execution_count": 137,
   "id": "stylish-ambassador",
   "metadata": {},
   "outputs": [
    {
     "data": {
      "text/plain": [
       "{1, 2, 3, 4, 5}"
      ]
     },
     "execution_count": 137,
     "metadata": {},
     "output_type": "execute_result"
    }
   ],
   "source": [
    "set1.union(set2)"
   ]
  },
  {
   "cell_type": "code",
   "execution_count": 138,
   "id": "hydraulic-appeal",
   "metadata": {},
   "outputs": [
    {
     "data": {
      "text/plain": [
       "{1, 2, 3, 4}"
      ]
     },
     "execution_count": 138,
     "metadata": {},
     "output_type": "execute_result"
    }
   ],
   "source": [
    "set1"
   ]
  },
  {
   "cell_type": "code",
   "execution_count": 139,
   "id": "minus-barcelona",
   "metadata": {},
   "outputs": [],
   "source": [
    "set1.update(set2)"
   ]
  },
  {
   "cell_type": "code",
   "execution_count": 140,
   "id": "exotic-catch",
   "metadata": {},
   "outputs": [
    {
     "data": {
      "text/plain": [
       "{1, 2, 3, 4, 5}"
      ]
     },
     "execution_count": 140,
     "metadata": {},
     "output_type": "execute_result"
    }
   ],
   "source": [
    "set1"
   ]
  },
  {
   "cell_type": "markdown",
   "id": "flush-samoa",
   "metadata": {},
   "source": [
    "# Sözlükler (Dictionary)"
   ]
  },
  {
   "cell_type": "code",
   "execution_count": 153,
   "id": "capital-burden",
   "metadata": {},
   "outputs": [],
   "source": [
    "sozluk = {\n",
    "    \"marka\": \"Nissan\",\n",
    "    \"dizel\":True,\n",
    "    \"model\": \"NAVARA\",\n",
    "    \"sene\":2020\n",
    "}"
   ]
  },
  {
   "cell_type": "code",
   "execution_count": 154,
   "id": "peripheral-perry",
   "metadata": {},
   "outputs": [
    {
     "name": "stdout",
     "output_type": "stream",
     "text": [
      "{'marka': 'Nissan', 'dizel': True, 'model': 'NAVARA', 'sene': 2020}\n"
     ]
    }
   ],
   "source": [
    "print(sozluk)"
   ]
  },
  {
   "cell_type": "code",
   "execution_count": 155,
   "id": "medium-relaxation",
   "metadata": {},
   "outputs": [
    {
     "data": {
      "text/plain": [
       "'Nissan'"
      ]
     },
     "execution_count": 155,
     "metadata": {},
     "output_type": "execute_result"
    }
   ],
   "source": [
    "sozluk[\"marka\"]"
   ]
  },
  {
   "cell_type": "code",
   "execution_count": 156,
   "id": "flush-worst",
   "metadata": {},
   "outputs": [
    {
     "data": {
      "text/plain": [
       "'Nissan'"
      ]
     },
     "execution_count": 156,
     "metadata": {},
     "output_type": "execute_result"
    }
   ],
   "source": [
    "sozluk.get(\"marka\")"
   ]
  },
  {
   "cell_type": "code",
   "execution_count": 157,
   "id": "functional-action",
   "metadata": {},
   "outputs": [
    {
     "data": {
      "text/plain": [
       "dict_keys(['marka', 'dizel', 'model', 'sene'])"
      ]
     },
     "execution_count": 157,
     "metadata": {},
     "output_type": "execute_result"
    }
   ],
   "source": [
    "sozluk.keys()"
   ]
  },
  {
   "cell_type": "code",
   "execution_count": 158,
   "id": "brazilian-episode",
   "metadata": {},
   "outputs": [],
   "source": [
    "sozluk.update({\"sene\": 2017})"
   ]
  },
  {
   "cell_type": "code",
   "execution_count": 164,
   "id": "twelve-harmony",
   "metadata": {},
   "outputs": [],
   "source": [
    "sozluk[\"sene\"]=2011"
   ]
  },
  {
   "cell_type": "code",
   "execution_count": 159,
   "id": "reported-shape",
   "metadata": {},
   "outputs": [
    {
     "data": {
      "text/plain": [
       "{'marka': 'Nissan', 'dizel': True, 'model': 'NAVARA', 'sene': 2017}"
      ]
     },
     "execution_count": 159,
     "metadata": {},
     "output_type": "execute_result"
    }
   ],
   "source": [
    "sozluk"
   ]
  },
  {
   "cell_type": "code",
   "execution_count": 160,
   "id": "integrated-waste",
   "metadata": {},
   "outputs": [],
   "source": [
    "sozluk[\"renk\"]=\"Mavi\""
   ]
  },
  {
   "cell_type": "code",
   "execution_count": 161,
   "id": "global-diary",
   "metadata": {},
   "outputs": [
    {
     "data": {
      "text/plain": [
       "{'marka': 'Nissan',\n",
       " 'dizel': True,\n",
       " 'model': 'NAVARA',\n",
       " 'sene': 2017,\n",
       " 'renk': 'Mavi'}"
      ]
     },
     "execution_count": 161,
     "metadata": {},
     "output_type": "execute_result"
    }
   ],
   "source": [
    "sozluk"
   ]
  },
  {
   "cell_type": "code",
   "execution_count": 162,
   "id": "approved-consultancy",
   "metadata": {},
   "outputs": [
    {
     "data": {
      "text/plain": [
       "True"
      ]
     },
     "execution_count": 162,
     "metadata": {},
     "output_type": "execute_result"
    }
   ],
   "source": [
    "sozluk.pop(\"dizel\")"
   ]
  },
  {
   "cell_type": "code",
   "execution_count": 165,
   "id": "described-pizza",
   "metadata": {},
   "outputs": [
    {
     "data": {
      "text/plain": [
       "{'marka': 'Nissan', 'model': 'NAVARA', 'sene': 2011, 'renk': 'Mavi'}"
      ]
     },
     "execution_count": 165,
     "metadata": {},
     "output_type": "execute_result"
    }
   ],
   "source": [
    "sozluk"
   ]
  },
  {
   "cell_type": "code",
   "execution_count": null,
   "id": "equal-margin",
   "metadata": {},
   "outputs": [],
   "source": []
  }
 ],
 "metadata": {
  "kernelspec": {
   "display_name": "Python 3",
   "language": "python",
   "name": "python3"
  },
  "language_info": {
   "codemirror_mode": {
    "name": "ipython",
    "version": 3
   },
   "file_extension": ".py",
   "mimetype": "text/x-python",
   "name": "python",
   "nbconvert_exporter": "python",
   "pygments_lexer": "ipython3",
   "version": "3.8.8"
  }
 },
 "nbformat": 4,
 "nbformat_minor": 5
}
