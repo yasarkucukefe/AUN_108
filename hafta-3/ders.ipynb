{
 "cells": [
  {
   "cell_type": "markdown",
   "id": "36cacfad",
   "metadata": {},
   "source": [
    "## Object Oriented Programming (Nesneye Yönelik Programlama)"
   ]
  },
  {
   "cell_type": "code",
   "execution_count": 4,
   "id": "1964701a",
   "metadata": {},
   "outputs": [],
   "source": [
    "liste = [1, 2, 3, 5, 9, 5, 5]"
   ]
  },
  {
   "cell_type": "code",
   "execution_count": 5,
   "id": "96dd6093",
   "metadata": {},
   "outputs": [
    {
     "data": {
      "text/plain": [
       "3"
      ]
     },
     "execution_count": 5,
     "metadata": {},
     "output_type": "execute_result"
    }
   ],
   "source": [
    "liste.count(5) # 5 sayısının listede kaç tane olduğunu hesapla"
   ]
  },
  {
   "cell_type": "code",
   "execution_count": 7,
   "id": "10fa81df",
   "metadata": {},
   "outputs": [
    {
     "data": {
      "text/plain": [
       "['__add__',\n",
       " '__class__',\n",
       " '__class_getitem__',\n",
       " '__contains__',\n",
       " '__delattr__',\n",
       " '__delitem__',\n",
       " '__dir__',\n",
       " '__doc__',\n",
       " '__eq__',\n",
       " '__format__',\n",
       " '__ge__',\n",
       " '__getattribute__',\n",
       " '__getitem__',\n",
       " '__gt__',\n",
       " '__hash__',\n",
       " '__iadd__',\n",
       " '__imul__',\n",
       " '__init__',\n",
       " '__init_subclass__',\n",
       " '__iter__',\n",
       " '__le__',\n",
       " '__len__',\n",
       " '__lt__',\n",
       " '__mul__',\n",
       " '__ne__',\n",
       " '__new__',\n",
       " '__reduce__',\n",
       " '__reduce_ex__',\n",
       " '__repr__',\n",
       " '__reversed__',\n",
       " '__rmul__',\n",
       " '__setattr__',\n",
       " '__setitem__',\n",
       " '__sizeof__',\n",
       " '__str__',\n",
       " '__subclasshook__',\n",
       " 'append',\n",
       " 'clear',\n",
       " 'copy',\n",
       " 'count',\n",
       " 'extend',\n",
       " 'index',\n",
       " 'insert',\n",
       " 'pop',\n",
       " 'remove',\n",
       " 'reverse',\n",
       " 'sort']"
      ]
     },
     "execution_count": 7,
     "metadata": {},
     "output_type": "execute_result"
    }
   ],
   "source": [
    "dir(list)"
   ]
  },
  {
   "cell_type": "code",
   "execution_count": 10,
   "id": "3a5223bc",
   "metadata": {},
   "outputs": [
    {
     "data": {
      "text/plain": [
       "7"
      ]
     },
     "execution_count": 10,
     "metadata": {},
     "output_type": "execute_result"
    }
   ],
   "source": [
    "len(liste)"
   ]
  },
  {
   "cell_type": "code",
   "execution_count": 11,
   "id": "def81da1",
   "metadata": {},
   "outputs": [
    {
     "name": "stdout",
     "output_type": "stream",
     "text": [
      "<class 'list'>\n"
     ]
    }
   ],
   "source": [
    "print(type(liste))"
   ]
  },
  {
   "cell_type": "code",
   "execution_count": 12,
   "id": "4f3370fe",
   "metadata": {},
   "outputs": [],
   "source": [
    "tpl = (2,3,4,5)"
   ]
  },
  {
   "cell_type": "code",
   "execution_count": 13,
   "id": "b8a60ac9",
   "metadata": {},
   "outputs": [
    {
     "name": "stdout",
     "output_type": "stream",
     "text": [
      "<class 'tuple'>\n"
     ]
    }
   ],
   "source": [
    "print(type(tpl))"
   ]
  },
  {
   "cell_type": "markdown",
   "id": "92153c20",
   "metadata": {},
   "source": [
    "## class (sınıf)"
   ]
  },
  {
   "cell_type": "code",
   "execution_count": 14,
   "id": "063b6121",
   "metadata": {},
   "outputs": [],
   "source": [
    "class ClassAd:\n",
    "    pass"
   ]
  },
  {
   "cell_type": "code",
   "execution_count": 15,
   "id": "bf8b90e1",
   "metadata": {},
   "outputs": [],
   "source": [
    "x = ClassAd() # ClassAd adlı sınıf bir intance'ı (x)"
   ]
  },
  {
   "cell_type": "code",
   "execution_count": 16,
   "id": "fb9b21a3",
   "metadata": {},
   "outputs": [
    {
     "name": "stdout",
     "output_type": "stream",
     "text": [
      "<class '__main__.ClassAd'>\n"
     ]
    }
   ],
   "source": [
    "print(type(x))"
   ]
  },
  {
   "cell_type": "code",
   "execution_count": 31,
   "id": "9fc4d681",
   "metadata": {},
   "outputs": [],
   "source": [
    "class Araba:\n",
    "    def __init__(self, uretici_, model_, sene_, renk_):\n",
    "        self.uretici = uretici_\n",
    "        self.model = model_\n",
    "        self.sene = sene_\n",
    "        self.renk = renk_\n",
    "        \n",
    "    def ozellikler(self):\n",
    "        return f\"Üretici:{self.uretici}, model:{self.model}, renk:{self.renk}, sene:{self.sene}\";\n",
    "    \n",
    "    def arabaYas(self, ib_sene):\n",
    "        return ib_sene - self.sene"
   ]
  },
  {
   "cell_type": "code",
   "execution_count": 32,
   "id": "3db79ccb",
   "metadata": {},
   "outputs": [],
   "source": [
    "araba_1 = Araba(\"Nissan\",\"Juke\",2020,\"Siyah\") # Nesne-1"
   ]
  },
  {
   "cell_type": "code",
   "execution_count": 33,
   "id": "a49cad21",
   "metadata": {},
   "outputs": [],
   "source": [
    "araba_2 = Araba(\"BMW\",\"1.6\",2015,\"Beyaz\") # Nesne-2"
   ]
  },
  {
   "cell_type": "code",
   "execution_count": 34,
   "id": "e0b48853",
   "metadata": {},
   "outputs": [],
   "source": [
    "araba_3 = Araba(uretici_=\"Fiat\", model_=\"Egea\", sene_=\"2022\", renk_=\"Kırmızı\")"
   ]
  },
  {
   "cell_type": "code",
   "execution_count": 22,
   "id": "5bf5ee0c",
   "metadata": {},
   "outputs": [
    {
     "name": "stdout",
     "output_type": "stream",
     "text": [
      "<class '__main__.Araba'>\n"
     ]
    }
   ],
   "source": [
    "print(type(araba_1))"
   ]
  },
  {
   "cell_type": "code",
   "execution_count": 29,
   "id": "c5d79286",
   "metadata": {},
   "outputs": [
    {
     "data": {
      "text/plain": [
       "'Nissan'"
      ]
     },
     "execution_count": 29,
     "metadata": {},
     "output_type": "execute_result"
    }
   ],
   "source": [
    "araba_1.uretici"
   ]
  },
  {
   "cell_type": "code",
   "execution_count": 24,
   "id": "16abe7f8",
   "metadata": {},
   "outputs": [
    {
     "data": {
      "text/plain": [
       "2020"
      ]
     },
     "execution_count": 24,
     "metadata": {},
     "output_type": "execute_result"
    }
   ],
   "source": [
    "araba_1.sene"
   ]
  },
  {
   "cell_type": "code",
   "execution_count": 30,
   "id": "dad9b677",
   "metadata": {},
   "outputs": [
    {
     "name": "stdout",
     "output_type": "stream",
     "text": [
      "Üretici:Nissan, model:Juke, renk:Siyah, sene:2020\n"
     ]
    }
   ],
   "source": [
    "print(araba_1.ozellikler())"
   ]
  },
  {
   "cell_type": "code",
   "execution_count": 36,
   "id": "219733f5",
   "metadata": {},
   "outputs": [
    {
     "name": "stdout",
     "output_type": "stream",
     "text": [
      "7\n"
     ]
    }
   ],
   "source": [
    "print(araba_2.arabaYas(2022))"
   ]
  },
  {
   "cell_type": "markdown",
   "id": "4593471f",
   "metadata": {},
   "source": [
    "## Inheritance (Türetme)"
   ]
  },
  {
   "cell_type": "code",
   "execution_count": 78,
   "id": "d27373b9",
   "metadata": {},
   "outputs": [],
   "source": [
    "# kiralik araba \n",
    "class KiralikAraba(Araba):\n",
    "    def __init__(self, uretici_, model_, sene_, renk_, dizel_):\n",
    "        Araba.__init__(self, uretici_, model_, sene_, renk_)\n",
    "        self.yakit = dizel_\n",
    "    \n",
    "    def ozellikler(self): # Polymorhism\n",
    "        return f\"Üretici:{self.uretici}, model:{self.model}, renk:{self.renk}, sene:{self.sene}, yakıt:{self.yakit}\";\n",
    "    \n",
    "    def kiralanabilirMi(self):\n",
    "        return True\n",
    "    \n",
    "    def __str__(self):\n",
    "        return \"print ile çağrıldığı zaman yazdırılacak içerik\"\n",
    "    "
   ]
  },
  {
   "cell_type": "code",
   "execution_count": 79,
   "id": "28fce75f",
   "metadata": {},
   "outputs": [],
   "source": [
    "kiralik_araba_1 = KiralikAraba(\"Mercedes\",\"E200\",2015,\"Mavi\",\"dizel\")"
   ]
  },
  {
   "cell_type": "code",
   "execution_count": 80,
   "id": "520e417d",
   "metadata": {},
   "outputs": [],
   "source": [
    "kiralik_araba_2 = KiralikAraba(\"Tesla\",\"T30\",2021,\"Siyah\",\"elektrikli\")"
   ]
  },
  {
   "cell_type": "code",
   "execution_count": 43,
   "id": "7566b59e",
   "metadata": {},
   "outputs": [
    {
     "data": {
      "text/plain": [
       "['__class__',\n",
       " '__delattr__',\n",
       " '__dict__',\n",
       " '__dir__',\n",
       " '__doc__',\n",
       " '__eq__',\n",
       " '__format__',\n",
       " '__ge__',\n",
       " '__getattribute__',\n",
       " '__gt__',\n",
       " '__hash__',\n",
       " '__init__',\n",
       " '__init_subclass__',\n",
       " '__le__',\n",
       " '__lt__',\n",
       " '__module__',\n",
       " '__ne__',\n",
       " '__new__',\n",
       " '__reduce__',\n",
       " '__reduce_ex__',\n",
       " '__repr__',\n",
       " '__setattr__',\n",
       " '__sizeof__',\n",
       " '__str__',\n",
       " '__subclasshook__',\n",
       " '__weakref__',\n",
       " 'arabaYas',\n",
       " 'kiralanabilirMi',\n",
       " 'model',\n",
       " 'ozellikler',\n",
       " 'renk',\n",
       " 'sene',\n",
       " 'uretici']"
      ]
     },
     "execution_count": 43,
     "metadata": {},
     "output_type": "execute_result"
    }
   ],
   "source": [
    "dir(kiralik_araba_1)"
   ]
  },
  {
   "cell_type": "code",
   "execution_count": 56,
   "id": "3e5573c8",
   "metadata": {},
   "outputs": [
    {
     "data": {
      "text/plain": [
       "'Üretici:Nissan, model:Juke, renk:Siyah, sene:2020'"
      ]
     },
     "execution_count": 56,
     "metadata": {},
     "output_type": "execute_result"
    }
   ],
   "source": [
    "araba_1.ozellikler()"
   ]
  },
  {
   "cell_type": "code",
   "execution_count": 49,
   "id": "fa8a1263",
   "metadata": {},
   "outputs": [
    {
     "data": {
      "text/plain": [
       "'dizel'"
      ]
     },
     "execution_count": 49,
     "metadata": {},
     "output_type": "execute_result"
    }
   ],
   "source": [
    "kiralik_araba_1.yakit"
   ]
  },
  {
   "cell_type": "code",
   "execution_count": 51,
   "id": "fe21ebd7",
   "metadata": {},
   "outputs": [
    {
     "name": "stdout",
     "output_type": "stream",
     "text": [
      "Araç kiralanabilir.\n"
     ]
    }
   ],
   "source": [
    "if(kiralik_araba_1.kiralanabilirMi()):\n",
    "    print(\"Araç kiralanabilir.\")"
   ]
  },
  {
   "cell_type": "code",
   "execution_count": 57,
   "id": "8f15736b",
   "metadata": {},
   "outputs": [
    {
     "data": {
      "text/plain": [
       "'Üretici:Mercedes, model:E200, renk:Mavi, sene:2015, yakıt:dizel'"
      ]
     },
     "execution_count": 57,
     "metadata": {},
     "output_type": "execute_result"
    }
   ],
   "source": [
    "kiralik_araba_1.ozellikler()"
   ]
  },
  {
   "cell_type": "code",
   "execution_count": 63,
   "id": "34496b79",
   "metadata": {},
   "outputs": [
    {
     "data": {
      "text/plain": [
       "['__class__',\n",
       " '__delattr__',\n",
       " '__dict__',\n",
       " '__dir__',\n",
       " '__doc__',\n",
       " '__eq__',\n",
       " '__format__',\n",
       " '__ge__',\n",
       " '__getattribute__',\n",
       " '__gt__',\n",
       " '__hash__',\n",
       " '__init__',\n",
       " '__init_subclass__',\n",
       " '__le__',\n",
       " '__lt__',\n",
       " '__module__',\n",
       " '__ne__',\n",
       " '__new__',\n",
       " '__ozel__',\n",
       " '__reduce__',\n",
       " '__reduce_ex__',\n",
       " '__repr__',\n",
       " '__setattr__',\n",
       " '__sizeof__',\n",
       " '__str__',\n",
       " '__subclasshook__',\n",
       " '__weakref__',\n",
       " 'arabaYas',\n",
       " 'kiralanabilirMi',\n",
       " 'ozellikler']"
      ]
     },
     "execution_count": 63,
     "metadata": {},
     "output_type": "execute_result"
    }
   ],
   "source": [
    "dir(KiralikAraba)"
   ]
  },
  {
   "cell_type": "code",
   "execution_count": 67,
   "id": "74c8cb80",
   "metadata": {},
   "outputs": [
    {
     "name": "stdout",
     "output_type": "stream",
     "text": [
      "Bu özel olarak tanımlanmıştır. ozel(nesne_adı)\n"
     ]
    }
   ],
   "source": [
    "kiralik_araba_1.__ozel__()"
   ]
  },
  {
   "cell_type": "code",
   "execution_count": 75,
   "id": "d6484a91",
   "metadata": {},
   "outputs": [
    {
     "name": "stdout",
     "output_type": "stream",
     "text": [
      "<__main__.Araba object at 0x00000241F5F80A60>\n"
     ]
    }
   ],
   "source": [
    "print(araba_1) # araba_1'in oluşturulduğu class (Araba) __str__ yeniden tanımlanmadı."
   ]
  },
  {
   "cell_type": "code",
   "execution_count": 81,
   "id": "f3e1ea47",
   "metadata": {},
   "outputs": [
    {
     "name": "stdout",
     "output_type": "stream",
     "text": [
      "print ile çağrıldığı zaman yazdırılacak içerik\n"
     ]
    }
   ],
   "source": [
    "print(kiralik_araba_1) # kiralik_araba_1'in oluşturulduğu class (KiralikAraba) __str__ yeniden tanımlandı"
   ]
  },
  {
   "cell_type": "code",
   "execution_count": 82,
   "id": "7d0be062",
   "metadata": {},
   "outputs": [
    {
     "data": {
      "text/plain": [
       "<__main__.KiralikAraba at 0x241f6ec8a60>"
      ]
     },
     "execution_count": 82,
     "metadata": {},
     "output_type": "execute_result"
    }
   ],
   "source": [
    "kirali_araba_1"
   ]
  },
  {
   "cell_type": "code",
   "execution_count": 84,
   "id": "d72bd0e6",
   "metadata": {},
   "outputs": [],
   "source": [
    "del kiralik_araba_1 # kiralik_araba_1 nesnesi yok edilir"
   ]
  },
  {
   "cell_type": "code",
   "execution_count": 85,
   "id": "64c0688f",
   "metadata": {},
   "outputs": [],
   "source": [
    "del kiralik_araba_2 # kiralik_araba_2 nesnesi yok edilir"
   ]
  },
  {
   "cell_type": "code",
   "execution_count": 86,
   "id": "cb530691",
   "metadata": {},
   "outputs": [],
   "source": [
    "class HesKodu:\n",
    "    def __init__(self, hes_kod_, risk_durumu_):\n",
    "        self.hes_kod = hes_kod_\n",
    "        self.risk_durum = risk_durumu_"
   ]
  },
  {
   "cell_type": "code",
   "execution_count": 87,
   "id": "73809100",
   "metadata": {},
   "outputs": [],
   "source": [
    "hes_1 = HesKodu(\"9009DIIDKE\",\"Risklidir\")"
   ]
  },
  {
   "cell_type": "code",
   "execution_count": 88,
   "id": "37aa6d22",
   "metadata": {},
   "outputs": [
    {
     "data": {
      "text/plain": [
       "'9009DIIDKE'"
      ]
     },
     "execution_count": 88,
     "metadata": {},
     "output_type": "execute_result"
    }
   ],
   "source": [
    "hes_1.hes_kod"
   ]
  },
  {
   "cell_type": "code",
   "execution_count": 96,
   "id": "0812a7e9",
   "metadata": {},
   "outputs": [],
   "source": [
    "class HesKodu:\n",
    "    def __init__(self, hes_kod_, risk_durumu_):\n",
    "        self.__hes_kod = hes_kod_ # hes_kod => private (dışarıdan erişilemeyen bir özellik)\n",
    "        self.risk_durum = risk_durumu_\n",
    "        \n",
    "    def __str__(self):\n",
    "        return self.__hes_kod"
   ]
  },
  {
   "cell_type": "code",
   "execution_count": 97,
   "id": "5564eb65",
   "metadata": {},
   "outputs": [],
   "source": [
    "hes_2 = HesKodu(\"8DIA904DE9\",\"Risksizdir\")"
   ]
  },
  {
   "cell_type": "code",
   "execution_count": 98,
   "id": "085be149",
   "metadata": {},
   "outputs": [
    {
     "ename": "AttributeError",
     "evalue": "'HesKodu' object has no attribute 'hes_kod'",
     "output_type": "error",
     "traceback": [
      "\u001b[1;31m---------------------------------------------------------------------------\u001b[0m",
      "\u001b[1;31mAttributeError\u001b[0m                            Traceback (most recent call last)",
      "\u001b[1;32m~\\AppData\\Local\\Temp/ipykernel_19640/2288965847.py\u001b[0m in \u001b[0;36m<module>\u001b[1;34m\u001b[0m\n\u001b[1;32m----> 1\u001b[1;33m \u001b[0mhes_2\u001b[0m\u001b[1;33m.\u001b[0m\u001b[0mhes_kod\u001b[0m\u001b[1;33m\u001b[0m\u001b[1;33m\u001b[0m\u001b[0m\n\u001b[0m",
      "\u001b[1;31mAttributeError\u001b[0m: 'HesKodu' object has no attribute 'hes_kod'"
     ]
    }
   ],
   "source": [
    "hes_2.hes_kod"
   ]
  },
  {
   "cell_type": "code",
   "execution_count": 99,
   "id": "f0b31bbc",
   "metadata": {},
   "outputs": [
    {
     "ename": "AttributeError",
     "evalue": "'HesKodu' object has no attribute '__hes_kod'",
     "output_type": "error",
     "traceback": [
      "\u001b[1;31m---------------------------------------------------------------------------\u001b[0m",
      "\u001b[1;31mAttributeError\u001b[0m                            Traceback (most recent call last)",
      "\u001b[1;32m~\\AppData\\Local\\Temp/ipykernel_19640/3731951154.py\u001b[0m in \u001b[0;36m<module>\u001b[1;34m\u001b[0m\n\u001b[1;32m----> 1\u001b[1;33m \u001b[0mhes_2\u001b[0m\u001b[1;33m.\u001b[0m\u001b[0m__hes_kod\u001b[0m\u001b[1;33m\u001b[0m\u001b[1;33m\u001b[0m\u001b[0m\n\u001b[0m",
      "\u001b[1;31mAttributeError\u001b[0m: 'HesKodu' object has no attribute '__hes_kod'"
     ]
    }
   ],
   "source": [
    "hes_2.__hes_kod"
   ]
  },
  {
   "cell_type": "code",
   "execution_count": 100,
   "id": "a0c88bfb",
   "metadata": {},
   "outputs": [],
   "source": [
    "hes_2.hes_kod = \"8jasdfpasdf\""
   ]
  },
  {
   "cell_type": "code",
   "execution_count": 102,
   "id": "1634f31c",
   "metadata": {},
   "outputs": [],
   "source": [
    "hes_2.__hes_kod = \"8jasdasdfpasdf\""
   ]
  },
  {
   "cell_type": "code",
   "execution_count": 103,
   "id": "70790d3a",
   "metadata": {},
   "outputs": [
    {
     "name": "stdout",
     "output_type": "stream",
     "text": [
      "8DIA904DE9\n"
     ]
    }
   ],
   "source": [
    "print(hes_2)"
   ]
  },
  {
   "cell_type": "markdown",
   "id": "900cd07e",
   "metadata": {},
   "source": [
    "## NumPy Kütüphanesi"
   ]
  },
  {
   "cell_type": "code",
   "execution_count": 105,
   "id": "8ce3e281",
   "metadata": {},
   "outputs": [],
   "source": [
    "liste = [3,4,5,6,7,2,3,5,9,5] # => liste'nin elemanlarını 2 ile çarpmak istiyorum: [6, 8, 10, 12, 14, 4, 6, 10, 18, 10]"
   ]
  },
  {
   "cell_type": "code",
   "execution_count": 106,
   "id": "3d9feaaa",
   "metadata": {},
   "outputs": [
    {
     "data": {
      "text/plain": [
       "[3, 4, 5, 6, 7, 2, 3, 5, 9, 5, 3, 4, 5, 6, 7, 2, 3, 5, 9, 5]"
      ]
     },
     "execution_count": 106,
     "metadata": {},
     "output_type": "execute_result"
    }
   ],
   "source": [
    "2 * liste # ?? Doğru sonuç vermez."
   ]
  },
  {
   "cell_type": "code",
   "execution_count": 107,
   "id": "b3c98eaa",
   "metadata": {},
   "outputs": [
    {
     "name": "stdout",
     "output_type": "stream",
     "text": [
      "[6, 8, 10, 12, 14, 4, 6, 10, 18, 10]\n"
     ]
    }
   ],
   "source": [
    "liste2 = []\n",
    "for rakam in liste:\n",
    "    liste2.append(rakam * 2)\n",
    "print(liste2)"
   ]
  },
  {
   "cell_type": "code",
   "execution_count": 108,
   "id": "158e58c2",
   "metadata": {},
   "outputs": [
    {
     "name": "stdout",
     "output_type": "stream",
     "text": [
      "[6, 8, 10, 12, 14, 4, 6, 10, 18, 10]\n"
     ]
    }
   ],
   "source": [
    "liste3 = [2 * rakam for rakam in liste] # list comprehension\n",
    "print(liste3)"
   ]
  },
  {
   "cell_type": "code",
   "execution_count": 109,
   "id": "4aa4dea8",
   "metadata": {},
   "outputs": [],
   "source": [
    "import numpy as np # Numpy kütüphanesinin import edilmesi"
   ]
  },
  {
   "cell_type": "code",
   "execution_count": 110,
   "id": "b1dee582",
   "metadata": {},
   "outputs": [],
   "source": [
    "np_liste = np.array(liste)"
   ]
  },
  {
   "cell_type": "code",
   "execution_count": 111,
   "id": "3943d6fc",
   "metadata": {},
   "outputs": [
    {
     "name": "stdout",
     "output_type": "stream",
     "text": [
      "[3 4 5 6 7 2 3 5 9 5]\n"
     ]
    }
   ],
   "source": [
    "print(np_liste)"
   ]
  },
  {
   "cell_type": "code",
   "execution_count": 112,
   "id": "04d4d1a7",
   "metadata": {},
   "outputs": [
    {
     "data": {
      "text/plain": [
       "list"
      ]
     },
     "execution_count": 112,
     "metadata": {},
     "output_type": "execute_result"
    }
   ],
   "source": [
    "type(liste)"
   ]
  },
  {
   "cell_type": "code",
   "execution_count": 113,
   "id": "72582000",
   "metadata": {},
   "outputs": [
    {
     "data": {
      "text/plain": [
       "numpy.ndarray"
      ]
     },
     "execution_count": 113,
     "metadata": {},
     "output_type": "execute_result"
    }
   ],
   "source": [
    "type(np_liste)"
   ]
  },
  {
   "cell_type": "code",
   "execution_count": 114,
   "id": "e4c387b8",
   "metadata": {},
   "outputs": [
    {
     "data": {
      "text/plain": [
       "[3, 4, 5, 6, 7, 2, 3, 5, 9, 5, 3, 4, 5, 6, 7, 2, 3, 5, 9, 5]"
      ]
     },
     "execution_count": 114,
     "metadata": {},
     "output_type": "execute_result"
    }
   ],
   "source": [
    "2 * liste"
   ]
  },
  {
   "cell_type": "code",
   "execution_count": 115,
   "id": "99532bb6",
   "metadata": {},
   "outputs": [
    {
     "data": {
      "text/plain": [
       "array([ 6,  8, 10, 12, 14,  4,  6, 10, 18, 10])"
      ]
     },
     "execution_count": 115,
     "metadata": {},
     "output_type": "execute_result"
    }
   ],
   "source": [
    "2 * np_liste"
   ]
  },
  {
   "cell_type": "code",
   "execution_count": 116,
   "id": "1f768fb6",
   "metadata": {},
   "outputs": [],
   "source": [
    "arr = np.array([1,2,3,4,5,6])"
   ]
  },
  {
   "cell_type": "code",
   "execution_count": 117,
   "id": "c1ee9f20",
   "metadata": {},
   "outputs": [
    {
     "name": "stdout",
     "output_type": "stream",
     "text": [
      "[1 2 3 4 5 6]\n"
     ]
    }
   ],
   "source": [
    "print(arr)"
   ]
  },
  {
   "cell_type": "code",
   "execution_count": 118,
   "id": "6825d8f0",
   "metadata": {},
   "outputs": [
    {
     "name": "stdout",
     "output_type": "stream",
     "text": [
      "[1. 2. 3. 4. 5. 6.]\n"
     ]
    }
   ],
   "source": [
    "print(np.array([1,2,3,4,5.,6]))"
   ]
  },
  {
   "cell_type": "code",
   "execution_count": 119,
   "id": "d636b9c8",
   "metadata": {},
   "outputs": [],
   "source": [
    "arr = np.array((1,2,3,4,5,6))"
   ]
  },
  {
   "cell_type": "code",
   "execution_count": 120,
   "id": "11e95fa2",
   "metadata": {},
   "outputs": [],
   "source": [
    "arr2 = np.array([[1,2,3],[4,5,6]])"
   ]
  },
  {
   "cell_type": "code",
   "execution_count": 121,
   "id": "15f05219",
   "metadata": {},
   "outputs": [
    {
     "name": "stdout",
     "output_type": "stream",
     "text": [
      "[[1 2 3]\n",
      " [4 5 6]]\n"
     ]
    }
   ],
   "source": [
    "print(arr2)"
   ]
  },
  {
   "cell_type": "code",
   "execution_count": 122,
   "id": "2494cc83",
   "metadata": {},
   "outputs": [
    {
     "data": {
      "text/plain": [
       "2"
      ]
     },
     "execution_count": 122,
     "metadata": {},
     "output_type": "execute_result"
    }
   ],
   "source": [
    "arr2.ndim # Bir numpy array'inin kaç boyutlu olduğunu öğrenmek için"
   ]
  },
  {
   "cell_type": "code",
   "execution_count": 123,
   "id": "31369747",
   "metadata": {},
   "outputs": [
    {
     "data": {
      "text/plain": [
       "1"
      ]
     },
     "execution_count": 123,
     "metadata": {},
     "output_type": "execute_result"
    }
   ],
   "source": [
    "arr.ndim"
   ]
  },
  {
   "cell_type": "code",
   "execution_count": 124,
   "id": "13fa2cec",
   "metadata": {},
   "outputs": [
    {
     "data": {
      "text/plain": [
       "2"
      ]
     },
     "execution_count": 124,
     "metadata": {},
     "output_type": "execute_result"
    }
   ],
   "source": [
    "arr[1]"
   ]
  },
  {
   "cell_type": "code",
   "execution_count": 126,
   "id": "9d21a190",
   "metadata": {},
   "outputs": [
    {
     "data": {
      "text/plain": [
       "array([3, 4])"
      ]
     },
     "execution_count": 126,
     "metadata": {},
     "output_type": "execute_result"
    }
   ],
   "source": [
    "arr[2:4] # indekler 2 ve 3 gösterilir (4 hariç)"
   ]
  },
  {
   "cell_type": "code",
   "execution_count": 127,
   "id": "a74514bb",
   "metadata": {},
   "outputs": [],
   "source": [
    "arr = np.arange(1,100) # 1 den 100'e kadar (100 hariç) bir numpy array oluştur"
   ]
  },
  {
   "cell_type": "code",
   "execution_count": 128,
   "id": "305a1d07",
   "metadata": {},
   "outputs": [
    {
     "name": "stdout",
     "output_type": "stream",
     "text": [
      "[ 1  2  3  4  5  6  7  8  9 10 11 12 13 14 15 16 17 18 19 20 21 22 23 24\n",
      " 25 26 27 28 29 30 31 32 33 34 35 36 37 38 39 40 41 42 43 44 45 46 47 48\n",
      " 49 50 51 52 53 54 55 56 57 58 59 60 61 62 63 64 65 66 67 68 69 70 71 72\n",
      " 73 74 75 76 77 78 79 80 81 82 83 84 85 86 87 88 89 90 91 92 93 94 95 96\n",
      " 97 98 99]\n"
     ]
    }
   ],
   "source": [
    "print(arr)"
   ]
  },
  {
   "cell_type": "code",
   "execution_count": 129,
   "id": "223f5b5f",
   "metadata": {},
   "outputs": [
    {
     "data": {
      "text/plain": [
       "(99,)"
      ]
     },
     "execution_count": 129,
     "metadata": {},
     "output_type": "execute_result"
    }
   ],
   "source": [
    "arr.shape"
   ]
  },
  {
   "cell_type": "code",
   "execution_count": 130,
   "id": "bea85ad9",
   "metadata": {},
   "outputs": [
    {
     "data": {
      "text/plain": [
       "1"
      ]
     },
     "execution_count": 130,
     "metadata": {},
     "output_type": "execute_result"
    }
   ],
   "source": [
    "arr.ndim"
   ]
  },
  {
   "cell_type": "code",
   "execution_count": 132,
   "id": "d3594d5e",
   "metadata": {},
   "outputs": [],
   "source": [
    "arr2 = arr.reshape(9,11)"
   ]
  },
  {
   "cell_type": "code",
   "execution_count": 133,
   "id": "9170d16d",
   "metadata": {},
   "outputs": [
    {
     "data": {
      "text/plain": [
       "(9, 11)"
      ]
     },
     "execution_count": 133,
     "metadata": {},
     "output_type": "execute_result"
    }
   ],
   "source": [
    "arr2.shape"
   ]
  },
  {
   "cell_type": "code",
   "execution_count": 136,
   "id": "0ae86c4b",
   "metadata": {},
   "outputs": [
    {
     "name": "stdout",
     "output_type": "stream",
     "text": [
      "[ 1  2  3  4  5  6  7  8  9 10 11]\n",
      "[12 13 14 15 16 17 18 19 20 21 22]\n",
      "[23 24 25 26 27 28 29 30 31 32 33]\n",
      "[34 35 36 37 38 39 40 41 42 43 44]\n",
      "[45 46 47 48 49 50 51 52 53 54 55]\n",
      "[56 57 58 59 60 61 62 63 64 65 66]\n",
      "[67 68 69 70 71 72 73 74 75 76 77]\n",
      "[78 79 80 81 82 83 84 85 86 87 88]\n",
      "[89 90 91 92 93 94 95 96 97 98 99]\n"
     ]
    }
   ],
   "source": [
    "for rakam in arr2:\n",
    "    print(rakam)"
   ]
  },
  {
   "cell_type": "code",
   "execution_count": 137,
   "id": "2e39902e",
   "metadata": {},
   "outputs": [],
   "source": [
    "arr1 = np.array([1,2,3])\n",
    "arr2 = np.array([9,10,11])\n",
    "# iki array birleştirmek => [1,2,3,9,10,11]"
   ]
  },
  {
   "cell_type": "code",
   "execution_count": 139,
   "id": "89b204d3",
   "metadata": {},
   "outputs": [],
   "source": [
    "arr = np.concatenate((arr1, arr2))"
   ]
  },
  {
   "cell_type": "code",
   "execution_count": 144,
   "id": "c746de4b",
   "metadata": {},
   "outputs": [
    {
     "name": "stdout",
     "output_type": "stream",
     "text": [
      "[ 1  2  3  9 10 11]\n"
     ]
    }
   ],
   "source": [
    "print(arr)"
   ]
  },
  {
   "cell_type": "code",
   "execution_count": 145,
   "id": "1553f158",
   "metadata": {},
   "outputs": [],
   "source": [
    "arr_cift_index = np.where(arr % 2 == 0) \n",
    "# Çift sayıların filtrelenmesi. np.where çift olan array elemanlarının İNDEKS değerlerini döndürür."
   ]
  },
  {
   "cell_type": "code",
   "execution_count": 146,
   "id": "63facc68",
   "metadata": {},
   "outputs": [
    {
     "name": "stdout",
     "output_type": "stream",
     "text": [
      "(array([1, 4], dtype=int64),)\n"
     ]
    }
   ],
   "source": [
    "print(arr_cift) # index değerleri"
   ]
  },
  {
   "cell_type": "code",
   "execution_count": 147,
   "id": "acff3531",
   "metadata": {},
   "outputs": [
    {
     "data": {
      "text/plain": [
       "array([ 2, 10])"
      ]
     },
     "execution_count": 147,
     "metadata": {},
     "output_type": "execute_result"
    }
   ],
   "source": [
    "arr[arr_cift] # index değerlerinin kullanarak orjinal array'in değerlerine erişim."
   ]
  },
  {
   "cell_type": "code",
   "execution_count": 148,
   "id": "ff0773e4",
   "metadata": {},
   "outputs": [],
   "source": [
    "arr = np.array([4,1,6,3,2,9])"
   ]
  },
  {
   "cell_type": "code",
   "execution_count": 149,
   "id": "6c0b511c",
   "metadata": {},
   "outputs": [
    {
     "data": {
      "text/plain": [
       "array([1, 2, 3, 4, 6, 9])"
      ]
     },
     "execution_count": 149,
     "metadata": {},
     "output_type": "execute_result"
    }
   ],
   "source": [
    "np.sort(arr)"
   ]
  },
  {
   "cell_type": "code",
   "execution_count": 150,
   "id": "41f13474",
   "metadata": {},
   "outputs": [],
   "source": [
    "arrTek = arr % 2 == 1 # numpy ile filtreleme"
   ]
  },
  {
   "cell_type": "code",
   "execution_count": 151,
   "id": "2e8bb51d",
   "metadata": {},
   "outputs": [
    {
     "data": {
      "text/plain": [
       "array([1, 3, 9])"
      ]
     },
     "execution_count": 151,
     "metadata": {},
     "output_type": "execute_result"
    }
   ],
   "source": [
    "arr[arrTek]"
   ]
  },
  {
   "cell_type": "markdown",
   "id": "d80d3dce",
   "metadata": {},
   "source": [
    "arrTek"
   ]
  },
  {
   "cell_type": "markdown",
   "id": "05bfe615",
   "metadata": {},
   "source": [
    "## Uygulamalar"
   ]
  },
  {
   "cell_type": "code",
   "execution_count": 154,
   "id": "32905df2",
   "metadata": {},
   "outputs": [],
   "source": [
    "# Bir Dikdortgen Class'ı oluşturunuz.\n",
    "# 2. Dikdortgen Class'ında alan ve çevre hesaplayan iki tane oluşturunuz"
   ]
  },
  {
   "cell_type": "code",
   "execution_count": 163,
   "id": "2ec6a0ad",
   "metadata": {},
   "outputs": [],
   "source": [
    "class Dikdortgen:\n",
    "    def __init__(self, kisaKenar, uzunKenar):\n",
    "        self.kisaKenar = kisaKenar\n",
    "        self.uzunKenar = uzunKenar\n",
    "\n",
    "    def alan(self): # a * b\n",
    "        return self.kisaKenar * self.uzunKenar\n",
    "    \n",
    "    def cevre(self): # 2 * (a + b)\n",
    "        return 2 * (self.kisaKenar + self.uzunKenar)"
   ]
  },
  {
   "cell_type": "code",
   "execution_count": 159,
   "id": "523fa393",
   "metadata": {},
   "outputs": [],
   "source": [
    "# Dikdorgen Class'ını kullanarak 2 tane nesne oluşturunuz?"
   ]
  },
  {
   "cell_type": "code",
   "execution_count": 164,
   "id": "1f0a5d6f",
   "metadata": {},
   "outputs": [],
   "source": [
    "dikdortgen1 = Dikdortgen(30,60)\n",
    "dikdortgen2 = Dikdortgen(5,8)"
   ]
  },
  {
   "cell_type": "code",
   "execution_count": 165,
   "id": "974b37b5",
   "metadata": {},
   "outputs": [],
   "source": [
    "dikdortgen3 = Dikdortgen(20,49)"
   ]
  },
  {
   "cell_type": "code",
   "execution_count": 166,
   "id": "357b4016",
   "metadata": {},
   "outputs": [],
   "source": [
    "dikdortgen4 = Dikdortgen(48,52)"
   ]
  },
  {
   "cell_type": "code",
   "execution_count": 168,
   "id": "7dba418f",
   "metadata": {},
   "outputs": [
    {
     "data": {
      "text/plain": [
       "1800"
      ]
     },
     "execution_count": 168,
     "metadata": {},
     "output_type": "execute_result"
    }
   ],
   "source": [
    "dikdortgen1.alan()"
   ]
  },
  {
   "cell_type": "code",
   "execution_count": 169,
   "id": "6aaa3993",
   "metadata": {},
   "outputs": [
    {
     "data": {
      "text/plain": [
       "180"
      ]
     },
     "execution_count": 169,
     "metadata": {},
     "output_type": "execute_result"
    }
   ],
   "source": [
    "dikdortgen1.cevre()"
   ]
  },
  {
   "cell_type": "code",
   "execution_count": 170,
   "id": "14de2eba",
   "metadata": {},
   "outputs": [],
   "source": [
    "# Numpy\n",
    "arr = np.array([1, 2, 3, 4, 5])"
   ]
  },
  {
   "cell_type": "code",
   "execution_count": 171,
   "id": "fd9444b1",
   "metadata": {},
   "outputs": [],
   "source": [
    "# arr numpy array'inin 3. elemanını print ediniz?"
   ]
  },
  {
   "cell_type": "code",
   "execution_count": 172,
   "id": "257e027a",
   "metadata": {},
   "outputs": [
    {
     "name": "stdout",
     "output_type": "stream",
     "text": [
      "3\n"
     ]
    }
   ],
   "source": [
    " print(arr[2])"
   ]
  },
  {
   "cell_type": "code",
   "execution_count": 173,
   "id": "ea1db9a1",
   "metadata": {},
   "outputs": [],
   "source": [
    "# arr numpy array'inin elemanlarını 3 ile çarpınız. [3,6,9,12,15]"
   ]
  },
  {
   "cell_type": "code",
   "execution_count": 174,
   "id": "19676608",
   "metadata": {},
   "outputs": [
    {
     "data": {
      "text/plain": [
       "array([ 3,  6,  9, 12, 15])"
      ]
     },
     "execution_count": 174,
     "metadata": {},
     "output_type": "execute_result"
    }
   ],
   "source": [
    "arr * 3"
   ]
  },
  {
   "cell_type": "code",
   "execution_count": 175,
   "id": "542f0b96",
   "metadata": {},
   "outputs": [],
   "source": [
    "# arr numpy array'inin elemanlarını 1 arttırınız => [2,3,4,5,6]"
   ]
  },
  {
   "cell_type": "code",
   "execution_count": 176,
   "id": "78d4578a",
   "metadata": {},
   "outputs": [
    {
     "data": {
      "text/plain": [
       "array([2, 3, 4, 5, 6])"
      ]
     },
     "execution_count": 176,
     "metadata": {},
     "output_type": "execute_result"
    }
   ],
   "source": [
    "arr + 1"
   ]
  },
  {
   "cell_type": "code",
   "execution_count": 177,
   "id": "f1412834",
   "metadata": {},
   "outputs": [],
   "source": [
    "liste = [1, 2, 3, 4, 5]"
   ]
  },
  {
   "cell_type": "code",
   "execution_count": 178,
   "id": "0ea55287",
   "metadata": {},
   "outputs": [
    {
     "ename": "TypeError",
     "evalue": "can only concatenate list (not \"int\") to list",
     "output_type": "error",
     "traceback": [
      "\u001b[1;31m---------------------------------------------------------------------------\u001b[0m",
      "\u001b[1;31mTypeError\u001b[0m                                 Traceback (most recent call last)",
      "\u001b[1;32m~\\AppData\\Local\\Temp/ipykernel_19640/4189677065.py\u001b[0m in \u001b[0;36m<module>\u001b[1;34m\u001b[0m\n\u001b[1;32m----> 1\u001b[1;33m \u001b[0mliste\u001b[0m \u001b[1;33m+\u001b[0m \u001b[1;36m1\u001b[0m\u001b[1;33m\u001b[0m\u001b[1;33m\u001b[0m\u001b[0m\n\u001b[0m",
      "\u001b[1;31mTypeError\u001b[0m: can only concatenate list (not \"int\") to list"
     ]
    }
   ],
   "source": [
    "liste + 1"
   ]
  },
  {
   "cell_type": "code",
   "execution_count": 179,
   "id": "c16f0ca8",
   "metadata": {},
   "outputs": [
    {
     "data": {
      "text/plain": [
       "[2, 3, 4, 5, 6]"
      ]
     },
     "execution_count": 179,
     "metadata": {},
     "output_type": "execute_result"
    }
   ],
   "source": [
    "[rakam+1 for rakam in liste]"
   ]
  },
  {
   "cell_type": "code",
   "execution_count": 180,
   "id": "e5b57487",
   "metadata": {},
   "outputs": [
    {
     "data": {
      "text/plain": [
       "array([1, 2, 3, 4, 5])"
      ]
     },
     "execution_count": 180,
     "metadata": {},
     "output_type": "execute_result"
    }
   ],
   "source": [
    "arr"
   ]
  },
  {
   "cell_type": "code",
   "execution_count": 181,
   "id": "f46b9e8c",
   "metadata": {},
   "outputs": [],
   "source": [
    "np.random.shuffle(arr)"
   ]
  },
  {
   "cell_type": "code",
   "execution_count": 182,
   "id": "afa5f7cb",
   "metadata": {},
   "outputs": [
    {
     "data": {
      "text/plain": [
       "array([1, 3, 4, 2, 5])"
      ]
     },
     "execution_count": 182,
     "metadata": {},
     "output_type": "execute_result"
    }
   ],
   "source": [
    "arr"
   ]
  },
  {
   "cell_type": "code",
   "execution_count": 183,
   "id": "c27a3b13",
   "metadata": {},
   "outputs": [],
   "source": [
    "# arr numpy array'ini shuffle ile sürekli karıştırarak 3. eleman değeri (index=2) 2 olunca durunuz."
   ]
  },
  {
   "cell_type": "code",
   "execution_count": 184,
   "id": "7edb37e8",
   "metadata": {},
   "outputs": [
    {
     "name": "stdout",
     "output_type": "stream",
     "text": [
      "[1 3 4 2 5]\n"
     ]
    }
   ],
   "source": [
    "print(arr)"
   ]
  },
  {
   "cell_type": "code",
   "execution_count": 207,
   "id": "01dfecd9",
   "metadata": {},
   "outputs": [
    {
     "name": "stdout",
     "output_type": "stream",
     "text": [
      "[3 2 1 5 4]\n"
     ]
    }
   ],
   "source": [
    "np.random.shuffle(arr)\n",
    "print(arr)"
   ]
  },
  {
   "cell_type": "code",
   "execution_count": 206,
   "id": "351ee2de",
   "metadata": {},
   "outputs": [
    {
     "name": "stdout",
     "output_type": "stream",
     "text": [
      "[3 4 1 2 5]\n",
      "[2 5 4 3 1]\n",
      "[4 3 5 1 2]\n",
      "[2 5 1 3 4]\n",
      "[5 4 2 3 1]\n"
     ]
    }
   ],
   "source": [
    "print(arr)\n",
    "while arr[2] != 2:\n",
    "    np.random.shuffle(arr)\n",
    "    print(arr)"
   ]
  },
  {
   "cell_type": "code",
   "execution_count": null,
   "id": "11d52971",
   "metadata": {},
   "outputs": [],
   "source": [
    "np.random.shuffle(arr)\n",
    "print(arr)"
   ]
  },
  {
   "cell_type": "code",
   "execution_count": 208,
   "id": "9cfa38fb",
   "metadata": {},
   "outputs": [],
   "source": [
    " for rakam in arr:\n",
    "    np.random.shuffle(arr)\n",
    "    if rakam == 2:\n",
    "        print(\"2.sayı\", rakam)\n",
    "        break"
   ]
  },
  {
   "cell_type": "code",
   "execution_count": 277,
   "id": "efc779f4",
   "metadata": {},
   "outputs": [
    {
     "data": {
      "text/plain": [
       "66"
      ]
     },
     "execution_count": 277,
     "metadata": {},
     "output_type": "execute_result"
    }
   ],
   "source": [
    "np.random.randint(100)"
   ]
  },
  {
   "cell_type": "code",
   "execution_count": 278,
   "id": "6dfc3f01",
   "metadata": {},
   "outputs": [
    {
     "data": {
      "text/plain": [
       "array([0., 0., 0., 0., 0., 0., 0., 0., 0., 0., 0., 0., 0., 0., 0., 0., 0.,\n",
       "       0., 0., 0., 0., 0., 0., 0., 0., 0., 0., 0., 0., 0., 0., 0., 0., 0.,\n",
       "       0., 0., 0., 0., 0., 0., 0., 0., 0., 0., 0., 0., 0., 0., 0., 0., 0.,\n",
       "       0., 0., 0., 0., 0., 0., 0., 0., 0., 0., 0., 0., 0., 0., 0., 0., 0.,\n",
       "       0., 0., 0., 0., 0., 0., 0., 0., 0., 0., 0., 0., 0., 0., 0., 0., 0.,\n",
       "       0., 0., 0., 0., 0., 0., 0., 0., 0., 0., 0., 0., 0., 0., 0.])"
      ]
     },
     "execution_count": 278,
     "metadata": {},
     "output_type": "execute_result"
    }
   ],
   "source": [
    "# numpy.random'ın randint fonksiyonu gerçekten rasgele sayılar üretiyor mu kontrol ediniz?\n",
    "np.zeros(100)"
   ]
  },
  {
   "cell_type": "code",
   "execution_count": 279,
   "id": "9ca73f11",
   "metadata": {},
   "outputs": [],
   "source": [
    "basla = np.zeros(100)"
   ]
  },
  {
   "cell_type": "code",
   "execution_count": 286,
   "id": "0c4a22f7",
   "metadata": {},
   "outputs": [],
   "source": [
    "for test in range(1000000):\n",
    "    deger = np.random.randint(100)\n",
    "    basla[deger] = basla[deger] + 1"
   ]
  },
  {
   "cell_type": "code",
   "execution_count": 288,
   "id": "75e0f88b",
   "metadata": {},
   "outputs": [
    {
     "name": "stdout",
     "output_type": "stream",
     "text": [
      "[1.1139 1.1301 1.119  1.1121 1.1035 1.1025 1.1258 1.1177 1.1151 1.107\n",
      " 1.1127 1.1124 1.1037 1.1126 1.1081 1.1079 1.1044 1.1246 1.1274 1.1223\n",
      " 1.126  1.1012 1.1108 1.1161 1.1171 1.1191 1.1049 1.1038 1.1054 1.1104\n",
      " 1.1188 1.1078 1.1099 1.1023 1.1189 1.0979 1.1193 1.0782 1.1041 1.1068\n",
      " 1.1275 1.0761 1.1165 1.1128 1.0949 1.1196 1.1051 1.1124 1.1081 1.1089\n",
      " 1.1074 1.1149 1.1162 1.1143 1.1124 1.1234 1.1001 1.0941 1.1248 1.1053\n",
      " 1.1278 1.1158 1.096  1.0882 1.1114 1.1024 1.116  1.1196 1.0989 1.1084\n",
      " 1.1122 1.1047 1.1294 1.1137 1.1203 1.1122 1.1087 1.1123 1.1059 1.1004\n",
      " 1.1122 1.1193 1.1139 1.1163 1.0878 1.1159 1.1191 1.1202 1.1077 1.1233\n",
      " 1.1123 1.1156 1.1044 1.1201 1.1061 1.0894 1.1049 1.1226 1.1196 1.1086]\n"
     ]
    }
   ],
   "source": [
    "print(basla/10000)"
   ]
  },
  {
   "cell_type": "code",
   "execution_count": 289,
   "id": "d344e123",
   "metadata": {},
   "outputs": [],
   "source": [
    "# https://www.w3schools.com/python/default.asp"
   ]
  },
  {
   "cell_type": "code",
   "execution_count": null,
   "id": "984cef65",
   "metadata": {},
   "outputs": [],
   "source": []
  }
 ],
 "metadata": {
  "kernelspec": {
   "display_name": "Python 3 (ipykernel)",
   "language": "python",
   "name": "python3"
  },
  "language_info": {
   "codemirror_mode": {
    "name": "ipython",
    "version": 3
   },
   "file_extension": ".py",
   "mimetype": "text/x-python",
   "name": "python",
   "nbconvert_exporter": "python",
   "pygments_lexer": "ipython3",
   "version": "3.9.5"
  }
 },
 "nbformat": 4,
 "nbformat_minor": 5
}
