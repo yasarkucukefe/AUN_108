{
 "cells": [
  {
   "cell_type": "markdown",
   "id": "8f70c488",
   "metadata": {},
   "source": [
    "## Matematik İşlemleri"
   ]
  },
  {
   "cell_type": "code",
   "execution_count": 1,
   "id": "9a008a60",
   "metadata": {},
   "outputs": [
    {
     "data": {
      "text/plain": [
       "2"
      ]
     },
     "execution_count": 1,
     "metadata": {},
     "output_type": "execute_result"
    }
   ],
   "source": [
    "1 + 1"
   ]
  },
  {
   "cell_type": "code",
   "execution_count": 2,
   "id": "795b7d32",
   "metadata": {},
   "outputs": [
    {
     "data": {
      "text/plain": [
       "6"
      ]
     },
     "execution_count": 2,
     "metadata": {},
     "output_type": "execute_result"
    }
   ],
   "source": [
    "3*2"
   ]
  },
  {
   "cell_type": "code",
   "execution_count": 3,
   "id": "780dcd29",
   "metadata": {},
   "outputs": [
    {
     "data": {
      "text/plain": [
       "6"
      ]
     },
     "execution_count": 3,
     "metadata": {},
     "output_type": "execute_result"
    }
   ],
   "source": [
    "3 * 2"
   ]
  },
  {
   "cell_type": "code",
   "execution_count": 6,
   "id": "fc95e174",
   "metadata": {},
   "outputs": [
    {
     "data": {
      "text/plain": [
       "0.25"
      ]
     },
     "execution_count": 6,
     "metadata": {},
     "output_type": "execute_result"
    }
   ],
   "source": [
    "1 / 4"
   ]
  },
  {
   "cell_type": "code",
   "execution_count": 7,
   "id": "e3d9da66",
   "metadata": {},
   "outputs": [
    {
     "data": {
      "text/plain": [
       "0"
      ]
     },
     "execution_count": 7,
     "metadata": {},
     "output_type": "execute_result"
    }
   ],
   "source": [
    "4 % 2 # modulus operatörü %"
   ]
  },
  {
   "cell_type": "code",
   "execution_count": 8,
   "id": "8b51b460",
   "metadata": {},
   "outputs": [
    {
     "data": {
      "text/plain": [
       "1"
      ]
     },
     "execution_count": 8,
     "metadata": {},
     "output_type": "execute_result"
    }
   ],
   "source": [
    "3 % 2  # 3 tek sayıdır."
   ]
  },
  {
   "cell_type": "code",
   "execution_count": 9,
   "id": "0e70a2ab",
   "metadata": {},
   "outputs": [
    {
     "data": {
      "text/plain": [
       "14"
      ]
     },
     "execution_count": 9,
     "metadata": {},
     "output_type": "execute_result"
    }
   ],
   "source": [
    "(2 + 5) * (3 - 1)"
   ]
  },
  {
   "cell_type": "markdown",
   "id": "aa881756",
   "metadata": {},
   "source": [
    "## Değişkenler"
   ]
  },
  {
   "cell_type": "code",
   "execution_count": 10,
   "id": "2648e612",
   "metadata": {},
   "outputs": [],
   "source": [
    "degisken1 = 3"
   ]
  },
  {
   "cell_type": "code",
   "execution_count": 11,
   "id": "6222a620",
   "metadata": {},
   "outputs": [
    {
     "name": "stdout",
     "output_type": "stream",
     "text": [
      "3\n"
     ]
    }
   ],
   "source": [
    "print(degisken1)"
   ]
  },
  {
   "cell_type": "code",
   "execution_count": 12,
   "id": "4ab3f4b2",
   "metadata": {},
   "outputs": [
    {
     "data": {
      "text/plain": [
       "int"
      ]
     },
     "execution_count": 12,
     "metadata": {},
     "output_type": "execute_result"
    }
   ],
   "source": [
    "type(degisken1) # type => bir değişkenin veri tipini gösterir"
   ]
  },
  {
   "cell_type": "code",
   "execution_count": 13,
   "id": "ea3b97c0",
   "metadata": {},
   "outputs": [],
   "source": [
    "degisken2 = 3.2"
   ]
  },
  {
   "cell_type": "code",
   "execution_count": 14,
   "id": "e86ad53c",
   "metadata": {},
   "outputs": [
    {
     "data": {
      "text/plain": [
       "float"
      ]
     },
     "execution_count": 14,
     "metadata": {},
     "output_type": "execute_result"
    }
   ],
   "source": [
    "type(degisken2)"
   ]
  },
  {
   "cell_type": "code",
   "execution_count": 15,
   "id": "1e4293e1",
   "metadata": {},
   "outputs": [],
   "source": [
    "degisken3 = \"Elma\""
   ]
  },
  {
   "cell_type": "code",
   "execution_count": 16,
   "id": "9fed3822",
   "metadata": {},
   "outputs": [
    {
     "data": {
      "text/plain": [
       "str"
      ]
     },
     "execution_count": 16,
     "metadata": {},
     "output_type": "execute_result"
    }
   ],
   "source": [
    "type(degisken3)"
   ]
  },
  {
   "cell_type": "code",
   "execution_count": 17,
   "id": "08ee7fc4",
   "metadata": {},
   "outputs": [],
   "source": [
    "degisken4 = degisken1 + degisken2"
   ]
  },
  {
   "cell_type": "code",
   "execution_count": 18,
   "id": "6d6f9c77",
   "metadata": {},
   "outputs": [
    {
     "data": {
      "text/plain": [
       "float"
      ]
     },
     "execution_count": 18,
     "metadata": {},
     "output_type": "execute_result"
    }
   ],
   "source": [
    "type(degisken4)"
   ]
  },
  {
   "cell_type": "code",
   "execution_count": 19,
   "id": "167f7db7",
   "metadata": {},
   "outputs": [
    {
     "name": "stdout",
     "output_type": "stream",
     "text": [
      "6.2\n"
     ]
    }
   ],
   "source": [
    "print(degisken4)"
   ]
  },
  {
   "cell_type": "code",
   "execution_count": 23,
   "id": "b3c724a5",
   "metadata": {},
   "outputs": [],
   "source": [
    "meyve1 = 'Portakal'"
   ]
  },
  {
   "cell_type": "code",
   "execution_count": 24,
   "id": "81edbb54",
   "metadata": {},
   "outputs": [],
   "source": [
    "meyve2 = \"Elma\""
   ]
  },
  {
   "cell_type": "markdown",
   "id": "fb91e66f",
   "metadata": {},
   "source": [
    "## Print"
   ]
  },
  {
   "cell_type": "code",
   "execution_count": 25,
   "id": "a4b6e7b7",
   "metadata": {},
   "outputs": [
    {
     "name": "stdout",
     "output_type": "stream",
     "text": [
      "Portakal\n"
     ]
    }
   ],
   "source": [
    "print(meyve1)"
   ]
  },
  {
   "cell_type": "code",
   "execution_count": 26,
   "id": "6a596379",
   "metadata": {},
   "outputs": [
    {
     "name": "stdout",
     "output_type": "stream",
     "text": [
      "Şu meyveleri sever misiniz? Portakal, Elma\n"
     ]
    }
   ],
   "source": [
    "print(\"Şu meyveleri sever misiniz? \" + meyve1 + \", \" + meyve2)"
   ]
  },
  {
   "cell_type": "code",
   "execution_count": 27,
   "id": "87c12c3a",
   "metadata": {},
   "outputs": [
    {
     "name": "stdout",
     "output_type": "stream",
     "text": [
      "Şu meyveleri sever misiniz? Portakal, Elma\n"
     ]
    }
   ],
   "source": [
    "print(\"Şu meyveleri sever misiniz? {a}, {b}\".format(a=meyve1, b=meyve2))"
   ]
  },
  {
   "cell_type": "code",
   "execution_count": 28,
   "id": "334999b8",
   "metadata": {},
   "outputs": [
    {
     "name": "stdout",
     "output_type": "stream",
     "text": [
      "Şu meyveleri sever misiniz? Portakal, Elma\n"
     ]
    }
   ],
   "source": [
    "print(\"Şu meyveleri sever misiniz? {}, {}\".format(meyve1, meyve2))"
   ]
  },
  {
   "cell_type": "code",
   "execution_count": 29,
   "id": "cdd13ad0",
   "metadata": {},
   "outputs": [
    {
     "name": "stdout",
     "output_type": "stream",
     "text": [
      "Şu meyveleri sever misiniz? Portakal, Elma\n"
     ]
    }
   ],
   "source": [
    "print(f\"Şu meyveleri sever misiniz? {meyve1}, {meyve2}\") # Önerilen"
   ]
  },
  {
   "cell_type": "markdown",
   "id": "83b0bf50",
   "metadata": {},
   "source": [
    "# Listeler"
   ]
  },
  {
   "cell_type": "code",
   "execution_count": 30,
   "id": "ff62d46a",
   "metadata": {},
   "outputs": [
    {
     "data": {
      "text/plain": [
       "[1, 2, 3, 4, 5, 9, 21]"
      ]
     },
     "execution_count": 30,
     "metadata": {},
     "output_type": "execute_result"
    }
   ],
   "source": [
    "[1,2,3,4,5,9,21]"
   ]
  },
  {
   "cell_type": "code",
   "execution_count": 31,
   "id": "e7e57188",
   "metadata": {},
   "outputs": [],
   "source": [
    "liste = [1,3,'araba',True,4.5,[3,5,[True, False]]] # Değişken adı: liste"
   ]
  },
  {
   "cell_type": "code",
   "execution_count": 32,
   "id": "ece358fc",
   "metadata": {},
   "outputs": [
    {
     "name": "stdout",
     "output_type": "stream",
     "text": [
      "[1, 3, 'araba', True, 4.5, [3, 5, [True, False]]]\n"
     ]
    }
   ],
   "source": [
    "print(liste)"
   ]
  },
  {
   "cell_type": "code",
   "execution_count": 33,
   "id": "d31ac89d",
   "metadata": {},
   "outputs": [],
   "source": [
    "liste.append(9)"
   ]
  },
  {
   "cell_type": "code",
   "execution_count": 34,
   "id": "ac22f62a",
   "metadata": {},
   "outputs": [
    {
     "name": "stdout",
     "output_type": "stream",
     "text": [
      "[1, 3, 'araba', True, 4.5, [3, 5, [True, False]], 9]\n"
     ]
    }
   ],
   "source": [
    "print(liste)"
   ]
  },
  {
   "cell_type": "code",
   "execution_count": 35,
   "id": "a6395108",
   "metadata": {},
   "outputs": [
    {
     "data": {
      "text/plain": [
       "1"
      ]
     },
     "execution_count": 35,
     "metadata": {},
     "output_type": "execute_result"
    }
   ],
   "source": [
    "liste[0]"
   ]
  },
  {
   "cell_type": "code",
   "execution_count": 36,
   "id": "26be93ef",
   "metadata": {},
   "outputs": [
    {
     "data": {
      "text/plain": [
       "[3, 5, [True, False]]"
      ]
     },
     "execution_count": 36,
     "metadata": {},
     "output_type": "execute_result"
    }
   ],
   "source": [
    "liste[5]"
   ]
  },
  {
   "cell_type": "code",
   "execution_count": 37,
   "id": "15ca65bc",
   "metadata": {},
   "outputs": [],
   "source": [
    "liste[5].append('ekle')"
   ]
  },
  {
   "cell_type": "code",
   "execution_count": 38,
   "id": "274cb5cb",
   "metadata": {},
   "outputs": [
    {
     "data": {
      "text/plain": [
       "[3, 5, [True, False], 'ekle']"
      ]
     },
     "execution_count": 38,
     "metadata": {},
     "output_type": "execute_result"
    }
   ],
   "source": [
    "liste[5]"
   ]
  },
  {
   "cell_type": "code",
   "execution_count": 39,
   "id": "f83df2dc",
   "metadata": {},
   "outputs": [
    {
     "data": {
      "text/plain": [
       "[3, 5, [True, False], 'ekle']"
      ]
     },
     "execution_count": 39,
     "metadata": {},
     "output_type": "execute_result"
    }
   ],
   "source": [
    "liste[5]"
   ]
  },
  {
   "cell_type": "code",
   "execution_count": 40,
   "id": "c74b0639",
   "metadata": {},
   "outputs": [
    {
     "data": {
      "text/plain": [
       "[True, False]"
      ]
     },
     "execution_count": 40,
     "metadata": {},
     "output_type": "execute_result"
    }
   ],
   "source": [
    "liste[5][2]"
   ]
  },
  {
   "cell_type": "code",
   "execution_count": 41,
   "id": "6b1e94a8",
   "metadata": {},
   "outputs": [
    {
     "data": {
      "text/plain": [
       "False"
      ]
     },
     "execution_count": 41,
     "metadata": {},
     "output_type": "execute_result"
    }
   ],
   "source": [
    "liste[5][2][1]"
   ]
  },
  {
   "cell_type": "code",
   "execution_count": 42,
   "id": "3aea7b4a",
   "metadata": {},
   "outputs": [
    {
     "data": {
      "text/plain": [
       "[1, 3, 'araba', True, 4.5, [3, 5, [True, False, True]], 9]"
      ]
     },
     "execution_count": 42,
     "metadata": {},
     "output_type": "execute_result"
    }
   ],
   "source": [
    "[1, 3, 'araba', True, 4.5, [3, 5, [True, False, True]], 9]"
   ]
  },
  {
   "cell_type": "code",
   "execution_count": 45,
   "id": "8f895081",
   "metadata": {},
   "outputs": [],
   "source": [
    "liste[5][2].append(True)"
   ]
  },
  {
   "cell_type": "code",
   "execution_count": 46,
   "id": "8208ed97",
   "metadata": {},
   "outputs": [
    {
     "name": "stdout",
     "output_type": "stream",
     "text": [
      "[1, 3, 'araba', True, 4.5, [3, 5, [True, False, 'true', True], 'ekle'], 9]\n"
     ]
    }
   ],
   "source": [
    "print(liste)"
   ]
  },
  {
   "cell_type": "code",
   "execution_count": 47,
   "id": "a9a91715",
   "metadata": {},
   "outputs": [],
   "source": [
    "liste[2] = 'Tesla'"
   ]
  },
  {
   "cell_type": "code",
   "execution_count": 48,
   "id": "2f433dc8",
   "metadata": {},
   "outputs": [
    {
     "name": "stdout",
     "output_type": "stream",
     "text": [
      "[1, 3, 'Tesla', True, 4.5, [3, 5, [True, False, 'true', True], 'ekle'], 9]\n"
     ]
    }
   ],
   "source": [
    "print(liste)"
   ]
  },
  {
   "cell_type": "code",
   "execution_count": 49,
   "id": "4b589bf8",
   "metadata": {},
   "outputs": [],
   "source": [
    "liste2 = liste  # liste2'de yapılacak değişiklikler liste'yi de değiştirir."
   ]
  },
  {
   "cell_type": "code",
   "execution_count": 50,
   "id": "2a3c2bac",
   "metadata": {},
   "outputs": [
    {
     "name": "stdout",
     "output_type": "stream",
     "text": [
      "[1, 3, 'Tesla', True, 4.5, [3, 5, [True, False, 'true', True], 'ekle'], 9]\n"
     ]
    }
   ],
   "source": [
    "print(liste2)"
   ]
  },
  {
   "cell_type": "code",
   "execution_count": 51,
   "id": "585f85b8",
   "metadata": {},
   "outputs": [],
   "source": [
    "liste2[2] = 'Nissan'"
   ]
  },
  {
   "cell_type": "code",
   "execution_count": 52,
   "id": "8e6af753",
   "metadata": {},
   "outputs": [
    {
     "name": "stdout",
     "output_type": "stream",
     "text": [
      "[1, 3, 'Nissan', True, 4.5, [3, 5, [True, False, 'true', True], 'ekle'], 9]\n"
     ]
    }
   ],
   "source": [
    "print(liste2)"
   ]
  },
  {
   "cell_type": "code",
   "execution_count": 53,
   "id": "626e1469",
   "metadata": {},
   "outputs": [
    {
     "name": "stdout",
     "output_type": "stream",
     "text": [
      "[1, 3, 'Nissan', True, 4.5, [3, 5, [True, False, 'true', True], 'ekle'], 9]\n"
     ]
    }
   ],
   "source": [
    "print(liste)"
   ]
  },
  {
   "cell_type": "code",
   "execution_count": 54,
   "id": "0ea12d53",
   "metadata": {},
   "outputs": [],
   "source": [
    "liste2.append('Kırmızı')"
   ]
  },
  {
   "cell_type": "code",
   "execution_count": 55,
   "id": "e9505873",
   "metadata": {},
   "outputs": [
    {
     "name": "stdout",
     "output_type": "stream",
     "text": [
      "[1, 3, 'Nissan', True, 4.5, [3, 5, [True, False, 'true', True], 'ekle'], 9, 'Kırmızı']\n"
     ]
    }
   ],
   "source": [
    "print(liste2)"
   ]
  },
  {
   "cell_type": "code",
   "execution_count": 73,
   "id": "bf86108c",
   "metadata": {},
   "outputs": [
    {
     "data": {
      "text/plain": [
       "True"
      ]
     },
     "execution_count": 73,
     "metadata": {},
     "output_type": "execute_result"
    }
   ],
   "source": [
    "3 in liste2"
   ]
  },
  {
   "cell_type": "code",
   "execution_count": 56,
   "id": "34d1ab62",
   "metadata": {},
   "outputs": [
    {
     "name": "stdout",
     "output_type": "stream",
     "text": [
      "[1, 3, 'Nissan', True, 4.5, [3, 5, [True, False, 'true', True], 'ekle'], 9, 'Kırmızı']\n"
     ]
    }
   ],
   "source": [
    "print(liste)"
   ]
  },
  {
   "cell_type": "code",
   "execution_count": 57,
   "id": "cb5b5110",
   "metadata": {},
   "outputs": [],
   "source": [
    "liste3 = liste.copy() # liste3'teki değişiklikler liste'yi etkilemez."
   ]
  },
  {
   "cell_type": "code",
   "execution_count": 58,
   "id": "c0124841",
   "metadata": {},
   "outputs": [
    {
     "name": "stdout",
     "output_type": "stream",
     "text": [
      "[1, 3, 'Nissan', True, 4.5, [3, 5, [True, False, 'true', True], 'ekle'], 9, 'Kırmızı']\n"
     ]
    }
   ],
   "source": [
    "print(liste3)"
   ]
  },
  {
   "cell_type": "code",
   "execution_count": 59,
   "id": "69976a4d",
   "metadata": {},
   "outputs": [],
   "source": [
    "liste3[3] = 'Ford'"
   ]
  },
  {
   "cell_type": "code",
   "execution_count": 61,
   "id": "60d20b6b",
   "metadata": {},
   "outputs": [
    {
     "name": "stdout",
     "output_type": "stream",
     "text": [
      "[1, 3, 'Nissan', True, 4.5, [3, 5, [True, False, 'true', True], 'ekle'], 9, 'Kırmızı']\n"
     ]
    }
   ],
   "source": [
    "print(liste)"
   ]
  },
  {
   "cell_type": "markdown",
   "id": "638098aa",
   "metadata": {},
   "source": [
    "## Dictionary"
   ]
  },
  {
   "cell_type": "code",
   "execution_count": 62,
   "id": "c9c1f87b",
   "metadata": {},
   "outputs": [],
   "source": [
    "sozluk = {'elma':'Sevilen bir meyvedir','Greyfurd':'Elma kadar sevilmez','fiyat':23, 'kg':3.2, 'lezzetliMi':True}"
   ]
  },
  {
   "cell_type": "code",
   "execution_count": 63,
   "id": "f4c2446c",
   "metadata": {},
   "outputs": [
    {
     "data": {
      "text/plain": [
       "'Sevilen bir meyvedir'"
      ]
     },
     "execution_count": 63,
     "metadata": {},
     "output_type": "execute_result"
    }
   ],
   "source": [
    "sozluk['elma']"
   ]
  },
  {
   "cell_type": "code",
   "execution_count": 64,
   "id": "aeb19851",
   "metadata": {},
   "outputs": [
    {
     "data": {
      "text/plain": [
       "3.2"
      ]
     },
     "execution_count": 64,
     "metadata": {},
     "output_type": "execute_result"
    }
   ],
   "source": [
    "sozluk['kg']"
   ]
  },
  {
   "cell_type": "code",
   "execution_count": 65,
   "id": "da6f959e",
   "metadata": {},
   "outputs": [],
   "source": [
    "sozluk['uretimYeri'] = 'Mersin'"
   ]
  },
  {
   "cell_type": "code",
   "execution_count": 66,
   "id": "e2d6503c",
   "metadata": {},
   "outputs": [
    {
     "name": "stdout",
     "output_type": "stream",
     "text": [
      "{'elma': 'Sevilen bir meyvedir', 'Greyfurd': 'Elma kadar sevilmez', 'fiyat': 23, 'kg': 3.2, 'lezzetliMi': True, 'uretimYeri': 'Mersin'}\n"
     ]
    }
   ],
   "source": [
    "print(sozluk)"
   ]
  },
  {
   "cell_type": "code",
   "execution_count": 67,
   "id": "2d24fda0",
   "metadata": {},
   "outputs": [],
   "source": [
    "sozluk['kg'] = 2.8"
   ]
  },
  {
   "cell_type": "code",
   "execution_count": 68,
   "id": "1c8f8afe",
   "metadata": {},
   "outputs": [
    {
     "data": {
      "text/plain": [
       "2.8"
      ]
     },
     "execution_count": 68,
     "metadata": {},
     "output_type": "execute_result"
    }
   ],
   "source": [
    "sozluk['kg']"
   ]
  },
  {
   "cell_type": "code",
   "execution_count": 70,
   "id": "962382a8",
   "metadata": {},
   "outputs": [
    {
     "ename": "KeyError",
     "evalue": "'uretim_yeri'",
     "output_type": "error",
     "traceback": [
      "\u001b[1;31m---------------------------------------------------------------------------\u001b[0m",
      "\u001b[1;31mKeyError\u001b[0m                                  Traceback (most recent call last)",
      "\u001b[1;32m~\\AppData\\Local\\Temp/ipykernel_10028/1193157846.py\u001b[0m in \u001b[0;36m<module>\u001b[1;34m\u001b[0m\n\u001b[1;32m----> 1\u001b[1;33m \u001b[0msozluk\u001b[0m\u001b[1;33m[\u001b[0m\u001b[1;34m'uretim_yeri'\u001b[0m\u001b[1;33m]\u001b[0m\u001b[1;33m\u001b[0m\u001b[1;33m\u001b[0m\u001b[0m\n\u001b[0m",
      "\u001b[1;31mKeyError\u001b[0m: 'uretim_yeri'"
     ]
    }
   ],
   "source": [
    "sozluk['uretim_yeri']"
   ]
  },
  {
   "cell_type": "code",
   "execution_count": 71,
   "id": "7b5d94ec",
   "metadata": {},
   "outputs": [
    {
     "data": {
      "text/plain": [
       "False"
      ]
     },
     "execution_count": 71,
     "metadata": {},
     "output_type": "execute_result"
    }
   ],
   "source": [
    "'uretim_yeri' in sozluk.keys()"
   ]
  },
  {
   "cell_type": "code",
   "execution_count": 159,
   "id": "b5a17f18",
   "metadata": {},
   "outputs": [
    {
     "name": "stdout",
     "output_type": "stream",
     "text": [
      "uretim_yeri anahtarı mevcut değil\n"
     ]
    }
   ],
   "source": [
    "if 'uretim_yeri' in sozluk.keys():\n",
    "    print(sozluk['uretim_yeri'])\n",
    "else:\n",
    "    print('uretim_yeri anahtarı mevcut değil')"
   ]
  },
  {
   "cell_type": "code",
   "execution_count": 72,
   "id": "542eeb51",
   "metadata": {},
   "outputs": [
    {
     "data": {
      "text/plain": [
       "dict_keys(['elma', 'Greyfurd', 'fiyat', 'kg', 'lezzetliMi', 'uretimYeri'])"
      ]
     },
     "execution_count": 72,
     "metadata": {},
     "output_type": "execute_result"
    }
   ],
   "source": [
    "sozluk.keys()"
   ]
  },
  {
   "cell_type": "markdown",
   "id": "7efde885",
   "metadata": {},
   "source": [
    "## Boolean"
   ]
  },
  {
   "cell_type": "code",
   "execution_count": 74,
   "id": "6e577372",
   "metadata": {},
   "outputs": [
    {
     "data": {
      "text/plain": [
       "True"
      ]
     },
     "execution_count": 74,
     "metadata": {},
     "output_type": "execute_result"
    }
   ],
   "source": [
    "1 > 0"
   ]
  },
  {
   "cell_type": "code",
   "execution_count": 76,
   "id": "eb55fb66",
   "metadata": {},
   "outputs": [
    {
     "data": {
      "text/plain": [
       "False"
      ]
     },
     "execution_count": 76,
     "metadata": {},
     "output_type": "execute_result"
    }
   ],
   "source": [
    "3 < 2"
   ]
  },
  {
   "cell_type": "markdown",
   "id": "5f14aeb2",
   "metadata": {},
   "source": [
    "## Tuple"
   ]
  },
  {
   "cell_type": "code",
   "execution_count": 77,
   "id": "d998c149",
   "metadata": {},
   "outputs": [],
   "source": [
    "t = (1,2,3,4,5,'elma',True)"
   ]
  },
  {
   "cell_type": "code",
   "execution_count": 78,
   "id": "23c23806",
   "metadata": {},
   "outputs": [
    {
     "name": "stdout",
     "output_type": "stream",
     "text": [
      "(1, 2, 3, 4, 5, 'elma', True)\n"
     ]
    }
   ],
   "source": [
    "print(t)"
   ]
  },
  {
   "cell_type": "code",
   "execution_count": 79,
   "id": "1e6a2f9d",
   "metadata": {},
   "outputs": [
    {
     "ename": "TypeError",
     "evalue": "'tuple' object does not support item assignment",
     "output_type": "error",
     "traceback": [
      "\u001b[1;31m---------------------------------------------------------------------------\u001b[0m",
      "\u001b[1;31mTypeError\u001b[0m                                 Traceback (most recent call last)",
      "\u001b[1;32m~\\AppData\\Local\\Temp/ipykernel_10028/3790853193.py\u001b[0m in \u001b[0;36m<module>\u001b[1;34m\u001b[0m\n\u001b[1;32m----> 1\u001b[1;33m \u001b[0mt\u001b[0m\u001b[1;33m[\u001b[0m\u001b[1;36m1\u001b[0m\u001b[1;33m]\u001b[0m \u001b[1;33m=\u001b[0m \u001b[1;34m'yeni değer'\u001b[0m\u001b[1;33m\u001b[0m\u001b[1;33m\u001b[0m\u001b[0m\n\u001b[0m",
      "\u001b[1;31mTypeError\u001b[0m: 'tuple' object does not support item assignment"
     ]
    }
   ],
   "source": [
    "t[1] = 'yeni değer' # tuple değişkenleri değiştirilemez."
   ]
  },
  {
   "cell_type": "code",
   "execution_count": 80,
   "id": "2efbfde4",
   "metadata": {},
   "outputs": [
    {
     "data": {
      "text/plain": [
       "2"
      ]
     },
     "execution_count": 80,
     "metadata": {},
     "output_type": "execute_result"
    }
   ],
   "source": [
    "t[1]"
   ]
  },
  {
   "cell_type": "code",
   "execution_count": 81,
   "id": "5242dab1",
   "metadata": {},
   "outputs": [],
   "source": [
    "t = (4,5,6,2)"
   ]
  },
  {
   "cell_type": "markdown",
   "id": "15931768",
   "metadata": {},
   "source": [
    "## Küme (set)"
   ]
  },
  {
   "cell_type": "code",
   "execution_count": 82,
   "id": "76e64976",
   "metadata": {},
   "outputs": [
    {
     "data": {
      "text/plain": [
       "{1, 2, 3}"
      ]
     },
     "execution_count": 82,
     "metadata": {},
     "output_type": "execute_result"
    }
   ],
   "source": [
    "{1,2,3,3} # Bir kümede elemanlar sadece 1 adet bulunur."
   ]
  },
  {
   "cell_type": "code",
   "execution_count": 160,
   "id": "b99e68c8",
   "metadata": {},
   "outputs": [
    {
     "data": {
      "text/plain": [
       "{1, 2, 3, 5, 6}"
      ]
     },
     "execution_count": 160,
     "metadata": {},
     "output_type": "execute_result"
    }
   ],
   "source": [
    "{1,2,3,3,2,5,6}"
   ]
  },
  {
   "cell_type": "code",
   "execution_count": 83,
   "id": "806120c4",
   "metadata": {},
   "outputs": [],
   "source": [
    "k = {1, 4, 'elma', 6}"
   ]
  },
  {
   "cell_type": "code",
   "execution_count": 84,
   "id": "515ebce4",
   "metadata": {},
   "outputs": [
    {
     "name": "stdout",
     "output_type": "stream",
     "text": [
      "{1, 'elma', 4, 6}\n"
     ]
    }
   ],
   "source": [
    "print(k)"
   ]
  },
  {
   "cell_type": "code",
   "execution_count": 86,
   "id": "287b5c89",
   "metadata": {},
   "outputs": [],
   "source": [
    "k.add('7')  # Kümeye yeni eleman eklemek için"
   ]
  },
  {
   "cell_type": "code",
   "execution_count": 87,
   "id": "97e6a363",
   "metadata": {},
   "outputs": [
    {
     "name": "stdout",
     "output_type": "stream",
     "text": [
      "{1, 4, 6, '7', 'elma'}\n"
     ]
    }
   ],
   "source": [
    "print(k)"
   ]
  },
  {
   "cell_type": "code",
   "execution_count": 91,
   "id": "a4e080e1",
   "metadata": {},
   "outputs": [
    {
     "data": {
      "text/plain": [
       "{(1, 2), 1, 2, 3}"
      ]
     },
     "execution_count": 91,
     "metadata": {},
     "output_type": "execute_result"
    }
   ],
   "source": [
    "{1,2,3,3,(1,2)}"
   ]
  },
  {
   "cell_type": "code",
   "execution_count": 95,
   "id": "bb5ce64a",
   "metadata": {},
   "outputs": [
    {
     "data": {
      "text/plain": [
       "{(9, 10), 1, 2, 4}"
      ]
     },
     "execution_count": 95,
     "metadata": {},
     "output_type": "execute_result"
    }
   ],
   "source": [
    "{1,2,4,(9,10)} # Küme içerisine tuple eklenebilir, Liste eklenemez."
   ]
  },
  {
   "cell_type": "markdown",
   "id": "cbe84d32",
   "metadata": {},
   "source": [
    "## Koşul kontrolleri"
   ]
  },
  {
   "cell_type": "code",
   "execution_count": 96,
   "id": "b0390578",
   "metadata": {},
   "outputs": [
    {
     "data": {
      "text/plain": [
       "True"
      ]
     },
     "execution_count": 96,
     "metadata": {},
     "output_type": "execute_result"
    }
   ],
   "source": [
    "3 > 2 "
   ]
  },
  {
   "cell_type": "code",
   "execution_count": 97,
   "id": "684fb6a3",
   "metadata": {},
   "outputs": [
    {
     "data": {
      "text/plain": [
       "True"
      ]
     },
     "execution_count": 97,
     "metadata": {},
     "output_type": "execute_result"
    }
   ],
   "source": [
    "'elma' == 'elma'"
   ]
  },
  {
   "cell_type": "code",
   "execution_count": 98,
   "id": "3b1ec227",
   "metadata": {},
   "outputs": [
    {
     "data": {
      "text/plain": [
       "False"
      ]
     },
     "execution_count": 98,
     "metadata": {},
     "output_type": "execute_result"
    }
   ],
   "source": [
    "'elma' == 'ELMA'"
   ]
  },
  {
   "cell_type": "code",
   "execution_count": 99,
   "id": "c5c709ff",
   "metadata": {},
   "outputs": [
    {
     "data": {
      "text/plain": [
       "True"
      ]
     },
     "execution_count": 99,
     "metadata": {},
     "output_type": "execute_result"
    }
   ],
   "source": [
    "3 == 3.0"
   ]
  },
  {
   "cell_type": "code",
   "execution_count": 100,
   "id": "f1b33d20",
   "metadata": {},
   "outputs": [
    {
     "data": {
      "text/plain": [
       "True"
      ]
     },
     "execution_count": 100,
     "metadata": {},
     "output_type": "execute_result"
    }
   ],
   "source": [
    "1 >= 0"
   ]
  },
  {
   "cell_type": "code",
   "execution_count": 101,
   "id": "823dc807",
   "metadata": {},
   "outputs": [
    {
     "data": {
      "text/plain": [
       "False"
      ]
     },
     "execution_count": 101,
     "metadata": {},
     "output_type": "execute_result"
    }
   ],
   "source": [
    "(1 > 2) and (3 > 2)"
   ]
  },
  {
   "cell_type": "code",
   "execution_count": 103,
   "id": "8228d6dd",
   "metadata": {},
   "outputs": [
    {
     "data": {
      "text/plain": [
       "False"
      ]
     },
     "execution_count": 103,
     "metadata": {},
     "output_type": "execute_result"
    }
   ],
   "source": [
    "True and False"
   ]
  },
  {
   "cell_type": "code",
   "execution_count": 104,
   "id": "09f5206d",
   "metadata": {},
   "outputs": [],
   "source": [
    "# >, <, >=, <=, ==, !="
   ]
  },
  {
   "cell_type": "code",
   "execution_count": 105,
   "id": "e118ec5f",
   "metadata": {},
   "outputs": [
    {
     "data": {
      "text/plain": [
       "True"
      ]
     },
     "execution_count": 105,
     "metadata": {},
     "output_type": "execute_result"
    }
   ],
   "source": [
    "4 != 3"
   ]
  },
  {
   "cell_type": "code",
   "execution_count": 106,
   "id": "f27e459b",
   "metadata": {},
   "outputs": [
    {
     "data": {
      "text/plain": [
       "True"
      ]
     },
     "execution_count": 106,
     "metadata": {},
     "output_type": "execute_result"
    }
   ],
   "source": [
    "True or False"
   ]
  },
  {
   "cell_type": "markdown",
   "id": "0c9300a6",
   "metadata": {},
   "source": [
    "## if, elif, else"
   ]
  },
  {
   "cell_type": "code",
   "execution_count": 111,
   "id": "ff9fefda",
   "metadata": {},
   "outputs": [],
   "source": [
    "a = 2"
   ]
  },
  {
   "cell_type": "code",
   "execution_count": 112,
   "id": "5ea26078",
   "metadata": {},
   "outputs": [
    {
     "name": "stdout",
     "output_type": "stream",
     "text": [
      "a < 3\n"
     ]
    }
   ],
   "source": [
    "if a < 3:\n",
    "    print('a < 3')"
   ]
  },
  {
   "cell_type": "code",
   "execution_count": 115,
   "id": "0229f309",
   "metadata": {},
   "outputs": [
    {
     "name": "stdout",
     "output_type": "stream",
     "text": [
      "a >= 3\n"
     ]
    }
   ],
   "source": [
    "if a < 3:\n",
    "    print('a < 3')\n",
    "else:\n",
    "    print('a >= 3')"
   ]
  },
  {
   "cell_type": "code",
   "execution_count": 114,
   "id": "3cb78ab5",
   "metadata": {},
   "outputs": [],
   "source": [
    "a = 4"
   ]
  },
  {
   "cell_type": "code",
   "execution_count": null,
   "id": "048cdeab",
   "metadata": {},
   "outputs": [],
   "source": [
    "if a > 4:\n",
    "    print('a > 4')\n",
    "elif a <= 4:\n",
    "    print('a <= 4')\n",
    "else:\n",
    "    print('else')"
   ]
  },
  {
   "cell_type": "code",
   "execution_count": 117,
   "id": "81caf9ef",
   "metadata": {},
   "outputs": [],
   "source": [
    "# For döngüsü"
   ]
  },
  {
   "cell_type": "code",
   "execution_count": 118,
   "id": "e9dc9725",
   "metadata": {},
   "outputs": [
    {
     "name": "stdout",
     "output_type": "stream",
     "text": [
      "1\n",
      "2\n",
      "3\n",
      "4\n",
      "5\n"
     ]
    }
   ],
   "source": [
    "print(1)\n",
    "print(2)\n",
    "print(3)\n",
    "print(4)\n",
    "print(5)"
   ]
  },
  {
   "cell_type": "code",
   "execution_count": 120,
   "id": "352aab03",
   "metadata": {},
   "outputs": [
    {
     "name": "stdout",
     "output_type": "stream",
     "text": [
      "1\n",
      "2\n",
      "3\n",
      "4\n",
      "5\n"
     ]
    }
   ],
   "source": [
    "seri = [1,2,3,4,5]\n",
    "for rakam in seri:\n",
    "    print(rakam)"
   ]
  },
  {
   "cell_type": "code",
   "execution_count": 162,
   "id": "c3bed356",
   "metadata": {},
   "outputs": [
    {
     "name": "stdout",
     "output_type": "stream",
     "text": [
      "5 tek sayıdır.\n",
      "7 tek sayıdır.\n"
     ]
    }
   ],
   "source": [
    "seri = [1,2,3,4,5,6,7,8,9,10]\n",
    "for rakam in seri:\n",
    "    if rakam > 8:\n",
    "        break; # For döngüsünden çık\n",
    "    if rakam < 5:\n",
    "        continue # takip eden kodu çalıştırma\n",
    "    if rakam % 2 == 1:\n",
    "        print(f\"{rakam} tek sayıdır.\")"
   ]
  },
  {
   "cell_type": "code",
   "execution_count": 121,
   "id": "2477e926",
   "metadata": {},
   "outputs": [
    {
     "name": "stdout",
     "output_type": "stream",
     "text": [
      "[1, 4, 9, 16, 25]\n"
     ]
    }
   ],
   "source": [
    "seriKare = []\n",
    "for rakam in seri:\n",
    "    seriKare.append(rakam ** 2) # rakam * rakam\n",
    "print(seriKare)"
   ]
  },
  {
   "cell_type": "markdown",
   "id": "6644a8b8",
   "metadata": {},
   "source": [
    "## While döngüsü"
   ]
  },
  {
   "cell_type": "code",
   "execution_count": 122,
   "id": "7b319a97",
   "metadata": {},
   "outputs": [
    {
     "name": "stdout",
     "output_type": "stream",
     "text": [
      "1\n",
      "2\n",
      "3\n",
      "4\n",
      "5\n"
     ]
    }
   ],
   "source": [
    "i = 1\n",
    "while i <= 5:\n",
    "    print(i)\n",
    "    i = i + 1"
   ]
  },
  {
   "cell_type": "code",
   "execution_count": 123,
   "id": "5e0674f0",
   "metadata": {},
   "outputs": [
    {
     "name": "stdout",
     "output_type": "stream",
     "text": [
      "1\n",
      "2\n",
      "3\n",
      "4\n",
      "5\n"
     ]
    }
   ],
   "source": [
    "i = 1\n",
    "while True:\n",
    "    if i <= 5:\n",
    "        print(i)\n",
    "    else:\n",
    "        break\n",
    "    i = i + 1"
   ]
  },
  {
   "cell_type": "code",
   "execution_count": 127,
   "id": "b8e4d024",
   "metadata": {},
   "outputs": [
    {
     "name": "stdout",
     "output_type": "stream",
     "text": [
      "1\n"
     ]
    }
   ],
   "source": [
    "j = 1\n",
    "while j < 2:\n",
    "    print(j)\n",
    "    j = j + 1"
   ]
  },
  {
   "cell_type": "code",
   "execution_count": 126,
   "id": "68d52b93",
   "metadata": {},
   "outputs": [
    {
     "data": {
      "text/plain": [
       "True"
      ]
     },
     "execution_count": 126,
     "metadata": {},
     "output_type": "execute_result"
    }
   ],
   "source": [
    "j < 2"
   ]
  },
  {
   "cell_type": "markdown",
   "id": "0d487e6c",
   "metadata": {},
   "source": [
    "## Range (seri oluşturmak için)"
   ]
  },
  {
   "cell_type": "code",
   "execution_count": 128,
   "id": "180ff275",
   "metadata": {},
   "outputs": [
    {
     "data": {
      "text/plain": [
       "[1, 2, 3, 4, 5, 6, 7, 8, 9, 10]"
      ]
     },
     "execution_count": 128,
     "metadata": {},
     "output_type": "execute_result"
    }
   ],
   "source": [
    "[1,2,3,4,5,6,7,8,9,10]"
   ]
  },
  {
   "cell_type": "code",
   "execution_count": 129,
   "id": "52635f4e",
   "metadata": {},
   "outputs": [
    {
     "data": {
      "text/plain": [
       "range(1, 10)"
      ]
     },
     "execution_count": 129,
     "metadata": {},
     "output_type": "execute_result"
    }
   ],
   "source": [
    "range(1,10)"
   ]
  },
  {
   "cell_type": "code",
   "execution_count": 163,
   "id": "d4694e3a",
   "metadata": {},
   "outputs": [
    {
     "name": "stdout",
     "output_type": "stream",
     "text": [
      "range(1, 10)\n"
     ]
    }
   ],
   "source": [
    "print(range(1,10)) # range nesnesi print eder, liste print edilmez."
   ]
  },
  {
   "cell_type": "code",
   "execution_count": 134,
   "id": "ebe48874",
   "metadata": {},
   "outputs": [
    {
     "data": {
      "text/plain": [
       "[1, 2, 3, 4, 5, 6, 7, 8, 9, 10]"
      ]
     },
     "execution_count": 134,
     "metadata": {},
     "output_type": "execute_result"
    }
   ],
   "source": [
    "list(range(1,11)) # 1 dahil, 11 hariç, 1 artarak"
   ]
  },
  {
   "cell_type": "code",
   "execution_count": 136,
   "id": "f7a89cc7",
   "metadata": {},
   "outputs": [
    {
     "data": {
      "text/plain": [
       "[1, 3, 5, 7, 9]"
      ]
     },
     "execution_count": 136,
     "metadata": {},
     "output_type": "execute_result"
    }
   ],
   "source": [
    "list(range(1,11,2)) # 1 dahil, 11 hariç, 2 artarak"
   ]
  },
  {
   "cell_type": "code",
   "execution_count": 139,
   "id": "b376fa68",
   "metadata": {},
   "outputs": [
    {
     "name": "stdout",
     "output_type": "stream",
     "text": [
      "0\n",
      "1\n",
      "2\n",
      "3\n",
      "4\n",
      "5\n",
      "6\n",
      "7\n",
      "8\n",
      "9\n"
     ]
    }
   ],
   "source": [
    "for rakam in range(10): # 10 hariç, 1'den 10'a kadar 1 artarak\n",
    "    print(rakam)"
   ]
  },
  {
   "cell_type": "code",
   "execution_count": 137,
   "id": "0a49572b",
   "metadata": {},
   "outputs": [
    {
     "name": "stdout",
     "output_type": "stream",
     "text": [
      "1\n",
      "2\n",
      "3\n",
      "4\n",
      "5\n",
      "6\n",
      "7\n",
      "8\n",
      "9\n",
      "10\n"
     ]
    }
   ],
   "source": [
    "for rakam in range(1,11):\n",
    "    print(rakam)"
   ]
  },
  {
   "cell_type": "code",
   "execution_count": 141,
   "id": "191d4128",
   "metadata": {},
   "outputs": [
    {
     "name": "stdout",
     "output_type": "stream",
     "text": [
      "5050\n"
     ]
    }
   ],
   "source": [
    "# 1'den başlayarak 100'e kadar olan tam sayıların (100 dahil) toplamını bulunuz?\n",
    "toplam = 0\n",
    "for sayi in range(1,101):\n",
    "    toplam = toplam + sayi\n",
    "print(toplam)"
   ]
  },
  {
   "cell_type": "code",
   "execution_count": 143,
   "id": "303e713e",
   "metadata": {},
   "outputs": [
    {
     "name": "stdout",
     "output_type": "stream",
     "text": [
      "5050\n"
     ]
    }
   ],
   "source": [
    "# Alternatif\n",
    "toplam = 0\n",
    "sayi = 1\n",
    "while sayi < 101:\n",
    "    toplam = toplam + sayi\n",
    "    sayi = sayi + 1\n",
    "print(toplam)"
   ]
  },
  {
   "cell_type": "markdown",
   "id": "1005d979",
   "metadata": {},
   "source": [
    "## Methodlar"
   ]
  },
  {
   "cell_type": "code",
   "execution_count": 144,
   "id": "62892bce",
   "metadata": {},
   "outputs": [],
   "source": [
    "metin = \"Merhaba, bugün hangi gün biliyor musunuz?\""
   ]
  },
  {
   "cell_type": "code",
   "execution_count": 145,
   "id": "cd4dfa4d",
   "metadata": {},
   "outputs": [
    {
     "data": {
      "text/plain": [
       "'MERHABA, BUGÜN HANGI GÜN BILIYOR MUSUNUZ?'"
      ]
     },
     "execution_count": 145,
     "metadata": {},
     "output_type": "execute_result"
    }
   ],
   "source": [
    "metin.upper() # Büyük harfli olsun."
   ]
  },
  {
   "cell_type": "code",
   "execution_count": 164,
   "id": "a0f50806",
   "metadata": {},
   "outputs": [
    {
     "data": {
      "text/plain": [
       "'merhaba, bugün hangi gün biliyor musunuz?'"
      ]
     },
     "execution_count": 164,
     "metadata": {},
     "output_type": "execute_result"
    }
   ],
   "source": [
    "metin.lower() # Küçük harfli olsun"
   ]
  },
  {
   "cell_type": "code",
   "execution_count": 146,
   "id": "b1287bce",
   "metadata": {},
   "outputs": [
    {
     "data": {
      "text/plain": [
       "['Merhaba,', 'bugün', 'hangi', 'gün', 'biliyor', 'musunuz?']"
      ]
     },
     "execution_count": 146,
     "metadata": {},
     "output_type": "execute_result"
    }
   ],
   "source": [
    "metin.split()"
   ]
  },
  {
   "cell_type": "code",
   "execution_count": 148,
   "id": "6e56eb95",
   "metadata": {},
   "outputs": [
    {
     "data": {
      "text/plain": [
       "['Merhaba', 'bugün hangi gün biliyor musunuz?']"
      ]
     },
     "execution_count": 148,
     "metadata": {},
     "output_type": "execute_result"
    }
   ],
   "source": [
    "metin.split(\", \")"
   ]
  },
  {
   "cell_type": "code",
   "execution_count": 149,
   "id": "9047ade5",
   "metadata": {},
   "outputs": [
    {
     "data": {
      "text/plain": [
       "41"
      ]
     },
     "execution_count": 149,
     "metadata": {},
     "output_type": "execute_result"
    }
   ],
   "source": [
    "len(metin)"
   ]
  },
  {
   "cell_type": "code",
   "execution_count": 150,
   "id": "58bad940",
   "metadata": {},
   "outputs": [
    {
     "data": {
      "text/plain": [
       "6"
      ]
     },
     "execution_count": 150,
     "metadata": {},
     "output_type": "execute_result"
    }
   ],
   "source": [
    "len(metin.split())"
   ]
  },
  {
   "cell_type": "code",
   "execution_count": 151,
   "id": "0f8f6967",
   "metadata": {},
   "outputs": [],
   "source": [
    "liste = [1,2,3,4]"
   ]
  },
  {
   "cell_type": "code",
   "execution_count": 154,
   "id": "37c5bd32",
   "metadata": {},
   "outputs": [
    {
     "data": {
      "text/plain": [
       "3"
      ]
     },
     "execution_count": 154,
     "metadata": {},
     "output_type": "execute_result"
    }
   ],
   "source": [
    "liste.pop() # Bir listenin son elemanını listeden çıkarır."
   ]
  },
  {
   "cell_type": "code",
   "execution_count": 153,
   "id": "4e7d981b",
   "metadata": {},
   "outputs": [
    {
     "data": {
      "text/plain": [
       "[1, 2, 3]"
      ]
     },
     "execution_count": 153,
     "metadata": {},
     "output_type": "execute_result"
    }
   ],
   "source": [
    "liste"
   ]
  },
  {
   "cell_type": "code",
   "execution_count": 155,
   "id": "a976432b",
   "metadata": {},
   "outputs": [],
   "source": [
    "liste = [3,4,5,6]"
   ]
  },
  {
   "cell_type": "code",
   "execution_count": 156,
   "id": "851e271a",
   "metadata": {},
   "outputs": [
    {
     "name": "stdout",
     "output_type": "stream",
     "text": [
      "[3, 4, 5, 6]\n"
     ]
    }
   ],
   "source": [
    "print(liste)"
   ]
  },
  {
   "cell_type": "code",
   "execution_count": 157,
   "id": "0da13cfc",
   "metadata": {},
   "outputs": [
    {
     "name": "stdout",
     "output_type": "stream",
     "text": [
      "6\n"
     ]
    }
   ],
   "source": [
    "print(liste.pop()) # !"
   ]
  },
  {
   "cell_type": "code",
   "execution_count": 158,
   "id": "da5ae089",
   "metadata": {},
   "outputs": [
    {
     "name": "stdout",
     "output_type": "stream",
     "text": [
      "[3, 4, 5]\n"
     ]
    }
   ],
   "source": [
    "print(liste)"
   ]
  },
  {
   "cell_type": "code",
   "execution_count": null,
   "id": "6ee0478a",
   "metadata": {},
   "outputs": [],
   "source": []
  }
 ],
 "metadata": {
  "kernelspec": {
   "display_name": "Python 3 (ipykernel)",
   "language": "python",
   "name": "python3"
  },
  "language_info": {
   "codemirror_mode": {
    "name": "ipython",
    "version": 3
   },
   "file_extension": ".py",
   "mimetype": "text/x-python",
   "name": "python",
   "nbconvert_exporter": "python",
   "pygments_lexer": "ipython3",
   "version": "3.9.5"
  }
 },
 "nbformat": 4,
 "nbformat_minor": 5
}
