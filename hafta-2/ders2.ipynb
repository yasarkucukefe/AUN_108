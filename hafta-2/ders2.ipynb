{
 "cells": [
  {
   "cell_type": "markdown",
   "id": "86e8c4e6",
   "metadata": {},
   "source": [
    "## Method'lar"
   ]
  },
  {
   "cell_type": "code",
   "execution_count": 7,
   "id": "799eafa1",
   "metadata": {},
   "outputs": [],
   "source": [
    "liste = [1,2,3,9,22,30,2,30,40,2]"
   ]
  },
  {
   "cell_type": "code",
   "execution_count": 4,
   "id": "7920ca39",
   "metadata": {},
   "outputs": [],
   "source": [
    "liste.append(23)"
   ]
  },
  {
   "cell_type": "code",
   "execution_count": 5,
   "id": "429866b9",
   "metadata": {},
   "outputs": [
    {
     "data": {
      "text/plain": [
       "10"
      ]
     },
     "execution_count": 5,
     "metadata": {},
     "output_type": "execute_result"
    }
   ],
   "source": [
    "len(liste)"
   ]
  },
  {
   "cell_type": "code",
   "execution_count": 8,
   "id": "8a63284a",
   "metadata": {},
   "outputs": [
    {
     "data": {
      "text/plain": [
       "3"
      ]
     },
     "execution_count": 8,
     "metadata": {},
     "output_type": "execute_result"
    }
   ],
   "source": [
    "# Soru: liste'de 2 rakamı kaç defa kullanılmıştır?\n",
    "liste.count(2) # count() metodu ile bir listede verilen bir değerin kaç tane (count) bulunduğu hesaplanabilir."
   ]
  },
  {
   "cell_type": "code",
   "execution_count": 9,
   "id": "06a12543",
   "metadata": {},
   "outputs": [
    {
     "name": "stdout",
     "output_type": "stream",
     "text": [
      "3\n"
     ]
    }
   ],
   "source": [
    "kacTane = 0\n",
    "deger = 2\n",
    "for eleman in liste:\n",
    "    if eleman == deger:\n",
    "        kacTane += 1 # kacTane = kacTane + 1\n",
    "print(kacTane)"
   ]
  },
  {
   "cell_type": "code",
   "execution_count": 10,
   "id": "ddaf5b09",
   "metadata": {},
   "outputs": [
    {
     "name": "stdout",
     "output_type": "stream",
     "text": [
      "Help on built-in function count:\n",
      "\n",
      "count(value, /) method of builtins.list instance\n",
      "    Return number of occurrences of value.\n",
      "\n"
     ]
    }
   ],
   "source": [
    "help(liste.count)"
   ]
  },
  {
   "cell_type": "code",
   "execution_count": 11,
   "id": "1c13cb97",
   "metadata": {},
   "outputs": [
    {
     "data": {
      "text/plain": [
       "['__add__',\n",
       " '__class__',\n",
       " '__class_getitem__',\n",
       " '__contains__',\n",
       " '__delattr__',\n",
       " '__delitem__',\n",
       " '__dir__',\n",
       " '__doc__',\n",
       " '__eq__',\n",
       " '__format__',\n",
       " '__ge__',\n",
       " '__getattribute__',\n",
       " '__getitem__',\n",
       " '__gt__',\n",
       " '__hash__',\n",
       " '__iadd__',\n",
       " '__imul__',\n",
       " '__init__',\n",
       " '__init_subclass__',\n",
       " '__iter__',\n",
       " '__le__',\n",
       " '__len__',\n",
       " '__lt__',\n",
       " '__mul__',\n",
       " '__ne__',\n",
       " '__new__',\n",
       " '__reduce__',\n",
       " '__reduce_ex__',\n",
       " '__repr__',\n",
       " '__reversed__',\n",
       " '__rmul__',\n",
       " '__setattr__',\n",
       " '__setitem__',\n",
       " '__sizeof__',\n",
       " '__str__',\n",
       " '__subclasshook__',\n",
       " 'append',\n",
       " 'clear',\n",
       " 'copy',\n",
       " 'count',\n",
       " 'extend',\n",
       " 'index',\n",
       " 'insert',\n",
       " 'pop',\n",
       " 'remove',\n",
       " 'reverse',\n",
       " 'sort']"
      ]
     },
     "execution_count": 11,
     "metadata": {},
     "output_type": "execute_result"
    }
   ],
   "source": [
    "dir(list) # bir class'ta bulunan metod'ların listesi"
   ]
  },
  {
   "cell_type": "markdown",
   "id": "540295c5",
   "metadata": {},
   "source": [
    "## Fonksiyonlar"
   ]
  },
  {
   "cell_type": "code",
   "execution_count": 17,
   "id": "30fd7c16",
   "metadata": {},
   "outputs": [
    {
     "name": "stdout",
     "output_type": "stream",
     "text": [
      "2 tane elma var.\n",
      "3 tane 2 var.\n"
     ]
    }
   ],
   "source": [
    "liste1 = [\"elma\",\"portakal\",\"elma\",\"kivi\"]\n",
    "# kac tane elma vardır?\n",
    "kacTane = 0\n",
    "deger = \"elma\"\n",
    "for eleman in liste1:\n",
    "    if eleman == deger:\n",
    "        kacTane += 1 # kacTane = kacTane + 1\n",
    "print(str(kacTane) + \" tane \" + deger + \" var.\")\n",
    "\n",
    "# başka bir liste\n",
    "liste2 = [1,2,3,9,22,30,2,30,40,2]\n",
    "# kac tane 2 vardır?\n",
    "kacTane = 0\n",
    "deger = 2\n",
    "for eleman in liste2:\n",
    "    if eleman == deger:\n",
    "        kacTane += 1 # kacTane = kacTane + 1\n",
    "print(f\"{kacTane} tane {deger} var.\")"
   ]
  },
  {
   "cell_type": "code",
   "execution_count": 20,
   "id": "5117ab16",
   "metadata": {},
   "outputs": [],
   "source": [
    "def fonksiyon_ad(deger1, deger2):\n",
    "    '''\n",
    "    Fonkisyon hakkında bilgi içeren metin (optionel)\n",
    "    '''\n",
    "    # fonksiyon kod bloğu\n",
    "    pass"
   ]
  },
  {
   "cell_type": "code",
   "execution_count": 22,
   "id": "75719219",
   "metadata": {},
   "outputs": [],
   "source": [
    "def listede_kac_tane_var(liste, deger):\n",
    "    '''\n",
    "    Bu fonksiyon şu işlemi yapar:\n",
    "    liste: arama yapılacak liste\n",
    "    deger: kac tane olduğu bulunacak deger\n",
    "    '''\n",
    "    kac_tane = 0\n",
    "    for eleman in liste:\n",
    "        if deger == eleman:\n",
    "            kac_tane += 1\n",
    "    return kac_tane"
   ]
  },
  {
   "cell_type": "code",
   "execution_count": 23,
   "id": "d2e601b8",
   "metadata": {},
   "outputs": [
    {
     "name": "stdout",
     "output_type": "stream",
     "text": [
      "Help on function listede_kac_tane_var in module __main__:\n",
      "\n",
      "listede_kac_tane_var(liste, deger)\n",
      "    Bu fonksiyon şu işlemi yapar:\n",
      "    liste: arama yapılacak liste\n",
      "    deger: kac tane olduğu bulunacak deger\n",
      "\n"
     ]
    }
   ],
   "source": [
    "help(listede_kac_tane_var)"
   ]
  },
  {
   "cell_type": "code",
   "execution_count": 24,
   "id": "d12345db",
   "metadata": {},
   "outputs": [
    {
     "name": "stdout",
     "output_type": "stream",
     "text": [
      "['elma', 'portakal', 'elma', 'kivi'] [1, 2, 3, 9, 22, 30, 2, 30, 40, 2]\n"
     ]
    }
   ],
   "source": [
    "print(liste1, liste2)"
   ]
  },
  {
   "cell_type": "code",
   "execution_count": 25,
   "id": "83fe1b23",
   "metadata": {},
   "outputs": [
    {
     "data": {
      "text/plain": [
       "2"
      ]
     },
     "execution_count": 25,
     "metadata": {},
     "output_type": "execute_result"
    }
   ],
   "source": [
    "listede_kac_tane_var(liste1, \"elma\") # bir fonksiyonun çağırılması"
   ]
  },
  {
   "cell_type": "code",
   "execution_count": 26,
   "id": "30afb9d6",
   "metadata": {},
   "outputs": [
    {
     "data": {
      "text/plain": [
       "3"
      ]
     },
     "execution_count": 26,
     "metadata": {},
     "output_type": "execute_result"
    }
   ],
   "source": [
    "listede_kac_tane_var(liste2, 2)"
   ]
  },
  {
   "cell_type": "code",
   "execution_count": 31,
   "id": "d0712210",
   "metadata": {},
   "outputs": [],
   "source": [
    "def merhaba_dunya(isim):\n",
    "    print(isim.upper())   "
   ]
  },
  {
   "cell_type": "code",
   "execution_count": 32,
   "id": "2696175d",
   "metadata": {},
   "outputs": [
    {
     "name": "stdout",
     "output_type": "stream",
     "text": [
      "DÜNYA\n"
     ]
    }
   ],
   "source": [
    "merhaba_dunya(\"dünya\")"
   ]
  },
  {
   "cell_type": "code",
   "execution_count": 33,
   "id": "bf2e635b",
   "metadata": {},
   "outputs": [],
   "source": [
    "a = 1\n",
    "b = 2\n",
    "c = 3"
   ]
  },
  {
   "cell_type": "code",
   "execution_count": 34,
   "id": "25d8af7d",
   "metadata": {},
   "outputs": [],
   "source": [
    "a,b,c = 1,2,3"
   ]
  },
  {
   "cell_type": "code",
   "execution_count": 35,
   "id": "8d311fd2",
   "metadata": {},
   "outputs": [],
   "source": [
    "# Fonksiyonlar birden fazla değer return edebilirler.\n",
    "def cevre_alan_hesapla(a, b):\n",
    "    alan = a * b\n",
    "    cevre = 2 * (a + b)\n",
    "    return alan, cevre"
   ]
  },
  {
   "cell_type": "code",
   "execution_count": 36,
   "id": "06fda6ca",
   "metadata": {},
   "outputs": [],
   "source": [
    "sekil_alan, sekil_cevre = cevre_alan_hesapla(4, 7)"
   ]
  },
  {
   "cell_type": "code",
   "execution_count": 37,
   "id": "76452b40",
   "metadata": {},
   "outputs": [
    {
     "name": "stdout",
     "output_type": "stream",
     "text": [
      "28 22\n"
     ]
    }
   ],
   "source": [
    "print(sekil_alan, sekil_cevre)"
   ]
  },
  {
   "cell_type": "code",
   "execution_count": 39,
   "id": "524b0452",
   "metadata": {},
   "outputs": [
    {
     "data": {
      "text/plain": [
       "0"
      ]
     },
     "execution_count": 39,
     "metadata": {},
     "output_type": "execute_result"
    }
   ],
   "source": [
    "4 % 2 # ikiye bölümünde kalan 0 ise çift sayıdır."
   ]
  },
  {
   "cell_type": "code",
   "execution_count": 40,
   "id": "de6716a7",
   "metadata": {},
   "outputs": [],
   "source": [
    "# Soru: verilen bir listede bütün rakamlar tek sayısı true, en az bir rakam çift ise false gönderen bir fonksiyon yazınız.\n",
    "liste = [1, 3, 4, 5, 7, 9] # fonksiyon false döndürmeli"
   ]
  },
  {
   "cell_type": "code",
   "execution_count": 58,
   "id": "343f600c",
   "metadata": {},
   "outputs": [],
   "source": [
    "def cift_sayi_mi(rakam):\n",
    "    if rakam % 2 == 0:\n",
    "        return True\n",
    "    return False\n",
    "\n",
    "def butun_sayilar_tek_mi(liste):\n",
    "    for rakam in liste:\n",
    "        print(rakam)\n",
    "        if cift_sayi_mi(rakam):\n",
    "            print(f\"{rakam} => çift sayı\")\n",
    "            return False\n",
    "        else:\n",
    "            print(f\"{rakam} => tek sayı\")\n",
    "    return True"
   ]
  },
  {
   "cell_type": "code",
   "execution_count": 59,
   "id": "13a27940",
   "metadata": {},
   "outputs": [
    {
     "name": "stdout",
     "output_type": "stream",
     "text": [
      "1\n",
      "1 => tek sayı\n",
      "3\n",
      "3 => tek sayı\n",
      "4\n",
      "4 => çift sayı\n"
     ]
    },
    {
     "data": {
      "text/plain": [
       "False"
      ]
     },
     "execution_count": 59,
     "metadata": {},
     "output_type": "execute_result"
    }
   ],
   "source": [
    "butun_sayilar_tek_mi(liste)"
   ]
  },
  {
   "cell_type": "code",
   "execution_count": 55,
   "id": "ea6e44a6",
   "metadata": {},
   "outputs": [
    {
     "name": "stdout",
     "output_type": "stream",
     "text": [
      "1\n",
      "1 => tek sayı\n",
      "3\n",
      "3 => tek sayı\n",
      "5\n",
      "5 => tek sayı\n",
      "7\n",
      "7 => tek sayı\n"
     ]
    },
    {
     "data": {
      "text/plain": [
       "True"
      ]
     },
     "execution_count": 55,
     "metadata": {},
     "output_type": "execute_result"
    }
   ],
   "source": [
    "butun_sayilar_tek_mi([1, 3, 5, 7])"
   ]
  },
  {
   "cell_type": "markdown",
   "id": "9f0763e4",
   "metadata": {},
   "source": [
    "## Lambda, Map ve Filter"
   ]
  },
  {
   "cell_type": "code",
   "execution_count": 60,
   "id": "88507659",
   "metadata": {},
   "outputs": [],
   "source": [
    "def kare_hesapla(rakam):\n",
    "    return rakam ** 2 # rakam * rakam"
   ]
  },
  {
   "cell_type": "code",
   "execution_count": 61,
   "id": "b4ea8519",
   "metadata": {},
   "outputs": [
    {
     "data": {
      "text/plain": [
       "25"
      ]
     },
     "execution_count": 61,
     "metadata": {},
     "output_type": "execute_result"
    }
   ],
   "source": [
    "kare_hesapla(5)"
   ]
  },
  {
   "cell_type": "code",
   "execution_count": 63,
   "id": "1e6b4627",
   "metadata": {},
   "outputs": [],
   "source": [
    "liste = range(1,10000)"
   ]
  },
  {
   "cell_type": "code",
   "execution_count": 64,
   "id": "0502d54d",
   "metadata": {},
   "outputs": [],
   "source": [
    "kare_liste = []\n",
    "for rakam in liste:\n",
    "    kare_liste.append(kare_hesapla(rakam))"
   ]
  },
  {
   "cell_type": "code",
   "execution_count": 65,
   "id": "eb52445d",
   "metadata": {},
   "outputs": [
    {
     "data": {
      "text/plain": [
       "[1, 4, 9, 16, 25, 36, 49, 64, 81, 100]"
      ]
     },
     "execution_count": 65,
     "metadata": {},
     "output_type": "execute_result"
    }
   ],
   "source": [
    "kare_liste[:10]"
   ]
  },
  {
   "cell_type": "code",
   "execution_count": 68,
   "id": "0a53a987",
   "metadata": {},
   "outputs": [],
   "source": [
    "map_ile_liste = list(map(kare_hesapla, liste))"
   ]
  },
  {
   "cell_type": "code",
   "execution_count": 69,
   "id": "b0038e73",
   "metadata": {},
   "outputs": [
    {
     "data": {
      "text/plain": [
       "[1, 4, 9, 16, 25, 36, 49, 64, 81, 100]"
      ]
     },
     "execution_count": 69,
     "metadata": {},
     "output_type": "execute_result"
    }
   ],
   "source": [
    "map_ile_liste[:10]"
   ]
  },
  {
   "cell_type": "code",
   "execution_count": 70,
   "id": "121d41d6",
   "metadata": {},
   "outputs": [],
   "source": [
    "map_liste = map(kare_hesapla, liste)"
   ]
  },
  {
   "cell_type": "code",
   "execution_count": 72,
   "id": "4ce6a0db",
   "metadata": {},
   "outputs": [],
   "source": [
    "yeni_liste = [*map_liste] # liste unpacking *"
   ]
  },
  {
   "cell_type": "code",
   "execution_count": 73,
   "id": "db83ec51",
   "metadata": {},
   "outputs": [
    {
     "data": {
      "text/plain": [
       "[0, 1, 2, 3, 4, 5, 6, 7, 8, 9]"
      ]
     },
     "execution_count": 73,
     "metadata": {},
     "output_type": "execute_result"
    }
   ],
   "source": [
    "[*range(10)]"
   ]
  },
  {
   "cell_type": "code",
   "execution_count": 74,
   "id": "4a9ffb8f",
   "metadata": {},
   "outputs": [
    {
     "data": {
      "text/plain": [
       "range(0, 10)"
      ]
     },
     "execution_count": 74,
     "metadata": {},
     "output_type": "execute_result"
    }
   ],
   "source": [
    "range(10)"
   ]
  },
  {
   "cell_type": "code",
   "execution_count": 76,
   "id": "648be142",
   "metadata": {},
   "outputs": [],
   "source": [
    "def cift_sayi_mi(rakam):\n",
    "    return rakam % 2 == 0"
   ]
  },
  {
   "cell_type": "code",
   "execution_count": 77,
   "id": "3ac0f67a",
   "metadata": {},
   "outputs": [],
   "source": [
    "# Bir listede çift sayıları return eden fonksiyon\n",
    "def listedeki_cift_sayilar(liste):\n",
    "    cift_sayilar = []\n",
    "    for rakam in liste:\n",
    "        if cift_sayi_mi(rakam):\n",
    "            cift_sayilar.append(rakam)\n",
    "    return cift_sayilar"
   ]
  },
  {
   "cell_type": "code",
   "execution_count": 78,
   "id": "90a18783",
   "metadata": {},
   "outputs": [],
   "source": [
    "liste = [0,1,4,5,9,10,11,14,19]"
   ]
  },
  {
   "cell_type": "code",
   "execution_count": 79,
   "id": "169d3d34",
   "metadata": {},
   "outputs": [
    {
     "data": {
      "text/plain": [
       "[0, 4, 10, 14]"
      ]
     },
     "execution_count": 79,
     "metadata": {},
     "output_type": "execute_result"
    }
   ],
   "source": [
    "listedeki_cift_sayilar(liste)"
   ]
  },
  {
   "cell_type": "code",
   "execution_count": 80,
   "id": "cbc8c36b",
   "metadata": {},
   "outputs": [
    {
     "data": {
      "text/plain": [
       "<filter at 0x175555b3dc0>"
      ]
     },
     "execution_count": 80,
     "metadata": {},
     "output_type": "execute_result"
    }
   ],
   "source": [
    "filter(cift_sayi_mi, liste)"
   ]
  },
  {
   "cell_type": "code",
   "execution_count": 81,
   "id": "d8cc9f0e",
   "metadata": {},
   "outputs": [
    {
     "data": {
      "text/plain": [
       "[0, 4, 10, 14]"
      ]
     },
     "execution_count": 81,
     "metadata": {},
     "output_type": "execute_result"
    }
   ],
   "source": [
    "[*filter(cift_sayi_mi, liste)]"
   ]
  },
  {
   "cell_type": "code",
   "execution_count": 82,
   "id": "0b4cf5de",
   "metadata": {},
   "outputs": [
    {
     "data": {
      "text/plain": [
       "[0, 4, 10, 14]"
      ]
     },
     "execution_count": 82,
     "metadata": {},
     "output_type": "execute_result"
    }
   ],
   "source": [
    "list(filter(cift_sayi_mi, liste))"
   ]
  },
  {
   "cell_type": "code",
   "execution_count": 83,
   "id": "781214df",
   "metadata": {},
   "outputs": [],
   "source": [
    "def kare_hesapla(rakam):\n",
    "    return rakam ** 2 # rakam * rakam"
   ]
  },
  {
   "cell_type": "code",
   "execution_count": 84,
   "id": "17027c7a",
   "metadata": {},
   "outputs": [],
   "source": [
    "kare = lambda rakam: rakam ** 2  # Lambda ifadesi"
   ]
  },
  {
   "cell_type": "code",
   "execution_count": 85,
   "id": "f9d2c403",
   "metadata": {},
   "outputs": [
    {
     "data": {
      "text/plain": [
       "81"
      ]
     },
     "execution_count": 85,
     "metadata": {},
     "output_type": "execute_result"
    }
   ],
   "source": [
    "kare(9)"
   ]
  },
  {
   "cell_type": "code",
   "execution_count": 87,
   "id": "d16a5356",
   "metadata": {},
   "outputs": [
    {
     "data": {
      "text/plain": [
       "[0, 4, 10, 14]"
      ]
     },
     "execution_count": 87,
     "metadata": {},
     "output_type": "execute_result"
    }
   ],
   "source": [
    "list(filter(lambda rakam: rakam % 2 == 0, liste))"
   ]
  },
  {
   "cell_type": "code",
   "execution_count": 88,
   "id": "6dc1c4e5",
   "metadata": {},
   "outputs": [],
   "source": [
    "topla = lambda x,y: x + y # toplama işleme yapan bir lambda ifadesi"
   ]
  },
  {
   "cell_type": "code",
   "execution_count": 89,
   "id": "daf1f110",
   "metadata": {},
   "outputs": [
    {
     "data": {
      "text/plain": [
       "14"
      ]
     },
     "execution_count": 89,
     "metadata": {},
     "output_type": "execute_result"
    }
   ],
   "source": [
    "topla(5,9)"
   ]
  },
  {
   "cell_type": "markdown",
   "id": "219c707f",
   "metadata": {},
   "source": [
    "## Nested fonksiyonlar"
   ]
  },
  {
   "cell_type": "code",
   "execution_count": 93,
   "id": "ebe1f2a2",
   "metadata": {},
   "outputs": [],
   "source": [
    "isim = \"Global isim\"\n",
    "\n",
    "def merhaba():\n",
    "    isim = \"Lokal isim\"\n",
    "    \n",
    "    def selam():\n",
    "        print(f\"Merhaba {isim}\")\n",
    "    \n",
    "    selam()\n"
   ]
  },
  {
   "cell_type": "code",
   "execution_count": 94,
   "id": "060544ce",
   "metadata": {},
   "outputs": [
    {
     "name": "stdout",
     "output_type": "stream",
     "text": [
      "Merhaba Lokal isim\n"
     ]
    }
   ],
   "source": [
    "merhaba()"
   ]
  },
  {
   "cell_type": "code",
   "execution_count": 95,
   "id": "c14daed0",
   "metadata": {},
   "outputs": [
    {
     "name": "stdout",
     "output_type": "stream",
     "text": [
      "Global isim\n"
     ]
    }
   ],
   "source": [
    "print(isim)"
   ]
  },
  {
   "cell_type": "markdown",
   "id": "8542243f",
   "metadata": {},
   "source": [
    "## Fonksiyon argümanları"
   ]
  },
  {
   "cell_type": "code",
   "execution_count": 101,
   "id": "b267ee12",
   "metadata": {},
   "outputs": [],
   "source": [
    "def kare_hesapla(rakam=1):\n",
    "    return rakam ** 2 # rakam * rakam"
   ]
  },
  {
   "cell_type": "code",
   "execution_count": 102,
   "id": "481fc84b",
   "metadata": {},
   "outputs": [
    {
     "data": {
      "text/plain": [
       "1"
      ]
     },
     "execution_count": 102,
     "metadata": {},
     "output_type": "execute_result"
    }
   ],
   "source": [
    "kare_hesapla()"
   ]
  },
  {
   "cell_type": "code",
   "execution_count": 108,
   "id": "430c2403",
   "metadata": {},
   "outputs": [],
   "source": [
    "def fonksiyon2(a=0, b=1, c=2, d=1):\n",
    "    return sum((a,b,c,d))"
   ]
  },
  {
   "cell_type": "code",
   "execution_count": 109,
   "id": "629dfda2",
   "metadata": {},
   "outputs": [
    {
     "data": {
      "text/plain": [
       "7"
      ]
     },
     "execution_count": 109,
     "metadata": {},
     "output_type": "execute_result"
    }
   ],
   "source": [
    "fonksiyon2(1,2,3)"
   ]
  },
  {
   "cell_type": "code",
   "execution_count": 110,
   "id": "1c55727a",
   "metadata": {},
   "outputs": [],
   "source": [
    "# *args => tuple of arguments.\n",
    "def fonksiyon3(*args):\n",
    "    return sum(args)"
   ]
  },
  {
   "cell_type": "code",
   "execution_count": 111,
   "id": "a01def89",
   "metadata": {},
   "outputs": [
    {
     "data": {
      "text/plain": [
       "51"
      ]
     },
     "execution_count": 111,
     "metadata": {},
     "output_type": "execute_result"
    }
   ],
   "source": [
    "fonksiyon3(2,3,4,5,1,4,6,7,8,4,5,2)"
   ]
  },
  {
   "cell_type": "code",
   "execution_count": 118,
   "id": "dd6dbdda",
   "metadata": {},
   "outputs": [],
   "source": [
    "# **kwargs = keyworded arguments\n",
    "def fonksiyon4(**kwargs):\n",
    "    if \"meyve\" in kwargs:\n",
    "        print(kwargs['meyve'] + \" yı çok severim.\")\n",
    "    else:\n",
    "        print(\"meyve değeri belirtilmedi\")"
   ]
  },
  {
   "cell_type": "code",
   "execution_count": null,
   "id": "72ec4b26",
   "metadata": {},
   "outputs": [],
   "source": [
    "fonksiyon4(meyve='Elma')"
   ]
  },
  {
   "cell_type": "markdown",
   "id": "f7a11457",
   "metadata": {},
   "source": [
    "## Uygulamalar"
   ]
  },
  {
   "cell_type": "code",
   "execution_count": 121,
   "id": "7b06c630",
   "metadata": {},
   "outputs": [],
   "source": [
    "# Kendisine gönderilen 2 rakamın eğer her ikisi de çift sayı ise küçük olanı, eğer bir tanesi tek sayı ise tek sayı olanı"
   ]
  },
  {
   "cell_type": "code",
   "execution_count": 122,
   "id": "d181081b",
   "metadata": {},
   "outputs": [],
   "source": [
    "#.. eğer her iki sayı da tek sayı ise büyük olanı return eden bir fonksiyon yazınız."
   ]
  },
  {
   "cell_type": "code",
   "execution_count": 123,
   "id": "7c0f72ce",
   "metadata": {},
   "outputs": [],
   "source": [
    "# fonksiyon_ad(2,4) => 2\n",
    "# fonksiyon_ad(3,6) => 3\n",
    "# fonksiyon_ad(3,5) => 5\n",
    "# ipucu: min(2,5) => 2\n",
    "# max(2,5) => 5"
   ]
  },
  {
   "cell_type": "code",
   "execution_count": 132,
   "id": "eef36933",
   "metadata": {},
   "outputs": [],
   "source": [
    "## Efkan\n",
    "def daha_kucuk(a,b):\n",
    "    if a %2 ==0 and b%2==0:\n",
    "        if a < b:\n",
    "            return a\n",
    "        else: return b\n",
    "    elif a % 2 == 1 and b%2==1:\n",
    "        if a<b:\n",
    "            return b\n",
    "        else: return a\n",
    "    else:\n",
    "        if a%2 == 0:\n",
    "            return b\n",
    "        else:\n",
    "            return a"
   ]
  },
  {
   "cell_type": "code",
   "execution_count": 127,
   "id": "24d224ea",
   "metadata": {},
   "outputs": [
    {
     "data": {
      "text/plain": [
       "2"
      ]
     },
     "execution_count": 127,
     "metadata": {},
     "output_type": "execute_result"
    }
   ],
   "source": [
    "daha_kucuk(2,4)"
   ]
  },
  {
   "cell_type": "code",
   "execution_count": 133,
   "id": "7d98a947",
   "metadata": {},
   "outputs": [
    {
     "data": {
      "text/plain": [
       "3"
      ]
     },
     "execution_count": 133,
     "metadata": {},
     "output_type": "execute_result"
    }
   ],
   "source": [
    "daha_kucuk(3,6)"
   ]
  },
  {
   "cell_type": "code",
   "execution_count": 131,
   "id": "f855964e",
   "metadata": {},
   "outputs": [
    {
     "data": {
      "text/plain": [
       "5"
      ]
     },
     "execution_count": 131,
     "metadata": {},
     "output_type": "execute_result"
    }
   ],
   "source": [
    "daha_kucuk(3,5)"
   ]
  },
  {
   "cell_type": "code",
   "execution_count": 134,
   "id": "90947520",
   "metadata": {},
   "outputs": [],
   "source": [
    "## Yılmaz\n",
    "def return_number(rakam1,rakam2):\n",
    "    if rakam1 % 2 == 0 and rakam2 % 2 == 0:\n",
    "        return min(rakam1, rakam2)\n",
    "    elif rakam1 % 2 != 0 and rakam2 % 2 != 0:\n",
    "        return max(rakam1, rakam2)\n",
    "    else:\n",
    "        if rakam1 % 2 == 0:\n",
    "            return rakam2\n",
    "        else:\n",
    "            return rakam1"
   ]
  },
  {
   "cell_type": "code",
   "execution_count": null,
   "id": "674c9710",
   "metadata": {},
   "outputs": [],
   "source": [
    "def return_number(rakam1,rakam2):\n",
    "    if rakam1 % 2 == 0 and rakam2 % 2 == 0:\n",
    "        return min(rakam1, rakam2)\n",
    "    if rakam1 % 2 != 0 and rakam2 % 2 != 0:\n",
    "        return max(rakam1, rakam2)\n",
    "    if rakam1 % 2 == 0:\n",
    "        return rakam2\n",
    "    return rakam1"
   ]
  },
  {
   "cell_type": "code",
   "execution_count": 136,
   "id": "c926233b",
   "metadata": {},
   "outputs": [
    {
     "data": {
      "text/plain": [
       "2"
      ]
     },
     "execution_count": 136,
     "metadata": {},
     "output_type": "execute_result"
    }
   ],
   "source": [
    "return_number(2,4)"
   ]
  },
  {
   "cell_type": "code",
   "execution_count": 137,
   "id": "e5650119",
   "metadata": {},
   "outputs": [
    {
     "data": {
      "text/plain": [
       "3"
      ]
     },
     "execution_count": 137,
     "metadata": {},
     "output_type": "execute_result"
    }
   ],
   "source": [
    "return_number(3,6)"
   ]
  },
  {
   "cell_type": "code",
   "execution_count": 138,
   "id": "b5e2a192",
   "metadata": {},
   "outputs": [
    {
     "data": {
      "text/plain": [
       "5"
      ]
     },
     "execution_count": 138,
     "metadata": {},
     "output_type": "execute_result"
    }
   ],
   "source": [
    "return_number(3,5)"
   ]
  },
  {
   "cell_type": "code",
   "execution_count": null,
   "id": "513b16eb",
   "metadata": {},
   "outputs": [],
   "source": [
    "# Fonksiyon oluştur. 2 tane kelime gönderilecek, eğer iki kelimenin de ilk harfler aynı ise return True\n",
    "# farklı ise return False\n",
    "# fonksiyon_ad(\"Elma\",\"Erik\") => True\n",
    "# fonksiyon_ad(\"Armut\",\"Portakal\") => False"
   ]
  },
  {
   "cell_type": "code",
   "execution_count": 139,
   "id": "57729bc8",
   "metadata": {},
   "outputs": [],
   "source": [
    "# Fatih Bayram\n",
    "def word(word1, word2):\n",
    "    if word1[0] == word2[0]:\n",
    "        return True\n",
    "    else:\n",
    "        return False"
   ]
  },
  {
   "cell_type": "code",
   "execution_count": 140,
   "id": "fc1e56c8",
   "metadata": {},
   "outputs": [
    {
     "data": {
      "text/plain": [
       "True"
      ]
     },
     "execution_count": 140,
     "metadata": {},
     "output_type": "execute_result"
    }
   ],
   "source": [
    "word(\"Elma\",\"Erik\")"
   ]
  },
  {
   "cell_type": "code",
   "execution_count": 141,
   "id": "594050f5",
   "metadata": {},
   "outputs": [
    {
     "data": {
      "text/plain": [
       "False"
      ]
     },
     "execution_count": 141,
     "metadata": {},
     "output_type": "execute_result"
    }
   ],
   "source": [
    "word(\"Armut\",\"Portakal\")"
   ]
  },
  {
   "cell_type": "code",
   "execution_count": 142,
   "id": "3f65f7be",
   "metadata": {},
   "outputs": [],
   "source": [
    "def word2(word1, word2):\n",
    "    return word1[0] == word2[0]"
   ]
  },
  {
   "cell_type": "code",
   "execution_count": null,
   "id": "aeb1d711",
   "metadata": {},
   "outputs": [],
   "source": [
    "# Verilen bir listedeki sayıların, belirtilen alt ve üst sınırlar arasında olanların (sınırlar dahil) liste olarak return etsin\n",
    "# liste = [3,9,10,20,50]\n",
    "# fonksiyon_ad(liste,alt_limit,ust_limit)\n",
    "# fonksiyon_ad(liste,5,25) => [9,10,20]"
   ]
  },
  {
   "cell_type": "code",
   "execution_count": 148,
   "id": "4205428b",
   "metadata": {},
   "outputs": [],
   "source": [
    "def limitler_dahilinde(rakam, alt_limit=5, ust_limit=25):\n",
    "    return rakam >= alt_limit and rakam <= ust_limit"
   ]
  },
  {
   "cell_type": "code",
   "execution_count": 147,
   "id": "5243e8e7",
   "metadata": {},
   "outputs": [],
   "source": [
    "liste = [3,9,10,20,50]"
   ]
  },
  {
   "cell_type": "code",
   "execution_count": 149,
   "id": "eb2f9947",
   "metadata": {},
   "outputs": [
    {
     "data": {
      "text/plain": [
       "[9, 10, 20]"
      ]
     },
     "execution_count": 149,
     "metadata": {},
     "output_type": "execute_result"
    }
   ],
   "source": [
    "list(filter(limitler_dahilinde,liste))"
   ]
  },
  {
   "cell_type": "code",
   "execution_count": 160,
   "id": "e75e4457",
   "metadata": {},
   "outputs": [],
   "source": [
    "# Efkan\n",
    "def liste_sinir(a,b,liste):\n",
    "    yeni_liste=[]\n",
    "    for rakam in liste:\n",
    "        if rakam >= a and rakam<=b:\n",
    "            yeni_liste.append(rakam)\n",
    "    return yeni_liste"
   ]
  },
  {
   "cell_type": "code",
   "execution_count": 161,
   "id": "64bb1a42",
   "metadata": {},
   "outputs": [
    {
     "data": {
      "text/plain": [
       "[9, 10, 20]"
      ]
     },
     "execution_count": 161,
     "metadata": {},
     "output_type": "execute_result"
    }
   ],
   "source": [
    "liste_sinir(5,25,liste)"
   ]
  },
  {
   "cell_type": "code",
   "execution_count": 153,
   "id": "f2100c69",
   "metadata": {},
   "outputs": [
    {
     "data": {
      "text/plain": [
       "[3, 9, 10, 20, 50]"
      ]
     },
     "execution_count": 153,
     "metadata": {},
     "output_type": "execute_result"
    }
   ],
   "source": [
    "liste"
   ]
  },
  {
   "cell_type": "code",
   "execution_count": null,
   "id": "7e62d5e8",
   "metadata": {},
   "outputs": [],
   "source": [
    "# Kendisine gönderilen bir listede tekrar eden rakamları listeden çıkarıp 1'er tane olarak return eden bir fonksiyon oluşturunuz.\n",
    "# [1,2,1,22,3,3,5,7,7] => [1,2,3,5,7,22]"
   ]
  },
  {
   "cell_type": "code",
   "execution_count": 163,
   "id": "199455f4",
   "metadata": {},
   "outputs": [],
   "source": [
    "# Fatih\n",
    "def essiz(liste):\n",
    "    return set(liste)"
   ]
  },
  {
   "cell_type": "code",
   "execution_count": 164,
   "id": "7b6d5ee9",
   "metadata": {},
   "outputs": [
    {
     "data": {
      "text/plain": [
       "{1, 2, 3, 5, 7, 22}"
      ]
     },
     "execution_count": 164,
     "metadata": {},
     "output_type": "execute_result"
    }
   ],
   "source": [
    "essiz([1,2,1,22,3,3,5,7,7])"
   ]
  },
  {
   "cell_type": "code",
   "execution_count": null,
   "id": "ea990b96",
   "metadata": {},
   "outputs": [],
   "source": []
  }
 ],
 "metadata": {
  "kernelspec": {
   "display_name": "Python 3 (ipykernel)",
   "language": "python",
   "name": "python3"
  },
  "language_info": {
   "codemirror_mode": {
    "name": "ipython",
    "version": 3
   },
   "file_extension": ".py",
   "mimetype": "text/x-python",
   "name": "python",
   "nbconvert_exporter": "python",
   "pygments_lexer": "ipython3",
   "version": "3.9.5"
  }
 },
 "nbformat": 4,
 "nbformat_minor": 5
}
