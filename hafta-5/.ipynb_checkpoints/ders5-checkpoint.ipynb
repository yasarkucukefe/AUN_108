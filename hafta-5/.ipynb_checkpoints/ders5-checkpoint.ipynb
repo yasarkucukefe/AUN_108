{
 "cells": [
  {
   "cell_type": "markdown",
   "id": "b5d57a93",
   "metadata": {},
   "source": [
    "## Hatalar ve Exception Handling"
   ]
  },
  {
   "cell_type": "code",
   "execution_count": 3,
   "id": "fd1856ac",
   "metadata": {},
   "outputs": [
    {
     "ename": "SyntaxError",
     "evalue": "EOL while scanning string literal (Temp/ipykernel_14964/2003563538.py, line 1)",
     "output_type": "error",
     "traceback": [
      "\u001b[1;36m  File \u001b[1;32m\"C:\\Users\\yasar\\AppData\\Local\\Temp/ipykernel_14964/2003563538.py\"\u001b[1;36m, line \u001b[1;32m1\u001b[0m\n\u001b[1;33m    print('Hello) # Hata üretecek kod\u001b[0m\n\u001b[1;37m                                     ^\u001b[0m\n\u001b[1;31mSyntaxError\u001b[0m\u001b[1;31m:\u001b[0m EOL while scanning string literal\n"
     ]
    }
   ],
   "source": [
    "print('Hello) # Hata üretecek kod"
   ]
  },
  {
   "cell_type": "code",
   "execution_count": 4,
   "id": "a4f5c31f",
   "metadata": {},
   "outputs": [
    {
     "name": "stdout",
     "output_type": "stream",
     "text": [
      "Hello\n"
     ]
    }
   ],
   "source": [
    "print('Hello')"
   ]
  },
  {
   "cell_type": "code",
   "execution_count": 10,
   "id": "b96a925a",
   "metadata": {},
   "outputs": [
    {
     "name": "stdout",
     "output_type": "stream",
     "text": [
      "Hata:division by zero\n"
     ]
    }
   ],
   "source": [
    "try:\n",
    "    print(1/0)\n",
    "except Exception as e:\n",
    "    print(\"Hata:\"+str(e))"
   ]
  },
  {
   "cell_type": "code",
   "execution_count": 11,
   "id": "9375af4b",
   "metadata": {},
   "outputs": [
    {
     "ename": "FileNotFoundError",
     "evalue": "[Errno 2] No such file or directory: 'olmayan_dosya.txt'",
     "output_type": "error",
     "traceback": [
      "\u001b[1;31m---------------------------------------------------------------------------\u001b[0m",
      "\u001b[1;31mFileNotFoundError\u001b[0m                         Traceback (most recent call last)",
      "\u001b[1;32m~\\AppData\\Local\\Temp/ipykernel_14964/4104201812.py\u001b[0m in \u001b[0;36m<module>\u001b[1;34m\u001b[0m\n\u001b[1;32m----> 1\u001b[1;33m \u001b[0mf\u001b[0m \u001b[1;33m=\u001b[0m \u001b[0mopen\u001b[0m\u001b[1;33m(\u001b[0m\u001b[1;34m'olmayan_dosya.txt'\u001b[0m\u001b[1;33m)\u001b[0m\u001b[1;33m\u001b[0m\u001b[1;33m\u001b[0m\u001b[0m\n\u001b[0m",
      "\u001b[1;31mFileNotFoundError\u001b[0m: [Errno 2] No such file or directory: 'olmayan_dosya.txt'"
     ]
    }
   ],
   "source": [
    "f = open('olmayan_dosya.txt')"
   ]
  },
  {
   "cell_type": "code",
   "execution_count": 13,
   "id": "ab66fb54",
   "metadata": {},
   "outputs": [
    {
     "name": "stdout",
     "output_type": "stream",
     "text": [
      "Dosya bulunamadı\n"
     ]
    }
   ],
   "source": [
    "try:\n",
    "    f = open('olmayan_dosya.txt')\n",
    "except FileNotFoundError:\n",
    "    print('Dosya bulunamadı')\n",
    "else:\n",
    "    print('Başka bir hata')"
   ]
  },
  {
   "cell_type": "code",
   "execution_count": 14,
   "id": "ffffec3f",
   "metadata": {},
   "outputs": [
    {
     "ename": "NameError",
     "evalue": "name 'degisken' is not defined",
     "output_type": "error",
     "traceback": [
      "\u001b[1;31m---------------------------------------------------------------------------\u001b[0m",
      "\u001b[1;31mNameError\u001b[0m                                 Traceback (most recent call last)",
      "\u001b[1;32m~\\AppData\\Local\\Temp/ipykernel_14964/3918103793.py\u001b[0m in \u001b[0;36m<module>\u001b[1;34m\u001b[0m\n\u001b[1;32m----> 1\u001b[1;33m \u001b[0mprint\u001b[0m\u001b[1;33m(\u001b[0m\u001b[0mdegisken\u001b[0m\u001b[1;33m)\u001b[0m\u001b[1;33m\u001b[0m\u001b[1;33m\u001b[0m\u001b[0m\n\u001b[0m",
      "\u001b[1;31mNameError\u001b[0m: name 'degisken' is not defined"
     ]
    }
   ],
   "source": [
    "print(degisken)"
   ]
  },
  {
   "cell_type": "code",
   "execution_count": 15,
   "id": "659969bf",
   "metadata": {},
   "outputs": [
    {
     "name": "stdout",
     "output_type": "stream",
     "text": [
      "Dosya bulunamadı\n",
      "Finally bloğu her zaman çalışır: Hata olsa da olmasa da\n"
     ]
    }
   ],
   "source": [
    "try:\n",
    "    f = open('olmayan_dosya.txt')\n",
    "except FileNotFoundError:\n",
    "    print('Dosya bulunamadı')\n",
    "finally:\n",
    "    print('Finally bloğu her zaman çalışır: Hata olsa da olmasa da')"
   ]
  },
  {
   "cell_type": "code",
   "execution_count": 16,
   "id": "8ca996dc",
   "metadata": {},
   "outputs": [
    {
     "name": "stdout",
     "output_type": "stream",
     "text": [
      "yeni dosya oluşturuldu.\n",
      "Finally bloğu her zaman çalışır: Hata olsa da olmasa da\n"
     ]
    }
   ],
   "source": [
    "try:\n",
    "    f = open('yeni_dosya.txt','w')\n",
    "    f.write('Test')\n",
    "    f.close()\n",
    "    print('yeni dosya oluşturuldu.')\n",
    "except FileNotFoundError:\n",
    "    print('Dosya bulunamadı')\n",
    "finally:\n",
    "    print('Finally bloğu her zaman çalışır: Hata olsa da olmasa da')"
   ]
  },
  {
   "cell_type": "code",
   "execution_count": 17,
   "id": "89153fb9",
   "metadata": {},
   "outputs": [
    {
     "name": "stdout",
     "output_type": "stream",
     "text": [
      "Lütfen bir sayı giriniz:5\n"
     ]
    }
   ],
   "source": [
    "deger = input('Lütfen bir sayı giriniz:')"
   ]
  },
  {
   "cell_type": "code",
   "execution_count": 18,
   "id": "8264d500",
   "metadata": {},
   "outputs": [
    {
     "name": "stdout",
     "output_type": "stream",
     "text": [
      "5\n"
     ]
    }
   ],
   "source": [
    "print(deger)"
   ]
  },
  {
   "cell_type": "code",
   "execution_count": 19,
   "id": "162613c6",
   "metadata": {},
   "outputs": [
    {
     "name": "stdout",
     "output_type": "stream",
     "text": [
      "Lütfen bir sayı giriniz:yaşar\n"
     ]
    },
    {
     "ename": "ValueError",
     "evalue": "invalid literal for int() with base 10: 'yaşar'",
     "output_type": "error",
     "traceback": [
      "\u001b[1;31m---------------------------------------------------------------------------\u001b[0m",
      "\u001b[1;31mValueError\u001b[0m                                Traceback (most recent call last)",
      "\u001b[1;32m~\\AppData\\Local\\Temp/ipykernel_14964/754863016.py\u001b[0m in \u001b[0;36m<module>\u001b[1;34m\u001b[0m\n\u001b[1;32m----> 1\u001b[1;33m \u001b[0mdeger\u001b[0m \u001b[1;33m=\u001b[0m \u001b[0mint\u001b[0m\u001b[1;33m(\u001b[0m\u001b[0minput\u001b[0m\u001b[1;33m(\u001b[0m\u001b[1;34m'Lütfen bir sayı giriniz:'\u001b[0m\u001b[1;33m)\u001b[0m\u001b[1;33m)\u001b[0m\u001b[1;33m\u001b[0m\u001b[1;33m\u001b[0m\u001b[0m\n\u001b[0m",
      "\u001b[1;31mValueError\u001b[0m: invalid literal for int() with base 10: 'yaşar'"
     ]
    }
   ],
   "source": [
    "deger = int(input('Lütfen bir sayı giriniz:'))"
   ]
  },
  {
   "cell_type": "code",
   "execution_count": 21,
   "id": "21f0d0c8",
   "metadata": {},
   "outputs": [
    {
     "name": "stdout",
     "output_type": "stream",
     "text": [
      "Lütfen bir sayı giriniz:6\n",
      "6\n",
      "işlem sona erdi.\n"
     ]
    }
   ],
   "source": [
    "try:\n",
    "    deger = int(input('Lütfen bir sayı giriniz:'))\n",
    "    print(deger)\n",
    "except:\n",
    "    print('Hatalı giriş yaptınız.')\n",
    "finally:\n",
    "    print('işlem sona erdi.')"
   ]
  },
  {
   "cell_type": "code",
   "execution_count": 29,
   "id": "f1daa20a",
   "metadata": {},
   "outputs": [
    {
     "name": "stdout",
     "output_type": "stream",
     "text": [
      "Lütfen bir sayı giriniz.ya\n",
      "Hatalı giriş\n",
      "İşlem sonu.\n"
     ]
    }
   ],
   "source": [
    "x = 5;\n",
    "\n",
    "try:\n",
    "    y = int(input('Lütfen bir sayı giriniz.'))\n",
    "    z = x / y  # Sıfıra bölünme hatası (ZeroDivisionError, ValueError)\n",
    "    print(z)\n",
    "except ZeroDivisionError:\n",
    "    print('Sıfıra bölünme hatası')\n",
    "except ValueError:\n",
    "    print('Hatalı giriş')\n",
    "except:\n",
    "    print('Bilinmeyen hata')\n",
    "finally:\n",
    "    print('İşlem sonu.')\n"
   ]
  },
  {
   "cell_type": "code",
   "execution_count": null,
   "id": "d20ff752",
   "metadata": {},
   "outputs": [],
   "source": [
    "while True:\n",
    "    try:\n",
    "        y = int(input('Lütfen bir sayı giriniz:'))\n",
    "        z = 5 / y\n",
    "        print(z)\n",
    "    except ValueError:\n",
    "        print('Hatalı giriş yaptınız. Tekrar deneyiniz.')\n",
    "        continue\n",
    "    except ZeroDivisionError:\n",
    "        print('Sıfırdan farklı bir rakam girişi yapmalısınız')\n",
    "        continue\n",
    "    except KeyboardInterrupt:\n",
    "        print('Görüşmek üzere.')\n",
    "        break\n",
    "    except:\n",
    "        print('Bilinmeyen hata')\n",
    "    break"
   ]
  },
  {
   "cell_type": "code",
   "execution_count": null,
   "id": "8548b241",
   "metadata": {},
   "outputs": [],
   "source": []
  }
 ],
 "metadata": {
  "kernelspec": {
   "display_name": "Python 3 (ipykernel)",
   "language": "python",
   "name": "python3"
  },
  "language_info": {
   "codemirror_mode": {
    "name": "ipython",
    "version": 3
   },
   "file_extension": ".py",
   "mimetype": "text/x-python",
   "name": "python",
   "nbconvert_exporter": "python",
   "pygments_lexer": "ipython3",
   "version": "3.9.5"
  }
 },
 "nbformat": 4,
 "nbformat_minor": 5
}
