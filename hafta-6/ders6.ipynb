{
 "cells": [
  {
   "cell_type": "markdown",
   "id": "20cdd13c",
   "metadata": {},
   "source": [
    "## Iterator'ler"
   ]
  },
  {
   "cell_type": "code",
   "execution_count": 1,
   "id": "82e59c96",
   "metadata": {},
   "outputs": [
    {
     "name": "stdout",
     "output_type": "stream",
     "text": [
      "P\n",
      "y\n",
      "t\n",
      "h\n",
      "o\n",
      "n\n"
     ]
    }
   ],
   "source": [
    "for harf in \"Python\":\n",
    "    print(harf)"
   ]
  },
  {
   "cell_type": "code",
   "execution_count": 2,
   "id": "f825e5d9",
   "metadata": {},
   "outputs": [
    {
     "name": "stdout",
     "output_type": "stream",
     "text": [
      "0\n",
      "1\n",
      "2\n",
      "3\n",
      "4\n",
      "5\n",
      "6\n",
      "7\n",
      "8\n",
      "9\n"
     ]
    }
   ],
   "source": [
    "for rakam in range(0,10):\n",
    "    print(rakam)"
   ]
  },
  {
   "cell_type": "code",
   "execution_count": 3,
   "id": "ecfac772",
   "metadata": {},
   "outputs": [
    {
     "name": "stdout",
     "output_type": "stream",
     "text": [
      "3\n",
      "1\n",
      "9\n",
      "12\n",
      "1\n"
     ]
    }
   ],
   "source": [
    "for rakam in [3,1,9,12,1]:\n",
    "    print(rakam)"
   ]
  },
  {
   "cell_type": "code",
   "execution_count": 8,
   "id": "b73e59c3",
   "metadata": {},
   "outputs": [],
   "source": [
    "def rakam_kup_al(n):\n",
    "    for rakam in range(n):\n",
    "        yield rakam**3"
   ]
  },
  {
   "cell_type": "code",
   "execution_count": 9,
   "id": "122b7a39",
   "metadata": {},
   "outputs": [
    {
     "data": {
      "text/plain": [
       "<generator object rakam_kup_al at 0x000002AFD75A0040>"
      ]
     },
     "execution_count": 9,
     "metadata": {},
     "output_type": "execute_result"
    }
   ],
   "source": [
    "rakam_kup_al(3)"
   ]
  },
  {
   "cell_type": "code",
   "execution_count": 10,
   "id": "afc5cff7",
   "metadata": {},
   "outputs": [
    {
     "name": "stdout",
     "output_type": "stream",
     "text": [
      "0\n",
      "1\n",
      "8\n",
      "27\n",
      "64\n"
     ]
    }
   ],
   "source": [
    "for x in rakam_kup_al(5):\n",
    "    print(x)"
   ]
  },
  {
   "cell_type": "code",
   "execution_count": 11,
   "id": "3d5809b3",
   "metadata": {},
   "outputs": [],
   "source": [
    "def ozel_seri_uret():\n",
    "    yield 1\n",
    "    yield 9\n",
    "    yield 12"
   ]
  },
  {
   "cell_type": "code",
   "execution_count": 12,
   "id": "bba9f3a5",
   "metadata": {},
   "outputs": [
    {
     "name": "stdout",
     "output_type": "stream",
     "text": [
      "1\n",
      "9\n",
      "12\n"
     ]
    }
   ],
   "source": [
    "for rakam in ozel_seri_uret():\n",
    "    print(rakam)"
   ]
  },
  {
   "cell_type": "code",
   "execution_count": 16,
   "id": "2946891a",
   "metadata": {},
   "outputs": [],
   "source": [
    "# Fibonacci serisi\n",
    "def fibonacci(n):\n",
    "    a = 1\n",
    "    b = 1\n",
    "    for i in range(n):\n",
    "        yield a\n",
    "        a, b = b, a+b"
   ]
  },
  {
   "cell_type": "code",
   "execution_count": 17,
   "id": "2c5f33af",
   "metadata": {},
   "outputs": [
    {
     "name": "stdout",
     "output_type": "stream",
     "text": [
      "1\n",
      "1\n",
      "2\n",
      "3\n",
      "5\n",
      "8\n",
      "13\n",
      "21\n",
      "34\n",
      "55\n"
     ]
    }
   ],
   "source": [
    "for fibo_rakam in fibonacci(10):\n",
    "    print(fibo_rakam)"
   ]
  },
  {
   "cell_type": "code",
   "execution_count": 19,
   "id": "85b3fd23",
   "metadata": {},
   "outputs": [],
   "source": [
    "def fibon_list(n):\n",
    "    a = 1\n",
    "    b = 1\n",
    "    out = []\n",
    "    for i in range(n):\n",
    "        out.append(a)\n",
    "        a, b = b, a+b\n",
    "    return out"
   ]
  },
  {
   "cell_type": "code",
   "execution_count": 20,
   "id": "f2a3c56d",
   "metadata": {},
   "outputs": [
    {
     "data": {
      "text/plain": [
       "[1, 1, 2, 3, 5, 8, 13, 21, 34, 55]"
      ]
     },
     "execution_count": 20,
     "metadata": {},
     "output_type": "execute_result"
    }
   ],
   "source": [
    "fibon_list(10)"
   ]
  },
  {
   "cell_type": "code",
   "execution_count": 21,
   "id": "67179b71",
   "metadata": {},
   "outputs": [],
   "source": [
    "# next() ve iter() fonksiyonları"
   ]
  },
  {
   "cell_type": "code",
   "execution_count": 22,
   "id": "3bf1f06e",
   "metadata": {},
   "outputs": [],
   "source": [
    "def basit_generator():\n",
    "    yield 0\n",
    "    yield 1\n",
    "    yield 2"
   ]
  },
  {
   "cell_type": "code",
   "execution_count": 23,
   "id": "d2d9be31",
   "metadata": {},
   "outputs": [],
   "source": [
    "g = basit_generator()"
   ]
  },
  {
   "cell_type": "code",
   "execution_count": 24,
   "id": "16e04e2f",
   "metadata": {},
   "outputs": [
    {
     "data": {
      "text/plain": [
       "0"
      ]
     },
     "execution_count": 24,
     "metadata": {},
     "output_type": "execute_result"
    }
   ],
   "source": [
    "next(g)"
   ]
  },
  {
   "cell_type": "code",
   "execution_count": 25,
   "id": "f7156124",
   "metadata": {},
   "outputs": [
    {
     "data": {
      "text/plain": [
       "1"
      ]
     },
     "execution_count": 25,
     "metadata": {},
     "output_type": "execute_result"
    }
   ],
   "source": [
    "next(g)"
   ]
  },
  {
   "cell_type": "code",
   "execution_count": 26,
   "id": "a726061f",
   "metadata": {},
   "outputs": [
    {
     "data": {
      "text/plain": [
       "2"
      ]
     },
     "execution_count": 26,
     "metadata": {},
     "output_type": "execute_result"
    }
   ],
   "source": [
    "next(g)"
   ]
  },
  {
   "cell_type": "code",
   "execution_count": 27,
   "id": "373d2ba4",
   "metadata": {},
   "outputs": [
    {
     "ename": "StopIteration",
     "evalue": "",
     "output_type": "error",
     "traceback": [
      "\u001b[1;31m---------------------------------------------------------------------------\u001b[0m",
      "\u001b[1;31mStopIteration\u001b[0m                             Traceback (most recent call last)",
      "\u001b[1;32m~\\AppData\\Local\\Temp/ipykernel_15724/1698365083.py\u001b[0m in \u001b[0;36m<module>\u001b[1;34m\u001b[0m\n\u001b[1;32m----> 1\u001b[1;33m \u001b[0mnext\u001b[0m\u001b[1;33m(\u001b[0m\u001b[0mg\u001b[0m\u001b[1;33m)\u001b[0m \u001b[1;31m# ?\u001b[0m\u001b[1;33m\u001b[0m\u001b[1;33m\u001b[0m\u001b[0m\n\u001b[0m",
      "\u001b[1;31mStopIteration\u001b[0m: "
     ]
    }
   ],
   "source": [
    "next(g) # ? hata üretir: StopIteration"
   ]
  },
  {
   "cell_type": "code",
   "execution_count": 28,
   "id": "85dda812",
   "metadata": {},
   "outputs": [
    {
     "name": "stdout",
     "output_type": "stream",
     "text": [
      "M\n",
      "e\n",
      "r\n",
      "h\n",
      "a\n",
      "b\n",
      "a\n"
     ]
    }
   ],
   "source": [
    "mesaj = \"Merhaba\"\n",
    "# Iteration\n",
    "for harf in mesaj:\n",
    "    print(harf)"
   ]
  },
  {
   "cell_type": "code",
   "execution_count": 29,
   "id": "fa73673d",
   "metadata": {},
   "outputs": [],
   "source": [
    "mesaj_iter = iter(mesaj)"
   ]
  },
  {
   "cell_type": "code",
   "execution_count": 30,
   "id": "bc071956",
   "metadata": {},
   "outputs": [
    {
     "data": {
      "text/plain": [
       "'M'"
      ]
     },
     "execution_count": 30,
     "metadata": {},
     "output_type": "execute_result"
    }
   ],
   "source": [
    "next(mesaj_iter)"
   ]
  },
  {
   "cell_type": "code",
   "execution_count": 31,
   "id": "b226c7ba",
   "metadata": {},
   "outputs": [
    {
     "data": {
      "text/plain": [
       "'e'"
      ]
     },
     "execution_count": 31,
     "metadata": {},
     "output_type": "execute_result"
    }
   ],
   "source": [
    "next(mesaj_iter)"
   ]
  },
  {
   "cell_type": "code",
   "execution_count": 32,
   "id": "c750c8d9",
   "metadata": {},
   "outputs": [
    {
     "data": {
      "text/plain": [
       "'r'"
      ]
     },
     "execution_count": 32,
     "metadata": {},
     "output_type": "execute_result"
    }
   ],
   "source": [
    "next(mesaj_iter)"
   ]
  },
  {
   "cell_type": "markdown",
   "id": "88b2e684",
   "metadata": {},
   "source": [
    "## Decorator'ler"
   ]
  },
  {
   "cell_type": "code",
   "execution_count": 36,
   "id": "74a8fc37",
   "metadata": {},
   "outputs": [],
   "source": [
    "def merhaba(isim=\"?\"):\n",
    "    print(f\"Merhaba {isim}\")\n",
    "    \n",
    "def hoscakal(isim=\"?\"):\n",
    "    print(f\"Görüşmek üzere, {isim}\")"
   ]
  },
  {
   "cell_type": "code",
   "execution_count": 37,
   "id": "2c2349ee",
   "metadata": {},
   "outputs": [
    {
     "name": "stdout",
     "output_type": "stream",
     "text": [
      "Merhaba Shahin\n",
      "Görüşmek üzere, Yaşar\n"
     ]
    }
   ],
   "source": [
    "merhaba(\"Shahin\")\n",
    "hoscakal(\"Yaşar\")"
   ]
  },
  {
   "cell_type": "code",
   "execution_count": 39,
   "id": "b6838949",
   "metadata": {},
   "outputs": [],
   "source": [
    "def fonksiyon_run(fonksiyon_ad,fonksiyon_arg):\n",
    "    fonksiyon_ad(fonksiyon_arg)"
   ]
  },
  {
   "cell_type": "code",
   "execution_count": 40,
   "id": "c66b65c6",
   "metadata": {},
   "outputs": [
    {
     "name": "stdout",
     "output_type": "stream",
     "text": [
      "Merhaba Zeynep\n"
     ]
    }
   ],
   "source": [
    "fonksiyon_run(merhaba, \"Zeynep\")"
   ]
  },
  {
   "cell_type": "code",
   "execution_count": 41,
   "id": "d07b2b3e",
   "metadata": {},
   "outputs": [
    {
     "name": "stdout",
     "output_type": "stream",
     "text": [
      "Görüşmek üzere, Fatih\n"
     ]
    }
   ],
   "source": [
    "fonksiyon_run(hoscakal, \"Fatih\")"
   ]
  },
  {
   "cell_type": "code",
   "execution_count": 42,
   "id": "be83a64f",
   "metadata": {},
   "outputs": [],
   "source": [
    "# Bir fonksiyon 'return' eden fonksiyonlar yazılabilir\n",
    "def fonksiyon_bankasi(saat=8):\n",
    "    def gunaydin():\n",
    "        print(\"Günaydın\")\n",
    "    \n",
    "    def merhaba():\n",
    "        print(\"Merhaba\")\n",
    "        \n",
    "    if saat < 12:\n",
    "        return gunaydin\n",
    "    else:\n",
    "        return merhaba\n",
    "        \n",
    "    "
   ]
  },
  {
   "cell_type": "code",
   "execution_count": 43,
   "id": "07a15a81",
   "metadata": {},
   "outputs": [],
   "source": [
    "x = fonksiyon_bankasi(7)"
   ]
  },
  {
   "cell_type": "code",
   "execution_count": 44,
   "id": "cab8a2b9",
   "metadata": {},
   "outputs": [
    {
     "data": {
      "text/plain": [
       "<function __main__.fonksiyon_bankasi.<locals>.gunaydin()>"
      ]
     },
     "execution_count": 44,
     "metadata": {},
     "output_type": "execute_result"
    }
   ],
   "source": [
    "x"
   ]
  },
  {
   "cell_type": "code",
   "execution_count": 45,
   "id": "89a11cef",
   "metadata": {},
   "outputs": [
    {
     "name": "stdout",
     "output_type": "stream",
     "text": [
      "Günaydın\n"
     ]
    }
   ],
   "source": [
    "x()"
   ]
  },
  {
   "cell_type": "code",
   "execution_count": 46,
   "id": "84a0ae36",
   "metadata": {},
   "outputs": [],
   "source": [
    "y = fonksiyon_bankasi(15)"
   ]
  },
  {
   "cell_type": "code",
   "execution_count": 47,
   "id": "4a2b8ba9",
   "metadata": {},
   "outputs": [
    {
     "name": "stdout",
     "output_type": "stream",
     "text": [
      "Merhaba\n"
     ]
    }
   ],
   "source": [
    "y()"
   ]
  },
  {
   "cell_type": "code",
   "execution_count": 48,
   "id": "5e3d9873",
   "metadata": {},
   "outputs": [
    {
     "data": {
      "text/plain": [
       "<function __main__.fonksiyon_bankasi.<locals>.merhaba()>"
      ]
     },
     "execution_count": 48,
     "metadata": {},
     "output_type": "execute_result"
    }
   ],
   "source": [
    "y"
   ]
  },
  {
   "cell_type": "code",
   "execution_count": 49,
   "id": "26c37868",
   "metadata": {},
   "outputs": [],
   "source": [
    "def run_func_2_defa(fonk):\n",
    "    def run_2_defa():\n",
    "        fonk()\n",
    "        fonk()\n",
    "    return run_2_defa"
   ]
  },
  {
   "cell_type": "code",
   "execution_count": 56,
   "id": "557ea62e",
   "metadata": {},
   "outputs": [],
   "source": [
    "def selam():\n",
    "    print(\"Merhaba\")"
   ]
  },
  {
   "cell_type": "code",
   "execution_count": 51,
   "id": "3c0c27c7",
   "metadata": {},
   "outputs": [],
   "source": [
    "x = run_func_2_defa(selam)"
   ]
  },
  {
   "cell_type": "code",
   "execution_count": 52,
   "id": "2c51b411",
   "metadata": {},
   "outputs": [
    {
     "name": "stdout",
     "output_type": "stream",
     "text": [
      "Merhaba\n",
      "Merhaba\n"
     ]
    }
   ],
   "source": [
    "x()"
   ]
  },
  {
   "cell_type": "code",
   "execution_count": 58,
   "id": "304df827",
   "metadata": {},
   "outputs": [],
   "source": [
    "@run_func_2_defa\n",
    "def selam_with_decorator():\n",
    "    print(\"Merhaba\")"
   ]
  },
  {
   "cell_type": "code",
   "execution_count": 57,
   "id": "2e66acef",
   "metadata": {},
   "outputs": [
    {
     "name": "stdout",
     "output_type": "stream",
     "text": [
      "Merhaba\n"
     ]
    }
   ],
   "source": [
    "selam()"
   ]
  },
  {
   "cell_type": "code",
   "execution_count": 59,
   "id": "137d569d",
   "metadata": {},
   "outputs": [
    {
     "name": "stdout",
     "output_type": "stream",
     "text": [
      "Merhaba\n",
      "Merhaba\n"
     ]
    }
   ],
   "source": [
    "selam_with_decorator()"
   ]
  },
  {
   "cell_type": "code",
   "execution_count": 60,
   "id": "2b103a90",
   "metadata": {},
   "outputs": [],
   "source": [
    "def decorator_with_argument(fonk):\n",
    "    def run_decorator(*args, **kwargs):\n",
    "        fonk(*args, **kwargs)\n",
    "        fonk(*args, **kwargs)\n",
    "    return run_decorator"
   ]
  },
  {
   "cell_type": "code",
   "execution_count": 61,
   "id": "800bee30",
   "metadata": {},
   "outputs": [],
   "source": [
    "def merhaba_with_isim(isim=\"?\"):\n",
    "    print(f\"Merhaba {isim}, bugün nasılsınız?\")"
   ]
  },
  {
   "cell_type": "code",
   "execution_count": 62,
   "id": "aae4819c",
   "metadata": {},
   "outputs": [
    {
     "name": "stdout",
     "output_type": "stream",
     "text": [
      "Merhaba Ali, bugün nasılsınız?\n"
     ]
    }
   ],
   "source": [
    "merhaba_with_isim(\"Ali\")"
   ]
  },
  {
   "cell_type": "code",
   "execution_count": 63,
   "id": "2b95f8f2",
   "metadata": {},
   "outputs": [],
   "source": [
    "@decorator_with_argument\n",
    "def merhaba_with_isim_decorator(isim=\"?\"):\n",
    "    print(f\"Merhaba {isim}, bugün nasılsınız?\")"
   ]
  },
  {
   "cell_type": "code",
   "execution_count": 64,
   "id": "f2e2b2c7",
   "metadata": {},
   "outputs": [
    {
     "name": "stdout",
     "output_type": "stream",
     "text": [
      "Merhaba Mehmet, bugün nasılsınız?\n",
      "Merhaba Mehmet, bugün nasılsınız?\n"
     ]
    }
   ],
   "source": [
    "merhaba_with_isim_decorator(\"Mehmet\")"
   ]
  },
  {
   "cell_type": "code",
   "execution_count": 65,
   "id": "6037c0af",
   "metadata": {},
   "outputs": [],
   "source": [
    "def topla(a,b):\n",
    "    return a + b"
   ]
  },
  {
   "cell_type": "code",
   "execution_count": 66,
   "id": "5b911d51",
   "metadata": {},
   "outputs": [],
   "source": [
    "def decorator_mix(fonk):\n",
    "    def yanlis_fonk(*args,**kwargs):\n",
    "        return 0\n",
    "    return yanlis_fonk"
   ]
  },
  {
   "cell_type": "code",
   "execution_count": 67,
   "id": "6e8cb148",
   "metadata": {},
   "outputs": [
    {
     "data": {
      "text/plain": [
       "7"
      ]
     },
     "execution_count": 67,
     "metadata": {},
     "output_type": "execute_result"
    }
   ],
   "source": [
    "topla(3,4)"
   ]
  },
  {
   "cell_type": "code",
   "execution_count": 68,
   "id": "e175330c",
   "metadata": {},
   "outputs": [],
   "source": [
    "@decorator_mix\n",
    "def topla_dec(a,b):\n",
    "    return a + b"
   ]
  },
  {
   "cell_type": "code",
   "execution_count": 69,
   "id": "03a51646",
   "metadata": {},
   "outputs": [
    {
     "data": {
      "text/plain": [
       "0"
      ]
     },
     "execution_count": 69,
     "metadata": {},
     "output_type": "execute_result"
    }
   ],
   "source": [
    "topla_dec(3,4)"
   ]
  },
  {
   "cell_type": "code",
   "execution_count": 70,
   "id": "607677fe",
   "metadata": {},
   "outputs": [
    {
     "data": {
      "text/plain": [
       "'topla'"
      ]
     },
     "execution_count": 70,
     "metadata": {},
     "output_type": "execute_result"
    }
   ],
   "source": [
    "topla.__name__"
   ]
  },
  {
   "cell_type": "code",
   "execution_count": 71,
   "id": "1e7fd402",
   "metadata": {},
   "outputs": [
    {
     "data": {
      "text/plain": [
       "'yanlis_fonk'"
      ]
     },
     "execution_count": 71,
     "metadata": {},
     "output_type": "execute_result"
    }
   ],
   "source": [
    "topla_dec.__name__"
   ]
  },
  {
   "cell_type": "code",
   "execution_count": 72,
   "id": "f59e7394",
   "metadata": {},
   "outputs": [
    {
     "data": {
      "text/plain": [
       "True"
      ]
     },
     "execution_count": 72,
     "metadata": {},
     "output_type": "execute_result"
    }
   ],
   "source": [
    "topla.__name__ == 'topla'"
   ]
  },
  {
   "cell_type": "code",
   "execution_count": 73,
   "id": "13729020",
   "metadata": {},
   "outputs": [
    {
     "data": {
      "text/plain": [
       "False"
      ]
     },
     "execution_count": 73,
     "metadata": {},
     "output_type": "execute_result"
    }
   ],
   "source": [
    "topla_dec.__name__ == 'topla_dec'"
   ]
  },
  {
   "cell_type": "code",
   "execution_count": 76,
   "id": "cc6ba300",
   "metadata": {},
   "outputs": [],
   "source": [
    "import functools\n",
    "\n",
    "def decorator_mix(fonk):\n",
    "    @functools.wraps(fonk)\n",
    "    def yanlis_fonk(*args,**kwargs):\n",
    "        return 0\n",
    "    return yanlis_fonk"
   ]
  },
  {
   "cell_type": "code",
   "execution_count": 77,
   "id": "8fc381ff",
   "metadata": {},
   "outputs": [],
   "source": [
    "@decorator_mix\n",
    "def topla_dec(a,b):\n",
    "    return a + b"
   ]
  },
  {
   "cell_type": "code",
   "execution_count": 78,
   "id": "51d9ba03",
   "metadata": {},
   "outputs": [
    {
     "data": {
      "text/plain": [
       "'topla_dec'"
      ]
     },
     "execution_count": 78,
     "metadata": {},
     "output_type": "execute_result"
    }
   ],
   "source": [
    "topla_dec.__name__"
   ]
  },
  {
   "cell_type": "code",
   "execution_count": 82,
   "id": "92077d77",
   "metadata": {},
   "outputs": [
    {
     "name": "stdout",
     "output_type": "stream",
     "text": [
      "333332833333500000\n",
      "Çalışma süresi 0.4502\n"
     ]
    }
   ],
   "source": [
    "# Decorator örnek\n",
    "# Bir fonksiyonun çalışma süresini hesaplamak istiyoruz.\n",
    "import time\n",
    "\n",
    "basla = time.perf_counter()\n",
    "\n",
    "sum = 0\n",
    "for i in range(1000000):\n",
    "    sum = sum + i**2\n",
    "print(sum)\n",
    "\n",
    "bitis = time.perf_counter()\n",
    "run_time = bitis - basla\n",
    "print(f\"Çalışma süresi {run_time:.4f}\")"
   ]
  },
  {
   "cell_type": "code",
   "execution_count": 85,
   "id": "a00af17a",
   "metadata": {},
   "outputs": [],
   "source": [
    "def kare_toplam(n):\n",
    "    sum = 0\n",
    "    for i in range(1000000):\n",
    "        sum = sum + i**2\n",
    "    return(sum)"
   ]
  },
  {
   "cell_type": "code",
   "execution_count": 86,
   "id": "44da50f1",
   "metadata": {},
   "outputs": [
    {
     "name": "stdout",
     "output_type": "stream",
     "text": [
      "Çalışma süresi 0.3961\n"
     ]
    }
   ],
   "source": [
    "basla = time.perf_counter()\n",
    "kare_toplam(1000000)\n",
    "bitis = time.perf_counter()\n",
    "run_time = bitis - basla\n",
    "print(f\"Çalışma süresi {run_time:.4f}\")"
   ]
  },
  {
   "cell_type": "code",
   "execution_count": 87,
   "id": "fc36effb",
   "metadata": {},
   "outputs": [],
   "source": [
    "# Decorator kullanarak\n",
    "def timer(func):\n",
    "    def timer_func(*args, **kwargs):\n",
    "        basla = time.perf_counter()\n",
    "        value = func(*args, **kwargs)\n",
    "        bitis = time.perf_counter()\n",
    "        run_time = bitis - basla\n",
    "        print(f\"Çalışma süresi {run_time:.4f}\")\n",
    "        return value\n",
    "    return timer_func"
   ]
  },
  {
   "cell_type": "code",
   "execution_count": 88,
   "id": "5ad761f2",
   "metadata": {},
   "outputs": [],
   "source": [
    "@timer\n",
    "def kare_toplam_dec(n):\n",
    "    sum = 0\n",
    "    for i in range(1000000):\n",
    "        sum = sum + i**2\n",
    "    return(sum)"
   ]
  },
  {
   "cell_type": "code",
   "execution_count": 121,
   "id": "36a7d75f",
   "metadata": {},
   "outputs": [
    {
     "name": "stdout",
     "output_type": "stream",
     "text": [
      "Çalışma süresi 0.4095\n",
      "333332833333500000\n"
     ]
    }
   ],
   "source": [
    "print(kare_toplam_dec(10000000))"
   ]
  },
  {
   "cell_type": "code",
   "execution_count": 91,
   "id": "af2211a9",
   "metadata": {},
   "outputs": [],
   "source": [
    "import numpy as np"
   ]
  },
  {
   "cell_type": "code",
   "execution_count": 114,
   "id": "e5cd1db0",
   "metadata": {},
   "outputs": [],
   "source": [
    "@timer\n",
    "def kare_toplam_numpy(n):\n",
    "    seri = np.arange(n)\n",
    "    return np.sum(seri**2)"
   ]
  },
  {
   "cell_type": "code",
   "execution_count": 129,
   "id": "5cb951eb",
   "metadata": {},
   "outputs": [
    {
     "name": "stdout",
     "output_type": "stream",
     "text": [
      "Çalışma süresi 0.0512\n"
     ]
    },
    {
     "data": {
      "text/plain": [
       "-1039031360"
      ]
     },
     "execution_count": 129,
     "metadata": {},
     "output_type": "execute_result"
    }
   ],
   "source": [
    "kare_toplam_numpy(10000000)"
   ]
  },
  {
   "cell_type": "code",
   "execution_count": 93,
   "id": "1608f3b9",
   "metadata": {},
   "outputs": [
    {
     "data": {
      "text/plain": [
       "285"
      ]
     },
     "execution_count": 93,
     "metadata": {},
     "output_type": "execute_result"
    }
   ],
   "source": [
    "np.sum(seri**2)"
   ]
  },
  {
   "cell_type": "markdown",
   "id": "f52cb37d",
   "metadata": {},
   "source": [
    "## DataClass"
   ]
  },
  {
   "cell_type": "code",
   "execution_count": 130,
   "id": "3441d875",
   "metadata": {},
   "outputs": [],
   "source": [
    "# Python Class\n",
    "class Araba:\n",
    "    def __init__(self, model, sene):\n",
    "        self.model = model\n",
    "        self.sene = sene"
   ]
  },
  {
   "cell_type": "code",
   "execution_count": 131,
   "id": "72e591b1",
   "metadata": {},
   "outputs": [],
   "source": [
    "araba1 = Araba(\"Nissan\",2015)"
   ]
  },
  {
   "cell_type": "code",
   "execution_count": 132,
   "id": "b31f20b5",
   "metadata": {},
   "outputs": [],
   "source": [
    "araba2 = Araba(\"Mercedes\", 2019)"
   ]
  },
  {
   "cell_type": "code",
   "execution_count": 134,
   "id": "f668957b",
   "metadata": {},
   "outputs": [
    {
     "data": {
      "text/plain": [
       "'Nissan'"
      ]
     },
     "execution_count": 134,
     "metadata": {},
     "output_type": "execute_result"
    }
   ],
   "source": [
    "araba1.model"
   ]
  },
  {
   "cell_type": "code",
   "execution_count": 135,
   "id": "4af7d296",
   "metadata": {},
   "outputs": [],
   "source": [
    "# Data Class\n",
    "from dataclasses import dataclass"
   ]
  },
  {
   "cell_type": "code",
   "execution_count": 136,
   "id": "4a6eabb4",
   "metadata": {},
   "outputs": [],
   "source": [
    "@dataclass\n",
    "class Araba_DC:\n",
    "    model: str\n",
    "    sene: int"
   ]
  },
  {
   "cell_type": "code",
   "execution_count": 139,
   "id": "f9ffcd82",
   "metadata": {},
   "outputs": [],
   "source": [
    "araba3 = Araba_DC(\"Tesla\",2022)"
   ]
  },
  {
   "cell_type": "code",
   "execution_count": 140,
   "id": "14587eb9",
   "metadata": {},
   "outputs": [],
   "source": [
    "araba4 = Araba_DC(\"TOGG\", 2023)"
   ]
  },
  {
   "cell_type": "code",
   "execution_count": 141,
   "id": "6c355d46",
   "metadata": {},
   "outputs": [
    {
     "data": {
      "text/plain": [
       "'TOGG'"
      ]
     },
     "execution_count": 141,
     "metadata": {},
     "output_type": "execute_result"
    }
   ],
   "source": [
    "araba4.model"
   ]
  },
  {
   "cell_type": "code",
   "execution_count": null,
   "id": "15326183",
   "metadata": {},
   "outputs": [],
   "source": [
    "# !pip install dataclasses"
   ]
  },
  {
   "cell_type": "code",
   "execution_count": 180,
   "id": "a84167bf",
   "metadata": {},
   "outputs": [
    {
     "data": {
      "text/plain": [
       "27"
      ]
     },
     "execution_count": 180,
     "metadata": {},
     "output_type": "execute_result"
    }
   ],
   "source": [
    "# Yield kullanarak 0 ve 100 arasında bir rasgele tamsayı üreten bir generator fonksiyonu oluşturunuz.\n",
    "np.random.randint(100)"
   ]
  },
  {
   "cell_type": "code",
   "execution_count": 242,
   "id": "d6096a62",
   "metadata": {},
   "outputs": [],
   "source": [
    "def rasgele_rakam(n):\n",
    "    while True:\n",
    "        yield np.random.randint(100)"
   ]
  },
  {
   "cell_type": "code",
   "execution_count": 212,
   "id": "69dccee5",
   "metadata": {},
   "outputs": [
    {
     "name": "stdout",
     "output_type": "stream",
     "text": [
      "<generator object rasgele_rakam at 0x000002AFDDA16F20>\n"
     ]
    }
   ],
   "source": [
    "print(rasgele_rakam(100)"
   ]
  },
  {
   "cell_type": "code",
   "execution_count": 235,
   "id": "ad53b62f",
   "metadata": {},
   "outputs": [
    {
     "name": "stdout",
     "output_type": "stream",
     "text": [
      "39\n"
     ]
    }
   ],
   "source": [
    "for rnd in rasgele_rakam(100):\n",
    "    print(rnd)"
   ]
  },
  {
   "cell_type": "code",
   "execution_count": 243,
   "id": "2cfc88f7",
   "metadata": {},
   "outputs": [],
   "source": [
    "rsg_gen = rasgele_rakam(100)"
   ]
  },
  {
   "cell_type": "code",
   "execution_count": 247,
   "id": "c349b298",
   "metadata": {},
   "outputs": [
    {
     "data": {
      "text/plain": [
       "38"
      ]
     },
     "execution_count": 247,
     "metadata": {},
     "output_type": "execute_result"
    }
   ],
   "source": [
    "next(rsg_gen)"
   ]
  },
  {
   "cell_type": "code",
   "execution_count": 250,
   "id": "2134ab86",
   "metadata": {},
   "outputs": [],
   "source": [
    "# Decorator\n",
    "def personel_girisleri(isim=\"?\",giris=True):\n",
    "    if(giris):\n",
    "        print(f\"{isim} giriş yaptı.\")\n",
    "    else:\n",
    "        print(f\"{isim} çıkış yaptı.\")\n",
    "    "
   ]
  },
  {
   "cell_type": "code",
   "execution_count": 251,
   "id": "db8b119a",
   "metadata": {},
   "outputs": [
    {
     "name": "stdout",
     "output_type": "stream",
     "text": [
      "Yaşar giriş yaptı.\n"
     ]
    }
   ],
   "source": [
    "personel_girisleri(\"Yaşar\", True)"
   ]
  },
  {
   "cell_type": "code",
   "execution_count": 253,
   "id": "669f7488",
   "metadata": {},
   "outputs": [
    {
     "name": "stdout",
     "output_type": "stream",
     "text": [
      "Yaşar çıkış yaptı.\n"
     ]
    }
   ],
   "source": [
    "personel_girisleri(\"Yaşar\", False)"
   ]
  },
  {
   "cell_type": "code",
   "execution_count": 258,
   "id": "02f6aa87",
   "metadata": {},
   "outputs": [
    {
     "name": "stdout",
     "output_type": "stream",
     "text": [
      "17:07:32\n"
     ]
    }
   ],
   "source": [
    "from datetime import datetime\n",
    "now = datetime.now()\n",
    "su_an= now.strftime(\"%H:%M:%S\")\n",
    "print(su_an)"
   ]
  },
  {
   "cell_type": "code",
   "execution_count": 259,
   "id": "c196ca7c",
   "metadata": {},
   "outputs": [],
   "source": [
    "def zaman_etiketi_ekle(fonk):\n",
    "    def ekle_ts(*args, **kwargs):\n",
    "        now = datetime.now()\n",
    "        su_an= now.strftime(\"%H:%M:%S\")\n",
    "        print(su_an)\n",
    "        fonk(*args, **kwargs)\n",
    "    return ekle_ts"
   ]
  },
  {
   "cell_type": "code",
   "execution_count": 260,
   "id": "b627ef71",
   "metadata": {},
   "outputs": [],
   "source": [
    "@zaman_etiketi_ekle\n",
    "def personel_girisleri_dec(isim=\"?\",giris=True): \n",
    "    if(giris):\n",
    "        print(f\"{isim} giriş yaptı.\")\n",
    "    else:\n",
    "        print(f\"{isim} çıkış yaptı.\")"
   ]
  },
  {
   "cell_type": "code",
   "execution_count": 261,
   "id": "59553db2",
   "metadata": {},
   "outputs": [
    {
     "name": "stdout",
     "output_type": "stream",
     "text": [
      "17:10:10\n",
      "Fatih giriş yaptı.\n"
     ]
    }
   ],
   "source": [
    "personel_girisleri_dec(\"Fatih\",True)"
   ]
  },
  {
   "cell_type": "code",
   "execution_count": 262,
   "id": "1c4f5866",
   "metadata": {},
   "outputs": [
    {
     "name": "stdout",
     "output_type": "stream",
     "text": [
      "17:10:27\n",
      "Fatih çıkış yaptı.\n"
     ]
    }
   ],
   "source": [
    "personel_girisleri_dec(\"Fatih\",False)"
   ]
  },
  {
   "cell_type": "code",
   "execution_count": null,
   "id": "278e4e7c",
   "metadata": {},
   "outputs": [],
   "source": [
    "# Öğrenci için DataClass oluşturunuz."
   ]
  },
  {
   "cell_type": "code",
   "execution_count": 267,
   "id": "177af9f5",
   "metadata": {},
   "outputs": [],
   "source": [
    "# Fatih Bayram\n",
    "@dataclass\n",
    "class Student:\n",
    "    name : str \n",
    "    number : int\n",
    "    idn : int"
   ]
  },
  {
   "cell_type": "code",
   "execution_count": 269,
   "id": "8e5cf4bc",
   "metadata": {},
   "outputs": [],
   "source": [
    "# Zeynep\n",
    "@dataclass\n",
    "class Ogrenci_DC2:\n",
    "    isim:str \n",
    "    soyisim:str \n",
    "    numara:int"
   ]
  },
  {
   "cell_type": "code",
   "execution_count": 270,
   "id": "abf1c27a",
   "metadata": {},
   "outputs": [],
   "source": [
    "# Çelebi\n",
    "@dataclass\n",
    "class Ogrenci_DC:\n",
    "    number: int\n",
    "    name: str\n",
    "    alan: str"
   ]
  },
  {
   "cell_type": "code",
   "execution_count": 271,
   "id": "d25c8e38",
   "metadata": {},
   "outputs": [],
   "source": [
    "# Kullanım:\n",
    "ogrenci1 = Student(\"Fatih Bayram\",9192838,29482148237491)"
   ]
  },
  {
   "cell_type": "code",
   "execution_count": 272,
   "id": "aae581a4",
   "metadata": {},
   "outputs": [],
   "source": [
    "ogrenci2 = Ogrenci_DC2(\"Zeynep\",\"Çakır\",2923923)"
   ]
  },
  {
   "cell_type": "code",
   "execution_count": 273,
   "id": "5f6043b2",
   "metadata": {},
   "outputs": [],
   "source": [
    "ogrenci3 = Ogrenci_DC(9923293,\"Çelebi\",\"alan\")"
   ]
  },
  {
   "cell_type": "code",
   "execution_count": 275,
   "id": "a7d5ef42",
   "metadata": {},
   "outputs": [],
   "source": [
    "test = Ogrenci_DC(9923293,\"Çelebi\",8555)"
   ]
  },
  {
   "cell_type": "code",
   "execution_count": 276,
   "id": "173bae25",
   "metadata": {},
   "outputs": [
    {
     "data": {
      "text/plain": [
       "8555"
      ]
     },
     "execution_count": 276,
     "metadata": {},
     "output_type": "execute_result"
    }
   ],
   "source": [
    "test.alan"
   ]
  },
  {
   "cell_type": "code",
   "execution_count": null,
   "id": "1e44c9f4",
   "metadata": {},
   "outputs": [],
   "source": [
    "# https://www.youtube.com/watch?v=T-TwcmT6Rcw"
   ]
  }
 ],
 "metadata": {
  "kernelspec": {
   "display_name": "Python 3 (ipykernel)",
   "language": "python",
   "name": "python3"
  },
  "language_info": {
   "codemirror_mode": {
    "name": "ipython",
    "version": 3
   },
   "file_extension": ".py",
   "mimetype": "text/x-python",
   "name": "python",
   "nbconvert_exporter": "python",
   "pygments_lexer": "ipython3",
   "version": "3.9.5"
  }
 },
 "nbformat": 4,
 "nbformat_minor": 5
}
